{
 "cells": [
  {
   "cell_type": "code",
   "execution_count": 1,
   "metadata": {},
   "outputs": [
    {
     "name": "stdout",
     "output_type": "stream",
     "text": [
      "Collecting SpeechRecognition\n",
      "  Downloading https://files.pythonhosted.org/packages/26/e1/7f5678cd94ec1234269d23756dbdaa4c8cfaed973412f88ae8adf7893a50/SpeechRecognition-3.8.1-py2.py3-none-any.whl (32.8MB)\n",
      "Installing collected packages: SpeechRecognition\n",
      "Successfully installed SpeechRecognition-3.8.1\n"
     ]
    }
   ],
   "source": [
    "!pip install SpeechRecognition"
   ]
  },
  {
   "cell_type": "code",
   "execution_count": 2,
   "metadata": {},
   "outputs": [
    {
     "name": "stdout",
     "output_type": "stream",
     "text": [
      "Collecting PyAudio\n",
      "  Downloading https://files.pythonhosted.org/packages/ab/42/b4f04721c5c5bfc196ce156b3c768998ef8c0ae3654ed29ea5020c749a6b/PyAudio-0.2.11.tar.gz\n",
      "Installing collected packages: PyAudio\n",
      "    Running setup.py install for PyAudio: started\n",
      "    Running setup.py install for PyAudio: finished with status 'error'\n"
     ]
    },
    {
     "name": "stderr",
     "output_type": "stream",
     "text": [
      "    ERROR: Command errored out with exit status 1:\n",
      "     command: 'c:\\python\\python.exe' -u -c 'import sys, setuptools, tokenize; sys.argv[0] = '\"'\"'C:\\\\Users\\\\evren\\\\AppData\\\\Local\\\\Temp\\\\pip-install-nnv5igof\\\\PyAudio\\\\setup.py'\"'\"'; __file__='\"'\"'C:\\\\Users\\\\evren\\\\AppData\\\\Local\\\\Temp\\\\pip-install-nnv5igof\\\\PyAudio\\\\setup.py'\"'\"';f=getattr(tokenize, '\"'\"'open'\"'\"', open)(__file__);code=f.read().replace('\"'\"'\\r\\n'\"'\"', '\"'\"'\\n'\"'\"');f.close();exec(compile(code, __file__, '\"'\"'exec'\"'\"'))' install --record 'C:\\Users\\evren\\AppData\\Local\\Temp\\pip-record-j6gmmcjx\\install-record.txt' --single-version-externally-managed --compile\n",
      "         cwd: C:\\Users\\evren\\AppData\\Local\\Temp\\pip-install-nnv5igof\\PyAudio\\\n",
      "    Complete output (17 lines):\n",
      "    running install\n",
      "    running build\n",
      "    running build_py\n",
      "    creating build\n",
      "    creating build\\lib.win-amd64-3.7\n",
      "    copying src\\pyaudio.py -> build\\lib.win-amd64-3.7\n",
      "    running build_ext\n",
      "    building '_portaudio' extension\n",
      "    creating build\\temp.win-amd64-3.7\n",
      "    creating build\\temp.win-amd64-3.7\\Release\n",
      "    creating build\\temp.win-amd64-3.7\\Release\\src\n",
      "    C:\\Program Files (x86)\\Microsoft Visual Studio\\2019\\Community\\VC\\Tools\\MSVC\\14.23.28105\\bin\\HostX86\\x64\\cl.exe /c /nologo /Ox /W3 /GL /DNDEBUG /MD -DMS_WIN64=1 -Ic:\\python\\include -Ic:\\python\\include \"-IC:\\Program Files (x86)\\Microsoft Visual Studio\\2019\\Community\\VC\\Tools\\MSVC\\14.23.28105\\ATLMFC\\include\" \"-IC:\\Program Files (x86)\\Microsoft Visual Studio\\2019\\Community\\VC\\Tools\\MSVC\\14.23.28105\\include\" \"-IC:\\Program Files (x86)\\Windows Kits\\NETFXSDK\\4.8\\include\\um\" \"-ID:\\Windows Kits\\10\\include\\10.0.18362.0\\ucrt\" \"-ID:\\Windows Kits\\10\\include\\10.0.18362.0\\shared\" \"-ID:\\Windows Kits\\10\\include\\10.0.18362.0\\um\" \"-ID:\\Windows Kits\\10\\include\\10.0.18362.0\\winrt\" \"-ID:\\Windows Kits\\10\\include\\10.0.18362.0\\cppwinrt\" /Tcsrc/_portaudiomodule.c /Fobuild\\temp.win-amd64-3.7\\Release\\src/_portaudiomodule.obj\n",
      "    _portaudiomodule.c\n",
      "    c:\\python\\include\\pyconfig.h(117): warning C4005: 'MS_WIN64': macro redefinition\n",
      "    src/_portaudiomodule.c: note: see previous definition of 'MS_WIN64'\n",
      "    src/_portaudiomodule.c(29): fatal error C1083: Cannot open include file: 'portaudio.h': No such file or directory\n",
      "    error: command 'C:\\\\Program Files (x86)\\\\Microsoft Visual Studio\\\\2019\\\\Community\\\\VC\\\\Tools\\\\MSVC\\\\14.23.28105\\\\bin\\\\HostX86\\\\x64\\\\cl.exe' failed with exit status 2\n",
      "    ----------------------------------------\n",
      "ERROR: Command errored out with exit status 1: 'c:\\python\\python.exe' -u -c 'import sys, setuptools, tokenize; sys.argv[0] = '\"'\"'C:\\\\Users\\\\evren\\\\AppData\\\\Local\\\\Temp\\\\pip-install-nnv5igof\\\\PyAudio\\\\setup.py'\"'\"'; __file__='\"'\"'C:\\\\Users\\\\evren\\\\AppData\\\\Local\\\\Temp\\\\pip-install-nnv5igof\\\\PyAudio\\\\setup.py'\"'\"';f=getattr(tokenize, '\"'\"'open'\"'\"', open)(__file__);code=f.read().replace('\"'\"'\\r\\n'\"'\"', '\"'\"'\\n'\"'\"');f.close();exec(compile(code, __file__, '\"'\"'exec'\"'\"'))' install --record 'C:\\Users\\evren\\AppData\\Local\\Temp\\pip-record-j6gmmcjx\\install-record.txt' --single-version-externally-managed --compile Check the logs for full command output.\n"
     ]
    }
   ],
   "source": [
    "!pip install PyAudio"
   ]
  },
  {
   "cell_type": "code",
   "execution_count": null,
   "metadata": {},
   "outputs": [],
   "source": []
  }
 ],
 "metadata": {
  "kernelspec": {
   "display_name": "Python 3",
   "language": "python",
   "name": "python3"
  },
  "language_info": {
   "codemirror_mode": {
    "name": "ipython",
    "version": 3
   },
   "file_extension": ".py",
   "mimetype": "text/x-python",
   "name": "python",
   "nbconvert_exporter": "python",
   "pygments_lexer": "ipython3",
   "version": "3.7.4"
  }
 },
 "nbformat": 4,
 "nbformat_minor": 2
}
