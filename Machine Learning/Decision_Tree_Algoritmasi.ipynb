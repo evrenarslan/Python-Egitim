{
 "cells": [
  {
   "cell_type": "code",
   "execution_count": 1,
   "metadata": {},
   "outputs": [],
   "source": [
    "import numpy as np \n",
    "import pandas as pd\n",
    "from sklearn.tree import DecisionTreeClassifier"
   ]
  },
  {
   "cell_type": "code",
   "execution_count": 7,
   "metadata": {},
   "outputs": [
    {
     "data": {
      "text/html": [
       "<div>\n",
       "<style scoped>\n",
       "    .dataframe tbody tr th:only-of-type {\n",
       "        vertical-align: middle;\n",
       "    }\n",
       "\n",
       "    .dataframe tbody tr th {\n",
       "        vertical-align: top;\n",
       "    }\n",
       "\n",
       "    .dataframe thead th {\n",
       "        text-align: right;\n",
       "    }\n",
       "</style>\n",
       "<table border=\"1\" class=\"dataframe\">\n",
       "  <thead>\n",
       "    <tr style=\"text-align: right;\">\n",
       "      <th></th>\n",
       "      <th>Yas</th>\n",
       "      <th>Cinsiyet</th>\n",
       "      <th>Tansiyon</th>\n",
       "      <th>Kolestrol</th>\n",
       "      <th>SoPo_Oran</th>\n",
       "      <th>İlaç</th>\n",
       "    </tr>\n",
       "  </thead>\n",
       "  <tbody>\n",
       "    <tr>\n",
       "      <th>0</th>\n",
       "      <td>23</td>\n",
       "      <td>K</td>\n",
       "      <td>YÜKSEK</td>\n",
       "      <td>YÜKSEK</td>\n",
       "      <td>25.355</td>\n",
       "      <td>ilacY</td>\n",
       "    </tr>\n",
       "    <tr>\n",
       "      <th>1</th>\n",
       "      <td>47</td>\n",
       "      <td>E</td>\n",
       "      <td>DÜŞÜK</td>\n",
       "      <td>YÜKSEK</td>\n",
       "      <td>13.093</td>\n",
       "      <td>ilacC</td>\n",
       "    </tr>\n",
       "    <tr>\n",
       "      <th>2</th>\n",
       "      <td>47</td>\n",
       "      <td>E</td>\n",
       "      <td>DÜŞÜK</td>\n",
       "      <td>YÜKSEK</td>\n",
       "      <td>10.114</td>\n",
       "      <td>ilacC</td>\n",
       "    </tr>\n",
       "    <tr>\n",
       "      <th>3</th>\n",
       "      <td>28</td>\n",
       "      <td>K</td>\n",
       "      <td>NORMAL</td>\n",
       "      <td>YÜKSEK</td>\n",
       "      <td>7.798</td>\n",
       "      <td>ilacX</td>\n",
       "    </tr>\n",
       "    <tr>\n",
       "      <th>4</th>\n",
       "      <td>61</td>\n",
       "      <td>K</td>\n",
       "      <td>DÜŞÜK</td>\n",
       "      <td>YÜKSEK</td>\n",
       "      <td>18.043</td>\n",
       "      <td>ilacY</td>\n",
       "    </tr>\n",
       "  </tbody>\n",
       "</table>\n",
       "</div>"
      ],
      "text/plain": [
       "   Yas Cinsiyet Tansiyon Kolestrol  SoPo_Oran   İlaç\n",
       "0   23        K   YÜKSEK    YÜKSEK     25.355  ilacY\n",
       "1   47        E    DÜŞÜK    YÜKSEK     13.093  ilacC\n",
       "2   47        E    DÜŞÜK    YÜKSEK     10.114  ilacC\n",
       "3   28        K   NORMAL    YÜKSEK      7.798  ilacX\n",
       "4   61        K    DÜŞÜK    YÜKSEK     18.043  ilacY"
      ]
     },
     "execution_count": 7,
     "metadata": {},
     "output_type": "execute_result"
    }
   ],
   "source": [
    "df=pd.read_csv(\"ilac_tahmin.csv\")\n",
    "df.head()"
   ]
  },
  {
   "cell_type": "code",
   "execution_count": null,
   "metadata": {},
   "outputs": [],
   "source": []
  }
 ],
 "metadata": {
  "kernelspec": {
   "display_name": "Python 3",
   "language": "python",
   "name": "python3"
  },
  "language_info": {
   "codemirror_mode": {
    "name": "ipython",
    "version": 3
   },
   "file_extension": ".py",
   "mimetype": "text/x-python",
   "name": "python",
   "nbconvert_exporter": "python",
   "pygments_lexer": "ipython3",
   "version": "3.8.2"
  }
 },
 "nbformat": 4,
 "nbformat_minor": 4
}
