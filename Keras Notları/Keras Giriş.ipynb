{
 "cells": [
  {
   "cell_type": "markdown",
   "metadata": {},
   "source": [
    "# Keras İlk Örnek"
   ]
  },
  {
   "cell_type": "code",
   "execution_count": 5,
   "metadata": {},
   "outputs": [],
   "source": [
    "# Örnek veri setini yüklemek\n",
    "from keras.datasets import mnist\n",
    "(train_images,train_labels),(test_images,test_labels)=mnist.load_data()"
   ]
  },
  {
   "cell_type": "markdown",
   "metadata": {},
   "source": [
    "Burada <code>train_images</code> ve <code>train_labes</code> modelimizi eğitmek için kullanacağımız veri setidir. <code>test_images</code> ve <code>test_labes</code> ise verilerimizi test etmek için kullanacağımız veri setidir. Veri setlerinin içerisinde image ve label bire bir eşleşmişlerdir. Görüntüler 0 ile 9 arasında sayılardan oluşan numpy dizileridir."
   ]
  },
  {
   "cell_type": "code",
   "execution_count": 6,
   "metadata": {},
   "outputs": [
    {
     "data": {
      "text/plain": [
       "(60000, 28, 28)"
      ]
     },
     "execution_count": 6,
     "metadata": {},
     "output_type": "execute_result"
    }
   ],
   "source": [
    "train_images.shape"
   ]
  },
  {
   "cell_type": "code",
   "execution_count": 7,
   "metadata": {},
   "outputs": [
    {
     "data": {
      "text/plain": [
       "array([5, 0, 4, ..., 5, 6, 8], dtype=uint8)"
      ]
     },
     "execution_count": 7,
     "metadata": {},
     "output_type": "execute_result"
    }
   ],
   "source": [
    "train_labels"
   ]
  },
  {
   "cell_type": "code",
   "execution_count": 8,
   "metadata": {},
   "outputs": [
    {
     "data": {
      "text/plain": [
       "(10000, 28, 28)"
      ]
     },
     "execution_count": 8,
     "metadata": {},
     "output_type": "execute_result"
    }
   ],
   "source": [
    "test_images.shape"
   ]
  },
  {
   "cell_type": "code",
   "execution_count": 9,
   "metadata": {},
   "outputs": [
    {
     "data": {
      "text/plain": [
       "array([7, 2, 1, ..., 4, 5, 6], dtype=uint8)"
      ]
     },
     "execution_count": 9,
     "metadata": {},
     "output_type": "execute_result"
    }
   ],
   "source": [
    "test_labels"
   ]
  },
  {
   "cell_type": "markdown",
   "metadata": {},
   "source": [
    "İlk olarak train datasetleri ile modelimizi eğitecek daha sonra test datasetleri ile modelimizi test edeceğiz."
   ]
  },
  {
   "cell_type": "markdown",
   "metadata": {},
   "source": [
    "ilk olarak ağımızı kuralım"
   ]
  },
  {
   "cell_type": "code",
   "execution_count": 11,
   "metadata": {},
   "outputs": [],
   "source": [
    "from keras import models\n",
    "from keras import layers\n",
    "\n",
    "network=models.Sequential()\n",
    "network.add(layers.Dense(512, activation=\"relu\",input_shape=(28*28,))) # Modeli eğitmek için veriyi alan katman\n",
    "network.add(layers.Dense(10,activation=\"softmax\")) # Eğitim sonrası çıktıları toplayan katman."
   ]
  },
  {
   "cell_type": "code",
   "execution_count": 12,
   "metadata": {},
   "outputs": [],
   "source": [
    "#Modelin eğitilebilmesi için 3 şeyin daha derleme adımı olarak tanımlanması gerekiyor.\n",
    "\n",
    "network.compile(optimizer=\"rmsprop\",loss=\"categorical_crossentropy\",metrics=[\"accuracy\"])\n",
    "\n",
    "#optimizer: Ağın çıktıyı eniyileştirmek için kendini güncelleştirme mekanizması\n",
    "#loss: Ağın train veri seti üzerindeki kendi çıktı kalitesini ölçmesini sağlayan mekanizma\n",
    "# metrics: Ağın hangi metriklere göre karar vereceğini belirten parametre"
   ]
  },
  {
   "cell_type": "markdown",
   "metadata": {},
   "source": [
    "Verilerin hazırlanması: Eğitime başlamadan önce tüm verilerimizi 0-1 arasında ölçeklendiriyoruz. Aynı zamanda verilerimizi 28*28 matris olarak biçimlendiriyoruz."
   ]
  },
  {
   "cell_type": "code",
   "execution_count": 13,
   "metadata": {},
   "outputs": [],
   "source": [
    "train_images=train_images.reshape((60000,28*28))\n",
    "train_images=train_images.astype(\"float32\")/255\n",
    "\n",
    "test_images=test_images.reshape((10000,28*28))\n",
    "test_images=test_images.astype(\"float32\")/255\n"
   ]
  },
  {
   "cell_type": "markdown",
   "metadata": {},
   "source": [
    "Sonrasında etiketleri hazırlamamız gerekiyor. Bunları kategorik olarak olarak etiketleyeceğiz"
   ]
  },
  {
   "cell_type": "code",
   "execution_count": 14,
   "metadata": {},
   "outputs": [],
   "source": [
    "from keras.utils import to_categorical\n",
    "\n",
    "train_labels=to_categorical(train_labels)\n",
    "test_labels=to_categorical(test_labels)"
   ]
  },
  {
   "cell_type": "markdown",
   "metadata": {},
   "source": [
    "Artık modelimizi eğitebiliriz. Bunun için <code>fit</code> metodunu kullanıyoruz."
   ]
  },
  {
   "cell_type": "code",
   "execution_count": 16,
   "metadata": {},
   "outputs": [
    {
     "name": "stdout",
     "output_type": "stream",
     "text": [
      "Epoch 1/5\n",
      "60000/60000 [==============================] - 2s 39us/step - loss: 0.2583 - accuracy: 0.9253\n",
      "Epoch 2/5\n",
      "60000/60000 [==============================] - 2s 37us/step - loss: 0.1039 - accuracy: 0.9690\n",
      "Epoch 3/5\n",
      "60000/60000 [==============================] - 2s 38us/step - loss: 0.0690 - accuracy: 0.9794\n",
      "Epoch 4/5\n",
      "60000/60000 [==============================] - 2s 36us/step - loss: 0.0503 - accuracy: 0.9846\n",
      "Epoch 5/5\n",
      "60000/60000 [==============================] - 2s 36us/step - loss: 0.0377 - accuracy: 0.9886\n"
     ]
    },
    {
     "data": {
      "text/plain": [
       "<keras.callbacks.callbacks.History at 0x19236f61b08>"
      ]
     },
     "execution_count": 16,
     "metadata": {},
     "output_type": "execute_result"
    }
   ],
   "source": [
    "network.fit(train_images,train_labels,epochs=5,batch_size=128)"
   ]
  },
  {
   "cell_type": "markdown",
   "metadata": {},
   "source": [
    "Şimdi de test veri seti üzerinde modelimizi sınayalım"
   ]
  },
  {
   "cell_type": "code",
   "execution_count": 17,
   "metadata": {},
   "outputs": [
    {
     "name": "stdout",
     "output_type": "stream",
     "text": [
      "10000/10000 [==============================] - 0s 25us/step\n",
      "test_acc:  0.9794999957084656\n"
     ]
    }
   ],
   "source": [
    "test_loss,test_acc=network.evaluate(test_images,test_labels)\n",
    "print(\"test_acc: \",test_acc)"
   ]
  },
  {
   "cell_type": "code",
   "execution_count": null,
   "metadata": {},
   "outputs": [],
   "source": []
  }
 ],
 "metadata": {
  "kernelspec": {
   "display_name": "Python 3",
   "language": "python",
   "name": "python3"
  },
  "language_info": {
   "codemirror_mode": {
    "name": "ipython",
    "version": 3
   },
   "file_extension": ".py",
   "mimetype": "text/x-python",
   "name": "python",
   "nbconvert_exporter": "python",
   "pygments_lexer": "ipython3",
   "version": "3.7.4"
  }
 },
 "nbformat": 4,
 "nbformat_minor": 2
}
