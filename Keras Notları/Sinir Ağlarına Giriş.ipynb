{
 "cells": [
  {
   "cell_type": "markdown",
   "metadata": {},
   "source": [
    "# Tam sayı dizileri ikili matris haline dönüştürmek\n",
    "\n",
    "Elimizde bulunan bir sayı dizisini olduğu gibi bir sinir ağına gönderirsek bu çalışmaz öncelikli olarak bu listenin bir tensöre dönüştürülmesi gerekiyor"
   ]
  },
  {
   "cell_type": "code",
   "execution_count": 1,
   "metadata": {},
   "outputs": [],
   "source": [
    "import numpy as np"
   ]
  },
  {
   "cell_type": "code",
   "execution_count": 2,
   "metadata": {},
   "outputs": [
    {
     "name": "stderr",
     "output_type": "stream",
     "text": [
      "Using TensorFlow backend.\n"
     ]
    }
   ],
   "source": [
    "from keras.datasets import imdb\n",
    "(train_data,train_labels),(test_data,test_labels)=imdb.load_data(num_words=10000)"
   ]
  },
  {
   "cell_type": "code",
   "execution_count": 3,
   "metadata": {},
   "outputs": [],
   "source": [
    "def vectorize_sequences(sequences,dimension=10000):\n",
    "    '''Verilen bir tam sayı dizisini ikili matris haline getirir'''\n",
    "    # (len(sequences),dimensions) boyutlarında tüm elemanları sıfır olan bir matris oluşturuyoruz.\n",
    "    results=np.zeros((len(sequences),dimension))\n",
    "    for i,sequence in enumerate(sequences):\n",
    "        results[i,sequence]=1. # results[i]'nin istenen indexlerini 1 yapar.\n",
    "    return results"
   ]
  },
  {
   "cell_type": "code",
   "execution_count": 4,
   "metadata": {},
   "outputs": [
    {
     "data": {
      "text/plain": [
       "array([[0., 0., 0., 1., 0., 0., 0., 0., 0., 0.],\n",
       "       [0., 0., 0., 0., 0., 1., 0., 0., 0., 0.]])"
      ]
     },
     "execution_count": 4,
     "metadata": {},
     "output_type": "execute_result"
    }
   ],
   "source": [
    "s=np.array([3,5])\n",
    "vectorize_sequences(s,10)"
   ]
  },
  {
   "cell_type": "code",
   "execution_count": 5,
   "metadata": {
    "scrolled": false
   },
   "outputs": [],
   "source": [
    "x_train=vectorize_sequences(train_data) # Eğitim verisinin hazırlanması\n",
    "x_test=vectorize_sequences(test_data) # Test verisinin hazırlanması\n",
    "\n",
    "y_train=np.asarray(train_labels).astype(\"float32\") # Eğitim label verisinin vektör haline getirilmesi\n",
    "y_test=np.asarray(test_labels).astype(\"float32\") # Test label verisinin vektör haline getirilmesi"
   ]
  },
  {
   "cell_type": "markdown",
   "metadata": {},
   "source": [
    "***Ağınızı İnşa Etmek***\n",
    "Eğer ki girdiler vektör, etiketler ise skaler ise bu durumda stack ağ tipinde sıkı bağlı (dense) katmanlardan ve aktivasyon fonksiyonu relu olan bir ağ en iyi tercih olacaktır.  <code>Dense(16,activation='relu')</code> Buradaki ***16*** parametresi ağımızda kaç tane gizli katman olacağını söyler. ***Gizli birim sayısı gösterim uzayının boyutudur*** Ne kadar fazla birim daha karmaşık bir ağ yapısıdır. Bu fazla katmanlar ağımızın daha detaylı öğrenmesini sağlayacaktır ama bu durum over fit durumuna neden olabilir. \n",
    "\n",
    "Dense katmanlarından oluşan stack bir ağda iki önemli mimari karar vardır.\n",
    "* Kaç katman olacağı (Aşağıdaki örnekte: Üç katmandan oluşacak. Üçüncü katman skaler çıktı üretecek)\n",
    "* Her katmanda kaç gizli birim olacağı (Aşağıdaki örnekte: 16 gizli birim)\n",
    "\n",
    "Ara katmanların aktivasyon fonksiyonu olarak ***relu*** kullanılacak. Son katmanda ise ***sigmoid*** kullanılarak çıktıların olasılık değerlerine (0-1) dönüştürecek. "
   ]
  },
  {
   "cell_type": "code",
   "execution_count": 6,
   "metadata": {},
   "outputs": [],
   "source": [
    "from keras import models\n",
    "from keras import layers\n",
    "\n",
    "model=models.Sequential()\n",
    "model.add(layers.Dense(16, activation=\"relu\",input_shape=(10000,)))\n",
    "model.add(layers.Dense(16,activation=\"relu\"))\n",
    "model.add(layers.Dense(1,activation=\"sigmoid\"))"
   ]
  },
  {
   "cell_type": "markdown",
   "metadata": {},
   "source": [
    "Şimdi ise bir ***loss*** fonksiyonu ve ***optimization*** algoritması seçme adımına geldik. Aşağıdaki örnekte istediğimiz şey bir ikili sınıflandırma problemi olduğu ve ağımızın çıktısı bir olasılık değeri olduğu için ***binary_crossentropy*** kullanmak mantıklı olacaktır. Bu tek seçenek değil aslında ***mean_squared_error*** da kullanılabilir.\n",
    "\n",
    "***relu*** gibi bir aktivasyon fonksiyonu ise doğrusallığı kaldıran ağımızın daha iyi öğrenmesini sağlayan fonksiyondur. relu dışında ***prelu*** ve ***elu*** aktivasyon fonksiyonları da kullanılabilir. Optimizer olarak ***rmsprop*** kullanacağız."
   ]
  },
  {
   "cell_type": "code",
   "execution_count": 7,
   "metadata": {},
   "outputs": [],
   "source": [
    "model.compile(optimizer=\"rmsprop\",loss=\"binary_crossentropy\",metrics=[\"accuracy\"])"
   ]
  },
  {
   "cell_type": "markdown",
   "metadata": {},
   "source": [
    "***rmsprop, binary_crossentropy, accuracy*** Keras içerisinde tanımlı olduğu için direkt parametre olarak model tanımlar iken kullanabiliyoruz. Bununla birlikte <code>optimizer</code> algoritmasının parameterelerini değiştirebilir yada kendi yazdığınız <code>loss</code> fonksiyonunu kullanabilirsiniz.  "
   ]
  },
  {
   "cell_type": "code",
   "execution_count": 8,
   "metadata": {},
   "outputs": [],
   "source": [
    "# Optimizer algoritmasının farklı parametreler ile çalıştırılması\n",
    "from keras import optimizers\n",
    "\n",
    "model.compile(optimizer=optimizers.RMSprop(lr=0.001), loss=\"binary_crossentropy\", metrics=[\"accuracy\"])"
   ]
  },
  {
   "cell_type": "code",
   "execution_count": 9,
   "metadata": {},
   "outputs": [],
   "source": [
    "#Kendi loss fonksiyonumuzu kullanmak\n",
    "from keras import losses\n",
    "from keras import metrics\n",
    "\n",
    "model.compile(optimizer=optimizers.RMSprop(lr=0.001),loss=losses.binary_crossentropy, metrics=[metrics.binary_accuracy])"
   ]
  },
  {
   "cell_type": "markdown",
   "metadata": {},
   "source": [
    "Train sonunda oluşan modelin ne kadar başarılı olduğunu kontrol etmemiz gerekiyor. Bunu ***validation*** adımı ile yaparız. Bunun için öncelikli olarak eğitim sürecinde modelin hiç görmediği veri setinden bir validation veri seti yaratmamız gerekiyor."
   ]
  },
  {
   "cell_type": "code",
   "execution_count": 10,
   "metadata": {},
   "outputs": [],
   "source": [
    "x_val=x_train[:10000]\n",
    "partial_x_train=x_train[10000:]\n",
    "\n",
    "y_val=y_train[:10000]\n",
    "partial_y_train=y_train[10000:]\n"
   ]
  },
  {
   "cell_type": "markdown",
   "metadata": {},
   "source": [
    "Artık modelimizi eğitebiliriz."
   ]
  },
  {
   "cell_type": "code",
   "execution_count": 11,
   "metadata": {},
   "outputs": [],
   "source": [
    "model.compile(optimizer=\"rmsprop\",loss=\"binary_crossentropy\",metrics=[\"acc\"])"
   ]
  },
  {
   "cell_type": "code",
   "execution_count": 12,
   "metadata": {},
   "outputs": [
    {
     "name": "stdout",
     "output_type": "stream",
     "text": [
      "Train on 15000 samples, validate on 10000 samples\n",
      "Epoch 1/20\n",
      "15000/15000 [==============================] - 3s 210us/step - loss: 0.5224 - acc: 0.7832 - val_loss: 0.3923 - val_acc: 0.8656\n",
      "Epoch 2/20\n",
      "15000/15000 [==============================] - 2s 148us/step - loss: 0.3091 - acc: 0.9049 - val_loss: 0.3103 - val_acc: 0.8855\n",
      "Epoch 3/20\n",
      "15000/15000 [==============================] - 2s 151us/step - loss: 0.2250 - acc: 0.9305 - val_loss: 0.2791 - val_acc: 0.8903\n",
      "Epoch 4/20\n",
      "15000/15000 [==============================] - 2s 150us/step - loss: 0.1790 - acc: 0.9409 - val_loss: 0.2751 - val_acc: 0.8899\n",
      "Epoch 5/20\n",
      "15000/15000 [==============================] - 2s 151us/step - loss: 0.1438 - acc: 0.9529 - val_loss: 0.2873 - val_acc: 0.8872\n",
      "Epoch 6/20\n",
      "15000/15000 [==============================] - 2s 160us/step - loss: 0.1172 - acc: 0.9645 - val_loss: 0.3025 - val_acc: 0.8814\n",
      "Epoch 7/20\n",
      "15000/15000 [==============================] - 2s 161us/step - loss: 0.0992 - acc: 0.9703 - val_loss: 0.3252 - val_acc: 0.8773\n",
      "Epoch 8/20\n",
      "15000/15000 [==============================] - 2s 160us/step - loss: 0.0818 - acc: 0.9764 - val_loss: 0.3807 - val_acc: 0.8657\n",
      "Epoch 9/20\n",
      "15000/15000 [==============================] - 2s 146us/step - loss: 0.0675 - acc: 0.9817 - val_loss: 0.3582 - val_acc: 0.8802\n",
      "Epoch 10/20\n",
      "15000/15000 [==============================] - 2s 149us/step - loss: 0.0549 - acc: 0.9857 - val_loss: 0.3973 - val_acc: 0.8702\n",
      "Epoch 11/20\n",
      "15000/15000 [==============================] - 2s 142us/step - loss: 0.0457 - acc: 0.9885 - val_loss: 0.4095 - val_acc: 0.8772\n",
      "Epoch 12/20\n",
      "15000/15000 [==============================] - 2s 150us/step - loss: 0.0365 - acc: 0.9913 - val_loss: 0.4415 - val_acc: 0.8761\n",
      "Epoch 13/20\n",
      "15000/15000 [==============================] - 2s 149us/step - loss: 0.0307 - acc: 0.9938 - val_loss: 0.4749 - val_acc: 0.8724\n",
      "Epoch 14/20\n",
      "15000/15000 [==============================] - 2s 145us/step - loss: 0.0220 - acc: 0.9962 - val_loss: 0.5030 - val_acc: 0.8684\n",
      "Epoch 15/20\n",
      "15000/15000 [==============================] - 2s 145us/step - loss: 0.0207 - acc: 0.9957 - val_loss: 0.5428 - val_acc: 0.8706\n",
      "Epoch 16/20\n",
      "15000/15000 [==============================] - 2s 145us/step - loss: 0.0130 - acc: 0.9989 - val_loss: 0.5804 - val_acc: 0.8644\n",
      "Epoch 17/20\n",
      "15000/15000 [==============================] - 2s 147us/step - loss: 0.0133 - acc: 0.9977 - val_loss: 0.6065 - val_acc: 0.8682\n",
      "Epoch 18/20\n",
      "15000/15000 [==============================] - 2s 144us/step - loss: 0.0081 - acc: 0.9993 - val_loss: 0.6999 - val_acc: 0.8618\n",
      "Epoch 19/20\n",
      "15000/15000 [==============================] - 2s 143us/step - loss: 0.0056 - acc: 0.9997 - val_loss: 0.7008 - val_acc: 0.8646\n",
      "Epoch 20/20\n",
      "15000/15000 [==============================] - 2s 145us/step - loss: 0.0050 - acc: 0.9998 - val_loss: 0.7240 - val_acc: 0.8641\n"
     ]
    }
   ],
   "source": [
    "history=model.fit(partial_x_train,partial_y_train, epochs=20, batch_size=512,validation_data=(x_val,y_val))"
   ]
  },
  {
   "cell_type": "code",
   "execution_count": 13,
   "metadata": {},
   "outputs": [
    {
     "data": {
      "text/plain": [
       "dict_keys(['val_loss', 'val_acc', 'loss', 'acc'])"
      ]
     },
     "execution_count": 13,
     "metadata": {},
     "output_type": "execute_result"
    }
   ],
   "source": [
    "history_dict=history.history\n",
    "history_dict.keys()"
   ]
  },
  {
   "cell_type": "markdown",
   "metadata": {},
   "source": [
    "Şimdi eğitim ve doğrulamanın kayıplarının grafiklerini çizdirerek inceleyelim."
   ]
  },
  {
   "cell_type": "code",
   "execution_count": 14,
   "metadata": {},
   "outputs": [
    {
     "data": {
      "image/png": "[encoded data removed]",
      "text/plain": [
       "<Figure size 432x288 with 1 Axes>"
      ]
     },
     "metadata": {
      "needs_background": "light"
     },
     "output_type": "display_data"
    }
   ],
   "source": [
    "\n",
    "import matplotlib.pyplot as plt\n",
    "\n",
    "history_dict=history.history\n",
    "loss_values=history_dict[\"loss\"]\n",
    "val_loss_values=history_dict[\"val_loss\"]\n",
    "\n",
    "epochs=range(1,len(loss_values)+1)\n",
    "\n",
    "plt.plot(epochs,loss_values,\"bo\",label=\"Eğitim Kaybı\")# \"bo\" parametresi ile noktalı çizim yaptırıyoruz\n",
    "plt.plot(epochs,val_loss_values,\"b\",label=\"Doğrulama Kaybı\") # \"b\" düz çizgi\n",
    "plt.title(\"Eğitim ve Doğrulama Kayıp Karşılaştırma\")\n",
    "plt.xlabel(\"Epochs\")\n",
    "plt.ylabel(\"Kayıp\")\n",
    "plt.legend()\n",
    "\n",
    "plt.show()"
   ]
  },
  {
   "cell_type": "markdown",
   "metadata": {},
   "source": [
    "Eğitim ve doğrulamada başarım karşılaştırmasını yapalım"
   ]
  },
  {
   "cell_type": "code",
   "execution_count": 15,
   "metadata": {},
   "outputs": [
    {
     "data": {
      "image/png": "[encoded data removed]",
      "text/plain": [
       "<Figure size 432x288 with 1 Axes>"
      ]
     },
     "metadata": {
      "needs_background": "light"
     },
     "output_type": "display_data"
    }
   ],
   "source": [
    "acc=history_dict[\"acc\"]\n",
    "val_acc=history_dict[\"val_acc\"]\n",
    "\n",
    "\n",
    "plt.plot(epochs,acc,\"bo\",label=\"Eğitim Başarımı\")# \"bo\" parametresi ile noktalı çizim yaptırıyoruz\n",
    "plt.plot(epochs,val_acc,\"b\",label=\"Doğrulama Başarımı\") # \"b\" düz çizgi\n",
    "plt.title(\"Eğitim ve Doğrulama Başarım Karşılaştırma\")\n",
    "plt.xlabel(\"Epochs\")\n",
    "plt.ylabel(\"Başarım\")\n",
    "plt.legend()\n",
    "\n",
    "plt.show()"
   ]
  },
  {
   "cell_type": "markdown",
   "metadata": {},
   "source": [
    "Yukarıda gördüğümüz durumla epochs \"deneme\" sayısı arttıkça eğitim sürecince kaybın azaldığını ve başarımın arttığını görmekle birlikte validation aşamasında bunların azaldığını görüyoruz. Bu durum makine öğrenmesinde ***overfitting*** olarak adlandırılan durumdur. Bu durumdan kurtulmak için epochs sayısını azaltarak modelimizi tekrar çalıştıracağız."
   ]
  },
  {
   "cell_type": "code",
   "execution_count": 16,
   "metadata": {},
   "outputs": [
    {
     "name": "stdout",
     "output_type": "stream",
     "text": [
      "Train on 15000 samples, validate on 10000 samples\n",
      "Epoch 1/4\n",
      "15000/15000 [==============================] - 2s 142us/step - loss: 0.0071 - acc: 0.9981 - val_loss: 0.7586 - val_acc: 0.8645\n",
      "Epoch 2/4\n",
      "15000/15000 [==============================] - 2s 149us/step - loss: 0.0020 - acc: 0.9999 - val_loss: 0.7875 - val_acc: 0.8628\n",
      "Epoch 3/4\n",
      "15000/15000 [==============================] - 2s 143us/step - loss: 0.0067 - acc: 0.9981 - val_loss: 0.8298 - val_acc: 0.8632\n",
      "Epoch 4/4\n",
      "15000/15000 [==============================] - 2s 146us/step - loss: 0.0012 - acc: 0.9999 - val_loss: 0.8473 - val_acc: 0.8622\n",
      "25000/25000 [==============================] - 4s 161us/step\n"
     ]
    }
   ],
   "source": [
    "model.fit(partial_x_train,partial_y_train, epochs=4, batch_size=512,validation_data=(x_val,y_val)) # epochs=4 dedik\n",
    "results=model.evaluate(x_test,y_test)"
   ]
  },
  {
   "cell_type": "code",
   "execution_count": 17,
   "metadata": {},
   "outputs": [
    {
     "data": {
      "text/plain": [
       "[0.9173544800615311, 0.8486800193786621]"
      ]
     },
     "execution_count": 17,
     "metadata": {},
     "output_type": "execute_result"
    }
   ],
   "source": [
    "results"
   ]
  },
  {
   "cell_type": "markdown",
   "metadata": {},
   "source": [
    "***Daha önce eğitilmiş bir modelin kullanılması***"
   ]
  },
  {
   "cell_type": "code",
   "execution_count": 18,
   "metadata": {},
   "outputs": [
    {
     "data": {
      "text/plain": [
       "array([[3.1555824e-03],\n",
       "       [1.0000000e+00],\n",
       "       [9.7692925e-01],\n",
       "       ...,\n",
       "       [4.6165226e-04],\n",
       "       [8.8344775e-03],\n",
       "       [8.3872491e-01]], dtype=float32)"
      ]
     },
     "execution_count": 18,
     "metadata": {},
     "output_type": "execute_result"
    }
   ],
   "source": [
    "model.predict(x_test) # Bu metod ie yukarıda oluşan modelin test verileri üzerinde başarılı tahminlerinin olasılıklarını\n",
    "#görebiliriz. Bazılarından çok daha emin bazılarınından çok emin olmadığını bu istatistiklerden görebiliriz."
   ]
  },
  {
   "cell_type": "code",
   "execution_count": null,
   "metadata": {},
   "outputs": [],
   "source": []
  }
 ],
 "metadata": {
  "kernelspec": {
   "display_name": "Python 3",
   "language": "python",
   "name": "python3"
  },
  "language_info": {
   "codemirror_mode": {
    "name": "ipython",
    "version": 3
   },
   "file_extension": ".py",
   "mimetype": "text/x-python",
   "name": "python",
   "nbconvert_exporter": "python",
   "pygments_lexer": "ipython3",
   "version": "3.7.4"
  }
 },
 "nbformat": 4,
 "nbformat_minor": 2
}
