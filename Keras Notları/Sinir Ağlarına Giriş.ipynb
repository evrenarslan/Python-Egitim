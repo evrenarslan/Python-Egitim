{
 "cells": [
  {
   "cell_type": "markdown",
   "metadata": {},
   "source": [
    "# Tam sayı dizileri ikili matris haline dönüştürmek\n",
    "\n",
    "Elimizde bulunan bir sayı dizisini olduğu gibi bir sinir ağına gönderirsek bu çalışmaz öncelikli olarak bu listenin bir tensöre dönüştürülmesi gerekiyor"
   ]
  },
  {
   "cell_type": "code",
   "execution_count": 1,
   "metadata": {},
   "outputs": [],
   "source": [
    "import numpy as np"
   ]
  },
  {
   "cell_type": "code",
   "execution_count": 2,
   "metadata": {},
   "outputs": [
    {
     "name": "stderr",
     "output_type": "stream",
     "text": [
      "Using TensorFlow backend.\n"
     ]
    }
   ],
   "source": [
    "from keras.datasets import imdb\n",
    "(train_data,train_labels),(test_data,test_labels)=imdb.load_data(num_words=10000)"
   ]
  },
  {
   "cell_type": "code",
   "execution_count": 3,
   "metadata": {},
   "outputs": [],
   "source": [
    "def vectorize_sequences(sequences,dimension=10000):\n",
    "    '''Verilen bir tam sayı dizisini ikili matris haline getirir'''\n",
    "    # (len(sequences),dimensions) boyutlarında tüm elemanları sıfır olan bir matris oluşturuyoruz.\n",
    "    results=np.zeros((len(sequences),dimension))\n",
    "    for i,sequence in enumerate(sequences):\n",
    "        results[i,sequence]=1. # results[i]'nin istenen indexlerini 1 yapar.\n",
    "    return results"
   ]
  },
  {
   "cell_type": "code",
   "execution_count": 4,
   "metadata": {},
   "outputs": [
    {
     "data": {
      "text/plain": [
       "array([[0., 0., 0., 1., 0., 0., 0., 0., 0., 0.],\n",
       "       [0., 0., 0., 0., 0., 1., 0., 0., 0., 0.]])"
      ]
     },
     "execution_count": 4,
     "metadata": {},
     "output_type": "execute_result"
    }
   ],
   "source": [
    "s=np.array([3,5])\n",
    "vectorize_sequences(s,10)"
   ]
  },
  {
   "cell_type": "code",
   "execution_count": 15,
   "metadata": {
    "scrolled": false
   },
   "outputs": [],
   "source": [
    "x_train=vectorize_sequences(train_data) # Eğitim verisinin hazırlanması\n",
    "x_test=vectorize_sequences(test_data) # Test verisinin hazırlanması\n",
    "\n",
    "y_train=np.asarray(train_labels).astype(\"float32\") # Eğitim label verisinin vektör haline getirilmesi\n",
    "y_test=np.asarray(test_labels).astype(\"float32\") # Test label verisinin vektör haline getirilmesi"
   ]
  },
  {
   "cell_type": "markdown",
   "metadata": {},
   "source": [
    "***Ağınızı İnşa Etmek***\n",
    "Eğer ki girdiler vektör, etiketler ise skaler ise bu durumda stack ağ tipinde sıkı bağlı (dense) katmanlardanve aktivasyon fonksiyonu relu olan bir ağ en iyi tercih olacaktır.  <code>Dense(16,activation='relu')</code> Buradaki ***16*** parametresi ağımızda kaç tane gizli katman olacağını söyler. ***Gizli birim sayısı gösterim uzayının boyutudur*** Ne kadar fazla birim daha karmaşık bir ağ yapısıdır. Bu fazla katmanlar ağımızın daha detaylı öğrenmesini sağlayacaktır ama bu durum over fit durumuna neden olabilir. \n",
    "\n",
    "Dense katmanlarından oluşan stack bir ağda iki önemli mimari karar vardır.\n",
    "* Kaç katman olacağı (Aşağıdaki örnekte: Üç katmandan oluşacak. Üçüncü katman skaler çıktı üretecek)\n",
    "* Her katmanda kaç gizli birim olacağı (Aşağıdaki örnekte: 16 gizli birim)\n",
    "\n",
    "Ara katmanların aktivasyon fonksiyonu olarak ***relu*** kullanılacak. Son katmanda ise ***sigmoid*** kullanılarak çıktıların olasılık değerlerine (0-1) dönüştürecek. "
   ]
  },
  {
   "cell_type": "code",
   "execution_count": 6,
   "metadata": {},
   "outputs": [],
   "source": [
    "from keras import models\n",
    "from keras import layers\n",
    "\n",
    "model=models.Sequential()\n",
    "model.add(layers.Dense(16, activation=\"relu\",input_shape=(10000,)))\n",
    "model.add(layers.Dense(16,activation=\"relu\"))\n",
    "model.add(layers.Dense(1,activation=\"sigmoid\"))"
   ]
  },
  {
   "cell_type": "markdown",
   "metadata": {},
   "source": [
    "Şimdi ise bir ***loss*** fonksiyonu ve ***optimization*** algoritması seçme adımına geldik. Aşağıdaki örnekte istediğimiz şey bir ikili sınıflandırma problemi olduğu ve ağımızın çıktısı bir olasılık değeri olduğu için ***binary_crossentropy*** kullanmak mantıklı olacaktır. Bu tek seçenek değil aslında ***mean_squared_error*** da kullanılabilir.\n",
    "\n",
    "***relu*** gibi bir aktivasyon fonksiyonu ise doğrusallığı kaldıran ağımızın daha iyi öğrenmesini sağlayan fonksiyondur. relu dışında ***prelu*** ve ***elu*** aktivasyon fonksiyonları da kullanılabilir. Optimizer olarak ***rmsprop*** kullanacağız."
   ]
  },
  {
   "cell_type": "code",
   "execution_count": 12,
   "metadata": {},
   "outputs": [],
   "source": [
    "model.compile(optimizer=\"rmsprop\",loss=\"binary_crossentropy\",metrics=[\"accuracy\"])"
   ]
  },
  {
   "cell_type": "markdown",
   "metadata": {},
   "source": [
    "***rmsprop, binary_crossentropy, accuracy*** Keras içerisinde tanımlı olduğu için direkt parametre olarak model tanımlar iken kullanabiliyoruz. Bununla birlikte <code>optimizer</code> algoritmasının parameterelerini değiştirebilir yada kendi yazdığınız <code>loss</code> fonksiyonunu kullanabilirsiniz.  "
   ]
  },
  {
   "cell_type": "code",
   "execution_count": 9,
   "metadata": {},
   "outputs": [],
   "source": [
    "# Optimizer algoritmasının farklı parametreler ile çalıştırılması\n",
    "from keras import optimizers\n",
    "\n",
    "model.compile(optimizer=optimizers.RMSprop(lr=0.001), loss=\"binary_crossentropy\", metrics=[\"accuracy\"])"
   ]
  },
  {
   "cell_type": "code",
   "execution_count": 11,
   "metadata": {},
   "outputs": [],
   "source": [
    "#Kendi loss fonksiyonumuzu kullanmak\n",
    "from keras import losses\n",
    "from keras import metrics\n",
    "\n",
    "model.compile(optimizer=optimizers.RMSprop(lr=0.001),loss=losses.binary_crossentropy, metrics=[metrics.binary_accuracy])"
   ]
  },
  {
   "cell_type": "markdown",
   "metadata": {},
   "source": [
    "Train sonunda oluşan modelin ne kadar başarılı olduğunu kontrol etmemiz gerekiyor. Bunu ***validation*** adımı ile yaparız. Bunun için öncelikli olarak eğitim sürecinde modelin hiç görmediği veri setinden bir validation veri seti yaratmamız gerekiyor."
   ]
  },
  {
   "cell_type": "code",
   "execution_count": 16,
   "metadata": {},
   "outputs": [],
   "source": [
    "x_val=x_train[:10000]\n",
    "partial_x_train=x_train[10000:]\n",
    "\n",
    "y_val=y_train[:10000]\n",
    "partial_y_train=y_train[10000:]\n"
   ]
  },
  {
   "cell_type": "markdown",
   "metadata": {},
   "source": [
    "Artık modelimizi eğitebiliriz."
   ]
  },
  {
   "cell_type": "code",
   "execution_count": 17,
   "metadata": {},
   "outputs": [],
   "source": [
    "model.compile(optimizer=\"rmsprop\",loss=\"binary_crossentropy\",metrics=[\"acc\"])"
   ]
  },
  {
   "cell_type": "code",
   "execution_count": 18,
   "metadata": {},
   "outputs": [
    {
     "name": "stdout",
     "output_type": "stream",
     "text": [
      "Train on 15000 samples, validate on 10000 samples\n",
      "Epoch 1/20\n",
      "15000/15000 [==============================] - 3s 211us/step - loss: 0.5212 - acc: 0.7827 - val_loss: 0.3987 - val_acc: 0.8635\n",
      "Epoch 2/20\n",
      "15000/15000 [==============================] - 2s 144us/step - loss: 0.3196 - acc: 0.9001 - val_loss: 0.3146 - val_acc: 0.8863\n",
      "Epoch 3/20\n",
      "15000/15000 [==============================] - 2s 151us/step - loss: 0.2372 - acc: 0.9253 - val_loss: 0.2880 - val_acc: 0.8879\n",
      "Epoch 4/20\n",
      "15000/15000 [==============================] - 2s 148us/step - loss: 0.1858 - acc: 0.9416 - val_loss: 0.2984 - val_acc: 0.8781\n",
      "Epoch 5/20\n",
      "15000/15000 [==============================] - 2s 161us/step - loss: 0.1563 - acc: 0.9500 - val_loss: 0.2828 - val_acc: 0.8844\n",
      "Epoch 6/20\n",
      "15000/15000 [==============================] - 2s 152us/step - loss: 0.1286 - acc: 0.9626 - val_loss: 0.2884 - val_acc: 0.8871\n",
      "Epoch 7/20\n",
      "15000/15000 [==============================] - 2s 165us/step - loss: 0.1091 - acc: 0.9683 - val_loss: 0.2961 - val_acc: 0.8850\n",
      "Epoch 8/20\n",
      "15000/15000 [==============================] - 2s 165us/step - loss: 0.0926 - acc: 0.9739 - val_loss: 0.3117 - val_acc: 0.8852\n",
      "Epoch 9/20\n",
      "15000/15000 [==============================] - 2s 155us/step - loss: 0.0781 - acc: 0.9791 - val_loss: 0.3339 - val_acc: 0.8780\n",
      "Epoch 10/20\n",
      "15000/15000 [==============================] - 2s 151us/step - loss: 0.0611 - acc: 0.9862 - val_loss: 0.3522 - val_acc: 0.8774\n",
      "Epoch 11/20\n",
      "15000/15000 [==============================] - 2s 147us/step - loss: 0.0513 - acc: 0.9885 - val_loss: 0.3790 - val_acc: 0.8763\n",
      "Epoch 12/20\n",
      "15000/15000 [==============================] - 2s 154us/step - loss: 0.0425 - acc: 0.9915 - val_loss: 0.4086 - val_acc: 0.8769\n",
      "Epoch 13/20\n",
      "15000/15000 [==============================] - 2s 152us/step - loss: 0.0359 - acc: 0.9925 - val_loss: 0.4275 - val_acc: 0.8751\n",
      "Epoch 14/20\n",
      "15000/15000 [==============================] - 2s 156us/step - loss: 0.0260 - acc: 0.9963 - val_loss: 0.4575 - val_acc: 0.8715\n",
      "Epoch 15/20\n",
      "15000/15000 [==============================] - 2s 147us/step - loss: 0.0218 - acc: 0.9965 - val_loss: 0.4919 - val_acc: 0.8716\n",
      "Epoch 16/20\n",
      "15000/15000 [==============================] - 2s 148us/step - loss: 0.0172 - acc: 0.9977 - val_loss: 0.5181 - val_acc: 0.8681\n",
      "Epoch 17/20\n",
      "15000/15000 [==============================] - 2s 156us/step - loss: 0.0129 - acc: 0.9987 - val_loss: 0.5424 - val_acc: 0.8683\n",
      "Epoch 18/20\n",
      "15000/15000 [==============================] - 2s 149us/step - loss: 0.0096 - acc: 0.9992 - val_loss: 0.5773 - val_acc: 0.8675\n",
      "Epoch 19/20\n",
      "15000/15000 [==============================] - 2s 152us/step - loss: 0.0068 - acc: 0.9997 - val_loss: 0.6230 - val_acc: 0.8660\n",
      "Epoch 20/20\n",
      "15000/15000 [==============================] - 2s 149us/step - loss: 0.0054 - acc: 0.9998 - val_loss: 0.6471 - val_acc: 0.8670\n"
     ]
    }
   ],
   "source": [
    "history=model.fit(partial_x_train,partial_y_train, epochs=20, batch_size=512,validation_data=(x_val,y_val))"
   ]
  },
  {
   "cell_type": "code",
   "execution_count": 19,
   "metadata": {},
   "outputs": [
    {
     "data": {
      "text/plain": [
       "dict_keys(['val_loss', 'val_acc', 'loss', 'acc'])"
      ]
     },
     "execution_count": 19,
     "metadata": {},
     "output_type": "execute_result"
    }
   ],
   "source": [
    "history_dict=history.history\n",
    "history_dict.keys()"
   ]
  },
  {
   "cell_type": "markdown",
   "metadata": {},
   "source": [
    "Şimdi eğitim ve doğrulamanın kayıplarının grafiklerini çizdirerek inceleyelim."
   ]
  },
  {
   "cell_type": "code",
   "execution_count": 22,
   "metadata": {},
   "outputs": [
    {
     "data": {
      "image/png": "[encoded data removed]",
      "text/plain": [
       "<Figure size 432x288 with 1 Axes>"
      ]
     },
     "metadata": {
      "needs_background": "light"
     },
     "output_type": "display_data"
    }
   ],
   "source": [
    "\n",
    "import matplotlib.pyplot as plt\n",
    "\n",
    "history_dict=history.history\n",
    "loss_values=history_dict[\"loss\"]\n",
    "val_loss_values=history_dict[\"val_loss\"]\n",
    "\n",
    "epochs=range(1,len(loss_values)+1)\n",
    "\n",
    "plt.plot(epochs,loss_values,\"bo\",label=\"Eğitim Kaybı\")# \"bo\" parametresi ile noktalı çizim yaptırıyoruz\n",
    "plt.plot(epochs,val_loss_values,\"b\",label=\"Doğrulama Kaybı\") # \"b\" düz çizgi\n",
    "plt.title(\"Eğitim ve Doğrulama Kayıp Karşılaştırma\")\n",
    "plt.xlabel(\"Epochs\")\n",
    "plt.ylabel(\"Kayıp\")\n",
    "plt.legend()\n",
    "\n",
    "plt.show()"
   ]
  },
  {
   "cell_type": "markdown",
   "metadata": {},
   "source": [
    "Eğitim ve doğrulamada başarım karşılaştırmasını yapalım"
   ]
  },
  {
   "cell_type": "code",
   "execution_count": 24,
   "metadata": {},
   "outputs": [
    {
     "data": {
      "image/png": "[encoded data removed]",
      "text/plain": [
       "<Figure size 432x288 with 1 Axes>"
      ]
     },
     "metadata": {
      "needs_background": "light"
     },
     "output_type": "display_data"
    }
   ],
   "source": [
    "acc=history_dict[\"acc\"]\n",
    "val_acc=history_dict[\"val_acc\"]\n",
    "\n",
    "\n",
    "plt.plot(epochs,acc,\"bo\",label=\"Eğitim Başarımı\")# \"bo\" parametresi ile noktalı çizim yaptırıyoruz\n",
    "plt.plot(epochs,val_acc,\"b\",label=\"Doğrulama Başarımı\") # \"b\" düz çizgi\n",
    "plt.title(\"Eğitim ve Doğrulama Başarım Karşılaştırma\")\n",
    "plt.xlabel(\"Epochs\")\n",
    "plt.ylabel(\"Başarım\")\n",
    "plt.legend()\n",
    "\n",
    "plt.show()"
   ]
  },
  {
   "cell_type": "markdown",
   "metadata": {},
   "source": [
    "Yukarıda gördüğümüz durumla epochs \"deneme\" sayısı arttıkça eğitim sürecince kaybın azaldığını ve başarımın arttığını görmekle birlikte validation aşamasında bunların azaldığını görüyoruz. Bu durum makine öğrenmesinde ***overfitting*** olarak adlandırılan durumdur. Bu durumdan kurtulmak için epochs sayısını azaltarak modelimizi tekrar çalıştıracağız."
   ]
  },
  {
   "cell_type": "code",
   "execution_count": 27,
   "metadata": {},
   "outputs": [
    {
     "name": "stdout",
     "output_type": "stream",
     "text": [
      "Train on 15000 samples, validate on 10000 samples\n",
      "Epoch 1/4\n",
      "15000/15000 [==============================] - 2s 150us/step - loss: 0.0026 - acc: 0.9995 - val_loss: 0.8091 - val_acc: 0.8625\n",
      "Epoch 2/4\n",
      "15000/15000 [==============================] - 2s 151us/step - loss: 7.6196e-04 - acc: 1.0000 - val_loss: 0.8273 - val_acc: 0.8626\n",
      "Epoch 3/4\n",
      "15000/15000 [==============================] - 2s 143us/step - loss: 6.1519e-04 - acc: 1.0000 - val_loss: 0.8643 - val_acc: 0.8619\n",
      "Epoch 4/4\n",
      "15000/15000 [==============================] - 2s 147us/step - loss: 0.0021 - acc: 0.9995 - val_loss: 0.8996 - val_acc: 0.8626\n",
      "25000/25000 [==============================] - 4s 151us/step\n"
     ]
    }
   ],
   "source": [
    "model.fit(partial_x_train,partial_y_train, epochs=4, batch_size=512,validation_data=(x_val,y_val)) # epochs=4 dedik\n",
    "results=model.evaluate(x_test,y_test)"
   ]
  },
  {
   "cell_type": "code",
   "execution_count": 26,
   "metadata": {},
   "outputs": [
    {
     "data": {
      "text/plain": [
       "[0.8334760935974121, 0.850600004196167]"
      ]
     },
     "execution_count": 26,
     "metadata": {},
     "output_type": "execute_result"
    }
   ],
   "source": [
    "results"
   ]
  },
  {
   "cell_type": "code",
   "execution_count": 28,
   "metadata": {},
   "outputs": [
    {
     "data": {
      "text/plain": [
       "[0.9815845271921158, 0.8482000231742859]"
      ]
     },
     "execution_count": 28,
     "metadata": {},
     "output_type": "execute_result"
    }
   ],
   "source": [
    "results\n"
   ]
  },
  {
   "cell_type": "markdown",
   "metadata": {},
   "source": [
    "***Daha önce eğitilmiş bir modelin kullanılması***"
   ]
  },
  {
   "cell_type": "code",
   "execution_count": 29,
   "metadata": {},
   "outputs": [
    {
     "data": {
      "text/plain": [
       "array([[1.0432105e-03],\n",
       "       [1.0000000e+00],\n",
       "       [9.7293258e-01],\n",
       "       ...,\n",
       "       [6.5430615e-04],\n",
       "       [4.1638156e-03],\n",
       "       [9.1435099e-01]], dtype=float32)"
      ]
     },
     "execution_count": 29,
     "metadata": {},
     "output_type": "execute_result"
    }
   ],
   "source": [
    "model.predict(x_test) # Bu metod ie yukarıda oluşan modelin test verileri üzerinde başarılı tahminlerinin olasılıklarını\n",
    "#görebiliriz. Bazılarından çok daha emin bazılarınından çok emin olmadığını bu istatistiklerden görebiliriz."
   ]
  },
  {
   "cell_type": "code",
   "execution_count": null,
   "metadata": {},
   "outputs": [],
   "source": []
  }
 ],
 "metadata": {
  "kernelspec": {
   "display_name": "Python 3",
   "language": "python",
   "name": "python3"
  },
  "language_info": {
   "codemirror_mode": {
    "name": "ipython",
    "version": 3
   },
   "file_extension": ".py",
   "mimetype": "text/x-python",
   "name": "python",
   "nbconvert_exporter": "python",
   "pygments_lexer": "ipython3",
   "version": "3.7.4"
  }
 },
 "nbformat": 4,
 "nbformat_minor": 2
}
