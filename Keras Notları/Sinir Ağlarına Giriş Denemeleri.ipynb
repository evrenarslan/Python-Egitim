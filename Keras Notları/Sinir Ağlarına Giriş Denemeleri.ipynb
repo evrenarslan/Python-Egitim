{
 "cells": [
  {
   "cell_type": "code",
   "execution_count": 1,
   "metadata": {},
   "outputs": [
    {
     "name": "stderr",
     "output_type": "stream",
     "text": [
      "Using TensorFlow backend.\n"
     ]
    }
   ],
   "source": [
    "import numpy as np\n",
    "from keras.datasets import imdb\n",
    "(train_data,train_labels),(test_data,test_labels)=imdb.load_data(num_words=10000)"
   ]
  },
  {
   "cell_type": "code",
   "execution_count": 2,
   "metadata": {},
   "outputs": [],
   "source": [
    "def vectorize_sequences(sequences,dimension=10000):\n",
    "    '''Verilen bir tam sayı dizisini ikili matris haline getirir'''\n",
    "    # (len(sequences),dimensions) boyutlarında tüm elemanları sıfır olan bir matris oluşturuyoruz.\n",
    "    results=np.zeros((len(sequences),dimension))\n",
    "    for i,sequence in enumerate(sequences):\n",
    "        results[i,sequence]=1. # results[i]'nin istenen indexlerini 1 yapar.\n",
    "    return results"
   ]
  },
  {
   "cell_type": "code",
   "execution_count": 3,
   "metadata": {},
   "outputs": [],
   "source": [
    "x_train=vectorize_sequences(train_data) # Eğitim verisinin hazırlanması\n",
    "x_test=vectorize_sequences(test_data) # Test verisinin hazırlanması\n",
    "\n",
    "y_train=np.asarray(train_labels).astype(\"float32\") # Eğitim label verisinin vektör haline getirilmesi\n",
    "y_test=np.asarray(test_labels).astype(\"float32\") # Test label verisinin vektör haline getirilmesi"
   ]
  },
  {
   "cell_type": "code",
   "execution_count": 4,
   "metadata": {},
   "outputs": [
    {
     "name": "stdout",
     "output_type": "stream",
     "text": [
      "data train : 25000\n",
      "data test : 10000\n",
      "label train : 25000\n",
      "label test : 25000\n"
     ]
    }
   ],
   "source": [
    "print(\"data train :\",len(x_train[:,0]))\n",
    "print(\"data test :\",len(x_test[0]))\n",
    "print(\"label train :\",len(y_train))\n",
    "print(\"label test :\",len(y_test))"
   ]
  },
  {
   "cell_type": "code",
   "execution_count": 5,
   "metadata": {},
   "outputs": [
    {
     "name": "stdout",
     "output_type": "stream",
     "text": [
      "Train on 15000 samples, validate on 10000 samples\n",
      "Epoch 1/20\n",
      "15000/15000 [==============================] - 1s 99us/step - loss: 0.5139 - acc: 0.7799 - val_loss: 0.3892 - val_acc: 0.8670\n",
      "Epoch 2/20\n",
      "15000/15000 [==============================] - 1s 78us/step - loss: 0.3048 - acc: 0.9037 - val_loss: 0.3033 - val_acc: 0.8870\n",
      "Epoch 3/20\n",
      "15000/15000 [==============================] - 1s 77us/step - loss: 0.2256 - acc: 0.9269 - val_loss: 0.2831 - val_acc: 0.8876\n",
      "Epoch 4/20\n",
      "15000/15000 [==============================] - 1s 76us/step - loss: 0.1792 - acc: 0.9432 - val_loss: 0.2734 - val_acc: 0.8901\n",
      "Epoch 5/20\n",
      "15000/15000 [==============================] - 1s 77us/step - loss: 0.1457 - acc: 0.9553 - val_loss: 0.3363 - val_acc: 0.8676\n",
      "Epoch 6/20\n",
      "15000/15000 [==============================] - 1s 75us/step - loss: 0.1219 - acc: 0.9619 - val_loss: 0.3002 - val_acc: 0.8841\n",
      "Epoch 7/20\n",
      "15000/15000 [==============================] - 1s 76us/step - loss: 0.0987 - acc: 0.9725 - val_loss: 0.3040 - val_acc: 0.8841\n",
      "Epoch 8/20\n",
      "15000/15000 [==============================] - 1s 76us/step - loss: 0.0850 - acc: 0.9759 - val_loss: 0.3355 - val_acc: 0.8780\n",
      "Epoch 9/20\n",
      "15000/15000 [==============================] - 1s 76us/step - loss: 0.0705 - acc: 0.9802 - val_loss: 0.3621 - val_acc: 0.8731\n",
      "Epoch 10/20\n",
      "15000/15000 [==============================] - 1s 78us/step - loss: 0.0572 - acc: 0.9852 - val_loss: 0.3668 - val_acc: 0.8766\n",
      "Epoch 11/20\n",
      "15000/15000 [==============================] - 1s 77us/step - loss: 0.0483 - acc: 0.9884 - val_loss: 0.3903 - val_acc: 0.8762\n",
      "Epoch 12/20\n",
      "15000/15000 [==============================] - 1s 81us/step - loss: 0.0383 - acc: 0.9923 - val_loss: 0.4156 - val_acc: 0.8767\n",
      "Epoch 13/20\n",
      "15000/15000 [==============================] - 1s 78us/step - loss: 0.0302 - acc: 0.9949 - val_loss: 0.4450 - val_acc: 0.8742\n",
      "Epoch 14/20\n",
      "15000/15000 [==============================] - 1s 77us/step - loss: 0.0240 - acc: 0.9957 - val_loss: 0.5268 - val_acc: 0.8667\n",
      "Epoch 15/20\n",
      "15000/15000 [==============================] - 1s 76us/step - loss: 0.0178 - acc: 0.9981 - val_loss: 0.5401 - val_acc: 0.8620\n",
      "Epoch 16/20\n",
      "15000/15000 [==============================] - 1s 77us/step - loss: 0.0161 - acc: 0.9978 - val_loss: 0.5399 - val_acc: 0.8726\n",
      "Epoch 17/20\n",
      "15000/15000 [==============================] - 1s 78us/step - loss: 0.0108 - acc: 0.9995 - val_loss: 0.5747 - val_acc: 0.8721\n",
      "Epoch 18/20\n",
      "15000/15000 [==============================] - 1s 79us/step - loss: 0.0085 - acc: 0.9996 - val_loss: 0.6186 - val_acc: 0.8637\n",
      "Epoch 19/20\n",
      "15000/15000 [==============================] - 1s 79us/step - loss: 0.0074 - acc: 0.9995 - val_loss: 0.6560 - val_acc: 0.8664\n",
      "Epoch 20/20\n",
      "15000/15000 [==============================] - 1s 81us/step - loss: 0.0058 - acc: 0.9997 - val_loss: 0.6782 - val_acc: 0.8658\n"
     ]
    }
   ],
   "source": [
    "from keras import models\n",
    "from keras import layers\n",
    "\n",
    "model=models.Sequential()\n",
    "model.add(layers.Dense(16, activation=\"relu\",input_shape=(10000,)))\n",
    "model.add(layers.Dense(16,activation=\"relu\"))\n",
    "model.add(layers.Dense(1,activation=\"sigmoid\"))\n",
    "# ---------------------------\n",
    "model.compile(optimizer=\"rmsprop\",loss=\"binary_crossentropy\",metrics=[\"acc\"])\n",
    "# Validation adımı\n",
    "x_val=x_train[:10000]\n",
    "partial_x_train=x_train[10000:]\n",
    "\n",
    "y_val=y_train[:10000]\n",
    "partial_y_train=y_train[10000:]\n",
    "# Modelin çalıştırılması\n",
    "history=model.fit(partial_x_train,partial_y_train, epochs=20, batch_size=512,validation_data=(x_val,y_val))\n",
    "\n"
   ]
  },
  {
   "cell_type": "markdown",
   "metadata": {},
   "source": [
    "***Bir katman kullanarak test yapalım***"
   ]
  },
  {
   "cell_type": "code",
   "execution_count": 6,
   "metadata": {
    "scrolled": true
   },
   "outputs": [
    {
     "name": "stdout",
     "output_type": "stream",
     "text": [
      "Train on 15000 samples, validate on 10000 samples\n",
      "Epoch 1/20\n",
      "15000/15000 [==============================] - 1s 81us/step - loss: 0.5083 - acc: 0.7995 - val_loss: 0.4109 - val_acc: 0.8571\n",
      "Epoch 2/20\n",
      "15000/15000 [==============================] - 1s 76us/step - loss: 0.3342 - acc: 0.8985 - val_loss: 0.3344 - val_acc: 0.8804\n",
      "Epoch 3/20\n",
      "15000/15000 [==============================] - 1s 76us/step - loss: 0.2591 - acc: 0.9217 - val_loss: 0.2945 - val_acc: 0.8908\n",
      "Epoch 4/20\n",
      "15000/15000 [==============================] - 1s 80us/step - loss: 0.2132 - acc: 0.9347 - val_loss: 0.2806 - val_acc: 0.8924\n",
      "Epoch 5/20\n",
      "15000/15000 [==============================] - 1s 75us/step - loss: 0.1800 - acc: 0.9452 - val_loss: 0.2867 - val_acc: 0.8856\n",
      "Epoch 6/20\n",
      "15000/15000 [==============================] - 1s 75us/step - loss: 0.1569 - acc: 0.9521 - val_loss: 0.2739 - val_acc: 0.8899\n",
      "Epoch 7/20\n",
      "15000/15000 [==============================] - 1s 74us/step - loss: 0.1361 - acc: 0.9607 - val_loss: 0.2890 - val_acc: 0.8852\n",
      "Epoch 8/20\n",
      "15000/15000 [==============================] - 1s 75us/step - loss: 0.1206 - acc: 0.9655 - val_loss: 0.2872 - val_acc: 0.8871\n",
      "Epoch 9/20\n",
      "15000/15000 [==============================] - 1s 75us/step - loss: 0.1072 - acc: 0.9705 - val_loss: 0.2920 - val_acc: 0.8854\n",
      "Epoch 10/20\n",
      "15000/15000 [==============================] - 1s 75us/step - loss: 0.0950 - acc: 0.9756 - val_loss: 0.3008 - val_acc: 0.8840\n",
      "Epoch 11/20\n",
      "15000/15000 [==============================] - 1s 74us/step - loss: 0.0844 - acc: 0.9779 - val_loss: 0.3127 - val_acc: 0.8843\n",
      "Epoch 12/20\n",
      "15000/15000 [==============================] - 1s 75us/step - loss: 0.0747 - acc: 0.9823 - val_loss: 0.3240 - val_acc: 0.8822\n",
      "Epoch 13/20\n",
      "15000/15000 [==============================] - 1s 75us/step - loss: 0.0670 - acc: 0.9848 - val_loss: 0.3611 - val_acc: 0.8721\n",
      "Epoch 14/20\n",
      "15000/15000 [==============================] - 1s 75us/step - loss: 0.0597 - acc: 0.9863 - val_loss: 0.3505 - val_acc: 0.8811\n",
      "Epoch 15/20\n",
      "15000/15000 [==============================] - 1s 75us/step - loss: 0.0524 - acc: 0.9891 - val_loss: 0.3652 - val_acc: 0.8788\n",
      "Epoch 16/20\n",
      "15000/15000 [==============================] - 1s 76us/step - loss: 0.0457 - acc: 0.9915 - val_loss: 0.4001 - val_acc: 0.8749\n",
      "Epoch 17/20\n",
      "15000/15000 [==============================] - 1s 75us/step - loss: 0.0417 - acc: 0.9926 - val_loss: 0.4015 - val_acc: 0.8769\n",
      "Epoch 18/20\n",
      "15000/15000 [==============================] - 1s 75us/step - loss: 0.0361 - acc: 0.9938 - val_loss: 0.4261 - val_acc: 0.8677\n",
      "Epoch 19/20\n",
      "15000/15000 [==============================] - 1s 76us/step - loss: 0.0323 - acc: 0.9953 - val_loss: 0.4325 - val_acc: 0.8764\n",
      "Epoch 20/20\n",
      "15000/15000 [==============================] - 1s 75us/step - loss: 0.0280 - acc: 0.9959 - val_loss: 0.4587 - val_acc: 0.8686\n"
     ]
    }
   ],
   "source": [
    "from keras import models\n",
    "from keras import layers\n",
    "\n",
    "model=models.Sequential()\n",
    "model.add(layers.Dense(16, activation=\"relu\",input_shape=(10000,)))\n",
    "#model.add(layers.Dense(16,activation=\"relu\"))\n",
    "model.add(layers.Dense(1,activation=\"sigmoid\"))\n",
    "# ---------------------------\n",
    "model.compile(optimizer=\"rmsprop\",loss=\"binary_crossentropy\",metrics=[\"acc\"])\n",
    "# Validation adımı\n",
    "x_val=x_train[:10000]\n",
    "partial_x_train=x_train[10000:]\n",
    "\n",
    "y_val=y_train[:10000]\n",
    "partial_y_train=y_train[10000:]\n",
    "# Modelin çalıştırılması\n",
    "history=model.fit(partial_x_train,partial_y_train, epochs=20, batch_size=512,validation_data=(x_val,y_val))\n",
    "\n"
   ]
  },
  {
   "cell_type": "code",
   "execution_count": 7,
   "metadata": {},
   "outputs": [
    {
     "name": "stdout",
     "output_type": "stream",
     "text": [
      "Train on 15000 samples, validate on 10000 samples\n",
      "Epoch 1/30\n",
      "15000/15000 [==============================] - 1s 84us/step - loss: 0.5395 - acc: 0.7663 - val_loss: 0.3854 - val_acc: 0.8555\n",
      "Epoch 2/30\n",
      "15000/15000 [==============================] - 1s 75us/step - loss: 0.2932 - acc: 0.8996 - val_loss: 0.3223 - val_acc: 0.8771\n",
      "Epoch 3/30\n",
      "15000/15000 [==============================] - 1s 76us/step - loss: 0.2062 - acc: 0.9290 - val_loss: 0.2826 - val_acc: 0.8888\n",
      "Epoch 4/30\n",
      "15000/15000 [==============================] - 1s 75us/step - loss: 0.1559 - acc: 0.9476 - val_loss: 0.4916 - val_acc: 0.8242\n",
      "Epoch 5/30\n",
      "15000/15000 [==============================] - 1s 76us/step - loss: 0.1356 - acc: 0.9533 - val_loss: 0.3289 - val_acc: 0.8826\n",
      "Epoch 6/30\n",
      "15000/15000 [==============================] - 1s 76us/step - loss: 0.1006 - acc: 0.9677 - val_loss: 0.3568 - val_acc: 0.8769\n",
      "Epoch 7/30\n",
      "15000/15000 [==============================] - 1s 76us/step - loss: 0.0823 - acc: 0.9749 - val_loss: 0.4277 - val_acc: 0.8652\n",
      "Epoch 8/30\n",
      "15000/15000 [==============================] - 1s 76us/step - loss: 0.0707 - acc: 0.9799 - val_loss: 0.4064 - val_acc: 0.8776\n",
      "Epoch 9/30\n",
      "15000/15000 [==============================] - 1s 76us/step - loss: 0.0515 - acc: 0.9861 - val_loss: 0.4545 - val_acc: 0.8739\n",
      "Epoch 10/30\n",
      "15000/15000 [==============================] - 1s 75us/step - loss: 0.0543 - acc: 0.9843 - val_loss: 0.4739 - val_acc: 0.8728\n",
      "Epoch 11/30\n",
      "15000/15000 [==============================] - 1s 76us/step - loss: 0.0469 - acc: 0.9855 - val_loss: 0.5059 - val_acc: 0.8737\n",
      "Epoch 12/30\n",
      "15000/15000 [==============================] - 1s 76us/step - loss: 0.0144 - acc: 0.9975 - val_loss: 0.7442 - val_acc: 0.8387\n",
      "Epoch 13/30\n",
      "15000/15000 [==============================] - 1s 76us/step - loss: 0.0260 - acc: 0.9917 - val_loss: 0.5717 - val_acc: 0.8728\n",
      "Epoch 14/30\n",
      "15000/15000 [==============================] - 1s 76us/step - loss: 0.0353 - acc: 0.9906 - val_loss: 0.6303 - val_acc: 0.8713\n",
      "Epoch 15/30\n",
      "15000/15000 [==============================] - 1s 76us/step - loss: 0.0038 - acc: 0.9997 - val_loss: 0.6559 - val_acc: 0.8725\n",
      "Epoch 16/30\n",
      "15000/15000 [==============================] - 1s 75us/step - loss: 0.0256 - acc: 0.9935 - val_loss: 0.7668 - val_acc: 0.8647\n",
      "Epoch 17/30\n",
      "15000/15000 [==============================] - 1s 75us/step - loss: 0.0025 - acc: 0.9996 - val_loss: 0.7292 - val_acc: 0.8713\n",
      "Epoch 18/30\n",
      "15000/15000 [==============================] - 1s 75us/step - loss: 0.0013 - acc: 0.9999 - val_loss: 0.7755 - val_acc: 0.8688\n",
      "Epoch 19/30\n",
      "15000/15000 [==============================] - 1s 76us/step - loss: 0.0417 - acc: 0.9923 - val_loss: 0.8417 - val_acc: 0.8692\n",
      "Epoch 20/30\n",
      "15000/15000 [==============================] - 1s 76us/step - loss: 6.5527e-04 - acc: 0.9999 - val_loss: 0.8610 - val_acc: 0.8685\n",
      "Epoch 21/30\n",
      "15000/15000 [==============================] - 1s 75us/step - loss: 5.5279e-04 - acc: 0.9999 - val_loss: 0.8930 - val_acc: 0.8677\n",
      "Epoch 22/30\n",
      "15000/15000 [==============================] - 1s 75us/step - loss: 3.7122e-04 - acc: 0.9999 - val_loss: 0.9659 - val_acc: 0.8665\n",
      "Epoch 23/30\n",
      "15000/15000 [==============================] - 1s 75us/step - loss: 0.0402 - acc: 0.9942 - val_loss: 1.2474 - val_acc: 0.8543\n",
      "Epoch 24/30\n",
      "15000/15000 [==============================] - 1s 76us/step - loss: 9.8266e-04 - acc: 0.9997 - val_loss: 1.0845 - val_acc: 0.8661\n",
      "Epoch 25/30\n",
      "15000/15000 [==============================] - 1s 75us/step - loss: 7.7602e-05 - acc: 1.0000 - val_loss: 1.1044 - val_acc: 0.8643\n",
      "Epoch 26/30\n",
      "15000/15000 [==============================] - 1s 77us/step - loss: 6.5126e-05 - acc: 1.0000 - val_loss: 1.1390 - val_acc: 0.8634\n",
      "Epoch 27/30\n",
      "15000/15000 [==============================] - 1s 76us/step - loss: 4.6121e-05 - acc: 1.0000 - val_loss: 1.2093 - val_acc: 0.8632\n",
      "Epoch 28/30\n",
      "15000/15000 [==============================] - 1s 76us/step - loss: 2.2526e-05 - acc: 1.0000 - val_loss: 1.3586 - val_acc: 0.8629\n",
      "Epoch 29/30\n",
      "15000/15000 [==============================] - 1s 75us/step - loss: 0.0145 - acc: 0.9973 - val_loss: 1.8193 - val_acc: 0.8468\n",
      "Epoch 30/30\n",
      "15000/15000 [==============================] - 1s 75us/step - loss: 5.1228e-04 - acc: 0.9999 - val_loss: 1.7220 - val_acc: 0.8496\n"
     ]
    }
   ],
   "source": [
    "#Layer sayısını 6'e çıkardım.\n",
    "from keras import models\n",
    "from keras import layers\n",
    "\n",
    "model=models.Sequential()\n",
    "model.add(layers.Dense(16, activation=\"relu\",input_shape=(10000,)))\n",
    "model.add(layers.Dense(16,activation=\"relu\"))\n",
    "model.add(layers.Dense(16,activation=\"relu\"))\n",
    "model.add(layers.Dense(16,activation=\"relu\"))\n",
    "model.add(layers.Dense(16,activation=\"relu\"))\n",
    "model.add(layers.Dense(1,activation=\"sigmoid\"))\n",
    "# ---------------------------\n",
    "model.compile(optimizer=\"rmsprop\",loss=\"binary_crossentropy\",metrics=[\"acc\"])\n",
    "# Validation adımı\n",
    "x_val=x_train[:10000]\n",
    "partial_x_train=x_train[10000:]\n",
    "\n",
    "y_val=y_train[:10000]\n",
    "partial_y_train=y_train[10000:]\n",
    "# Modelin çalıştırılması\n",
    "history=model.fit(partial_x_train,partial_y_train, epochs=30, batch_size=512,validation_data=(x_val,y_val))"
   ]
  },
  {
   "cell_type": "markdown",
   "metadata": {},
   "source": [
    "***Katmanlardaki birim sayısını değiştirmek***"
   ]
  },
  {
   "cell_type": "code",
   "execution_count": 8,
   "metadata": {},
   "outputs": [
    {
     "name": "stdout",
     "output_type": "stream",
     "text": [
      "Train on 15000 samples, validate on 10000 samples\n",
      "Epoch 1/20\n",
      "15000/15000 [==============================] - 1s 96us/step - loss: 0.4827 - acc: 0.7743 - val_loss: 0.3216 - val_acc: 0.8738\n",
      "Epoch 2/20\n",
      "15000/15000 [==============================] - 1s 91us/step - loss: 0.2616 - acc: 0.8998 - val_loss: 0.2780 - val_acc: 0.8926\n",
      "Epoch 3/20\n",
      "15000/15000 [==============================] - 1s 92us/step - loss: 0.1903 - acc: 0.9298 - val_loss: 0.2763 - val_acc: 0.8898\n",
      "Epoch 4/20\n",
      "15000/15000 [==============================] - 1s 90us/step - loss: 0.1295 - acc: 0.9557 - val_loss: 0.4989 - val_acc: 0.8305\n",
      "Epoch 5/20\n",
      "15000/15000 [==============================] - 1s 92us/step - loss: 0.0994 - acc: 0.9655 - val_loss: 0.7214 - val_acc: 0.7821\n",
      "Epoch 6/20\n",
      "15000/15000 [==============================] - 1s 90us/step - loss: 0.0823 - acc: 0.9719 - val_loss: 0.4464 - val_acc: 0.8551\n",
      "Epoch 7/20\n",
      "15000/15000 [==============================] - 1s 91us/step - loss: 0.0545 - acc: 0.9822 - val_loss: 0.3941 - val_acc: 0.8814\n",
      "Epoch 8/20\n",
      "15000/15000 [==============================] - 1s 90us/step - loss: 0.0532 - acc: 0.9839 - val_loss: 0.4300 - val_acc: 0.8802\n",
      "Epoch 9/20\n",
      "15000/15000 [==============================] - 1s 91us/step - loss: 0.0428 - acc: 0.9879 - val_loss: 0.4549 - val_acc: 0.8759\n",
      "Epoch 10/20\n",
      "15000/15000 [==============================] - 1s 91us/step - loss: 0.0097 - acc: 0.9992 - val_loss: 0.5415 - val_acc: 0.8751\n",
      "Epoch 11/20\n",
      "15000/15000 [==============================] - 1s 93us/step - loss: 0.0508 - acc: 0.9880 - val_loss: 0.5509 - val_acc: 0.8733\n",
      "Epoch 12/20\n",
      "15000/15000 [==============================] - 1s 90us/step - loss: 0.0036 - acc: 0.9999 - val_loss: 0.6000 - val_acc: 0.8721\n",
      "Epoch 13/20\n",
      "15000/15000 [==============================] - 1s 92us/step - loss: 0.0102 - acc: 0.9983 - val_loss: 0.9404 - val_acc: 0.8335\n",
      "Epoch 14/20\n",
      "15000/15000 [==============================] - 1s 91us/step - loss: 0.0040 - acc: 0.9990 - val_loss: 0.6858 - val_acc: 0.8693\n",
      "Epoch 15/20\n",
      "15000/15000 [==============================] - 1s 91us/step - loss: 0.0011 - acc: 0.9999 - val_loss: 0.7506 - val_acc: 0.8702\n",
      "Epoch 16/20\n",
      "15000/15000 [==============================] - 1s 91us/step - loss: 0.0418 - acc: 0.9917 - val_loss: 0.7571 - val_acc: 0.8702\n",
      "Epoch 17/20\n",
      "15000/15000 [==============================] - 1s 91us/step - loss: 5.4139e-04 - acc: 0.9999 - val_loss: 0.7899 - val_acc: 0.8696\n",
      "Epoch 18/20\n",
      "15000/15000 [==============================] - 1s 90us/step - loss: 4.0140e-04 - acc: 0.9999 - val_loss: 0.8341 - val_acc: 0.8698\n",
      "Epoch 19/20\n",
      "15000/15000 [==============================] - 1s 90us/step - loss: 2.5909e-04 - acc: 1.0000 - val_loss: 0.9141 - val_acc: 0.8680\n",
      "Epoch 20/20\n",
      "15000/15000 [==============================] - 1s 90us/step - loss: 0.0399 - acc: 0.9913 - val_loss: 0.9684 - val_acc: 0.8608\n"
     ]
    }
   ],
   "source": [
    "from keras import models\n",
    "from keras import layers\n",
    "\n",
    "model=models.Sequential()\n",
    "model.add(layers.Dense(64, activation=\"relu\",input_shape=(10000,)))\n",
    "model.add(layers.Dense(64,activation=\"relu\"))\n",
    "model.add(layers.Dense(1,activation=\"sigmoid\"))\n",
    "# ---------------------------\n",
    "model.compile(optimizer=\"rmsprop\",loss=\"binary_crossentropy\",metrics=[\"acc\"])\n",
    "# Validation adımı\n",
    "x_val=x_train[:10000]\n",
    "partial_x_train=x_train[10000:]\n",
    "\n",
    "y_val=y_train[:10000]\n",
    "partial_y_train=y_train[10000:]\n",
    "# Modelin çalıştırılması\n",
    "history=model.fit(partial_x_train,partial_y_train, epochs=20, batch_size=512,validation_data=(x_val,y_val))\n"
   ]
  },
  {
   "cell_type": "markdown",
   "metadata": {},
   "source": [
    "***Loss fonksiyonunu değiştirmek***"
   ]
  },
  {
   "cell_type": "code",
   "execution_count": 9,
   "metadata": {},
   "outputs": [
    {
     "name": "stdout",
     "output_type": "stream",
     "text": [
      "Train on 15000 samples, validate on 10000 samples\n",
      "Epoch 1/20\n",
      "15000/15000 [==============================] - 1s 79us/step - loss: 0.1666 - acc: 0.7931 - val_loss: 0.1187 - val_acc: 0.8698\n",
      "Epoch 2/20\n",
      "15000/15000 [==============================] - 1s 75us/step - loss: 0.0896 - acc: 0.9085 - val_loss: 0.0986 - val_acc: 0.8786\n",
      "Epoch 3/20\n",
      "15000/15000 [==============================] - 1s 75us/step - loss: 0.0643 - acc: 0.9317 - val_loss: 0.0855 - val_acc: 0.8887\n",
      "Epoch 4/20\n",
      "15000/15000 [==============================] - 1s 75us/step - loss: 0.0503 - acc: 0.9481 - val_loss: 0.0835 - val_acc: 0.8881\n",
      "Epoch 5/20\n",
      "15000/15000 [==============================] - 1s 75us/step - loss: 0.0408 - acc: 0.9573 - val_loss: 0.0826 - val_acc: 0.8886\n",
      "Epoch 6/20\n",
      "15000/15000 [==============================] - 1s 75us/step - loss: 0.0328 - acc: 0.9684 - val_loss: 0.0837 - val_acc: 0.8845\n",
      "Epoch 7/20\n",
      "15000/15000 [==============================] - 1s 74us/step - loss: 0.0274 - acc: 0.9747 - val_loss: 0.0858 - val_acc: 0.8841\n",
      "Epoch 8/20\n",
      "15000/15000 [==============================] - 1s 75us/step - loss: 0.0229 - acc: 0.9783 - val_loss: 0.0874 - val_acc: 0.8829\n",
      "Epoch 9/20\n",
      "15000/15000 [==============================] - 1s 75us/step - loss: 0.0184 - acc: 0.9846 - val_loss: 0.1000 - val_acc: 0.8650\n",
      "Epoch 10/20\n",
      "15000/15000 [==============================] - 1s 75us/step - loss: 0.0160 - acc: 0.9875 - val_loss: 0.0920 - val_acc: 0.8762\n",
      "Epoch 11/20\n",
      "15000/15000 [==============================] - 1s 75us/step - loss: 0.0130 - acc: 0.9896 - val_loss: 0.1019 - val_acc: 0.8675\n",
      "Epoch 12/20\n",
      "15000/15000 [==============================] - 1s 74us/step - loss: 0.0107 - acc: 0.9917 - val_loss: 0.0992 - val_acc: 0.8691\n",
      "Epoch 13/20\n",
      "15000/15000 [==============================] - 1s 75us/step - loss: 0.0102 - acc: 0.9913 - val_loss: 0.0998 - val_acc: 0.8702\n",
      "Epoch 14/20\n",
      "15000/15000 [==============================] - 1s 75us/step - loss: 0.0067 - acc: 0.9955 - val_loss: 0.1082 - val_acc: 0.8642\n",
      "Epoch 15/20\n",
      "15000/15000 [==============================] - 1s 75us/step - loss: 0.0063 - acc: 0.9956 - val_loss: 0.1072 - val_acc: 0.8674\n",
      "Epoch 16/20\n",
      "15000/15000 [==============================] - 1s 74us/step - loss: 0.0059 - acc: 0.9956 - val_loss: 0.1046 - val_acc: 0.8684\n",
      "Epoch 17/20\n",
      "15000/15000 [==============================] - 1s 75us/step - loss: 0.0054 - acc: 0.9956 - val_loss: 0.1060 - val_acc: 0.8691\n",
      "Epoch 18/20\n",
      "15000/15000 [==============================] - 1s 75us/step - loss: 0.0039 - acc: 0.9967 - val_loss: 0.1073 - val_acc: 0.8673\n",
      "Epoch 19/20\n",
      "15000/15000 [==============================] - 1s 75us/step - loss: 0.0049 - acc: 0.9957 - val_loss: 0.1080 - val_acc: 0.8672\n",
      "Epoch 20/20\n",
      "15000/15000 [==============================] - 1s 74us/step - loss: 0.0034 - acc: 0.9968 - val_loss: 0.1101 - val_acc: 0.8680\n"
     ]
    }
   ],
   "source": [
    "from keras import models\n",
    "from keras import layers\n",
    "\n",
    "model=models.Sequential()\n",
    "model.add(layers.Dense(16, activation=\"relu\",input_shape=(10000,)))\n",
    "model.add(layers.Dense(16,activation=\"relu\"))\n",
    "model.add(layers.Dense(1,activation=\"sigmoid\"))\n",
    "# ---------------------------\n",
    "model.compile(optimizer=\"rmsprop\",loss=\"mse\",metrics=[\"acc\"])\n",
    "# Validation adımı\n",
    "x_val=x_train[:10000]\n",
    "partial_x_train=x_train[10000:]\n",
    "\n",
    "y_val=y_train[:10000]\n",
    "partial_y_train=y_train[10000:]\n",
    "# Modelin çalıştırılması\n",
    "history=model.fit(partial_x_train,partial_y_train, epochs=20, batch_size=512,validation_data=(x_val,y_val))\n",
    "\n"
   ]
  },
  {
   "cell_type": "markdown",
   "metadata": {},
   "source": [
    "***Aktivasyon fonksiyonunu değiştirmek***"
   ]
  },
  {
   "cell_type": "code",
   "execution_count": 10,
   "metadata": {},
   "outputs": [
    {
     "name": "stdout",
     "output_type": "stream",
     "text": [
      "Train on 15000 samples, validate on 10000 samples\n",
      "Epoch 1/20\n",
      "15000/15000 [==============================] - 1s 83us/step - loss: 0.4816 - acc: 0.8011 - val_loss: 0.3572 - val_acc: 0.8743\n",
      "Epoch 2/20\n",
      "15000/15000 [==============================] - 1s 77us/step - loss: 0.2769 - acc: 0.9073 - val_loss: 0.2889 - val_acc: 0.8869\n",
      "Epoch 3/20\n",
      "15000/15000 [==============================] - 1s 76us/step - loss: 0.1983 - acc: 0.9318 - val_loss: 0.2714 - val_acc: 0.8907\n",
      "Epoch 4/20\n",
      "15000/15000 [==============================] - 1s 75us/step - loss: 0.1459 - acc: 0.9517 - val_loss: 0.2887 - val_acc: 0.8846\n",
      "Epoch 5/20\n",
      "15000/15000 [==============================] - 1s 75us/step - loss: 0.1125 - acc: 0.9641 - val_loss: 0.3074 - val_acc: 0.8843\n",
      "Epoch 6/20\n",
      "15000/15000 [==============================] - 1s 75us/step - loss: 0.0874 - acc: 0.9721 - val_loss: 0.3444 - val_acc: 0.8803\n",
      "Epoch 7/20\n",
      "15000/15000 [==============================] - 1s 75us/step - loss: 0.0652 - acc: 0.9793 - val_loss: 0.3799 - val_acc: 0.8798\n",
      "Epoch 8/20\n",
      "15000/15000 [==============================] - 1s 75us/step - loss: 0.0536 - acc: 0.9844 - val_loss: 0.5034 - val_acc: 0.8553\n",
      "Epoch 9/20\n",
      "15000/15000 [==============================] - 1s 75us/step - loss: 0.0420 - acc: 0.9876 - val_loss: 0.4640 - val_acc: 0.8724\n",
      "Epoch 10/20\n",
      "15000/15000 [==============================] - 1s 74us/step - loss: 0.0343 - acc: 0.9900 - val_loss: 0.5071 - val_acc: 0.8696\n",
      "Epoch 11/20\n",
      "15000/15000 [==============================] - 1s 76us/step - loss: 0.0237 - acc: 0.9943 - val_loss: 0.5554 - val_acc: 0.8669\n",
      "Epoch 12/20\n",
      "15000/15000 [==============================] - 1s 75us/step - loss: 0.0111 - acc: 0.9985 - val_loss: 0.6084 - val_acc: 0.8652\n",
      "Epoch 13/20\n",
      "15000/15000 [==============================] - 1s 75us/step - loss: 0.0227 - acc: 0.9936 - val_loss: 0.6221 - val_acc: 0.8654\n",
      "Epoch 14/20\n",
      "15000/15000 [==============================] - 1s 75us/step - loss: 0.0048 - acc: 0.9997 - val_loss: 0.6664 - val_acc: 0.8646\n",
      "Epoch 15/20\n",
      "15000/15000 [==============================] - 1s 75us/step - loss: 0.0193 - acc: 0.9941 - val_loss: 0.7006 - val_acc: 0.8627\n",
      "Epoch 16/20\n",
      "15000/15000 [==============================] - 1s 75us/step - loss: 0.0020 - acc: 0.9998 - val_loss: 0.7246 - val_acc: 0.8640\n",
      "Epoch 17/20\n",
      "15000/15000 [==============================] - 1s 74us/step - loss: 0.0011 - acc: 0.9999 - val_loss: 0.7739 - val_acc: 0.8615\n",
      "Epoch 18/20\n",
      "15000/15000 [==============================] - 1s 75us/step - loss: 0.0143 - acc: 0.9961 - val_loss: 0.8042 - val_acc: 0.8609\n",
      "Epoch 19/20\n",
      "15000/15000 [==============================] - 1s 76us/step - loss: 5.7984e-04 - acc: 1.0000 - val_loss: 0.8254 - val_acc: 0.8615\n",
      "Epoch 20/20\n",
      "15000/15000 [==============================] - 1s 75us/step - loss: 3.5455e-04 - acc: 1.0000 - val_loss: 0.8669 - val_acc: 0.8611\n"
     ]
    }
   ],
   "source": [
    "from keras import models\n",
    "from keras import layers\n",
    "\n",
    "model=models.Sequential()\n",
    "model.add(layers.Dense(16, activation=\"tanh\",input_shape=(10000,)))\n",
    "model.add(layers.Dense(16,activation=\"tanh\"))\n",
    "model.add(layers.Dense(1,activation=\"sigmoid\"))\n",
    "# ---------------------------\n",
    "model.compile(optimizer=\"rmsprop\",loss=\"binary_crossentropy\",metrics=[\"acc\"])\n",
    "# Validation adımı\n",
    "x_val=x_train[:10000]\n",
    "partial_x_train=x_train[10000:]\n",
    "\n",
    "y_val=y_train[:10000]\n",
    "partial_y_train=y_train[10000:]\n",
    "# Modelin çalıştırılması\n",
    "history=model.fit(partial_x_train,partial_y_train, epochs=20, batch_size=512,validation_data=(x_val,y_val))\n",
    "\n"
   ]
  },
  {
   "cell_type": "code",
   "execution_count": null,
   "metadata": {},
   "outputs": [],
   "source": []
  }
 ],
 "metadata": {
  "kernelspec": {
   "display_name": "Python 3",
   "language": "python",
   "name": "python3"
  },
  "language_info": {
   "codemirror_mode": {
    "name": "ipython",
    "version": 3
   },
   "file_extension": ".py",
   "mimetype": "text/x-python",
   "name": "python",
   "nbconvert_exporter": "python",
   "pygments_lexer": "ipython3",
   "version": "3.7.7"
  }
 },
 "nbformat": 4,
 "nbformat_minor": 2
}
