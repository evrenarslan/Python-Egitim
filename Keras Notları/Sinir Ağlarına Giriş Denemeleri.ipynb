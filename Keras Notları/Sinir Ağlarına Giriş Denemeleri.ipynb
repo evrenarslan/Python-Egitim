{
 "cells": [
  {
   "cell_type": "code",
   "execution_count": 1,
   "metadata": {},
   "outputs": [
    {
     "name": "stderr",
     "output_type": "stream",
     "text": [
      "Using TensorFlow backend.\n"
     ]
    }
   ],
   "source": [
    "import numpy as np\n",
    "from keras.datasets import imdb\n",
    "(train_data,train_labels),(test_data,test_labels)=imdb.load_data(num_words=10000)"
   ]
  },
  {
   "cell_type": "code",
   "execution_count": 2,
   "metadata": {},
   "outputs": [],
   "source": [
    "def vectorize_sequences(sequences,dimension=10000):\n",
    "    '''Verilen bir tam sayı dizisini ikili matris haline getirir'''\n",
    "    # (len(sequences),dimensions) boyutlarında tüm elemanları sıfır olan bir matris oluşturuyoruz.\n",
    "    results=np.zeros((len(sequences),dimension))\n",
    "    for i,sequence in enumerate(sequences):\n",
    "        results[i,sequence]=1. # results[i]'nin istenen indexlerini 1 yapar.\n",
    "    return results"
   ]
  },
  {
   "cell_type": "code",
   "execution_count": 3,
   "metadata": {},
   "outputs": [],
   "source": [
    "x_train=vectorize_sequences(train_data) # Eğitim verisinin hazırlanması\n",
    "x_test=vectorize_sequences(test_data) # Test verisinin hazırlanması\n",
    "\n",
    "y_train=np.asarray(train_labels).astype(\"float32\") # Eğitim label verisinin vektör haline getirilmesi\n",
    "y_test=np.asarray(test_labels).astype(\"float32\") # Test label verisinin vektör haline getirilmesi"
   ]
  },
  {
   "cell_type": "code",
   "execution_count": 4,
   "metadata": {},
   "outputs": [
    {
     "name": "stdout",
     "output_type": "stream",
     "text": [
      "data train : 25000\n",
      "data test : 10000\n",
      "label train : 25000\n",
      "label test : 25000\n"
     ]
    }
   ],
   "source": [
    "print(\"data train :\",len(x_train[:,0]))\n",
    "print(\"data test :\",len(x_test[0]))\n",
    "print(\"label train :\",len(y_train))\n",
    "print(\"label test :\",len(y_test))"
   ]
  },
  {
   "cell_type": "code",
   "execution_count": 5,
   "metadata": {},
   "outputs": [
    {
     "name": "stdout",
     "output_type": "stream",
     "text": [
      "Train on 15000 samples, validate on 10000 samples\n",
      "Epoch 1/20\n",
      "15000/15000 [==============================] - 3s 181us/step - loss: 0.5002 - acc: 0.7994 - val_loss: 0.3894 - val_acc: 0.8602\n",
      "Epoch 2/20\n",
      "15000/15000 [==============================] - 2s 146us/step - loss: 0.3036 - acc: 0.9042 - val_loss: 0.3127 - val_acc: 0.8803\n",
      "Epoch 3/20\n",
      "15000/15000 [==============================] - 2s 144us/step - loss: 0.2218 - acc: 0.9264 - val_loss: 0.2862 - val_acc: 0.8864\n",
      "Epoch 4/20\n",
      "15000/15000 [==============================] - 2s 145us/step - loss: 0.1770 - acc: 0.9429 - val_loss: 0.2859 - val_acc: 0.8853\n",
      "Epoch 5/20\n",
      "15000/15000 [==============================] - 2s 145us/step - loss: 0.1409 - acc: 0.9555 - val_loss: 0.2880 - val_acc: 0.8857\n",
      "Epoch 6/20\n",
      "15000/15000 [==============================] - 2s 144us/step - loss: 0.1179 - acc: 0.9639 - val_loss: 0.2928 - val_acc: 0.8864\n",
      "Epoch 7/20\n",
      "15000/15000 [==============================] - 2s 145us/step - loss: 0.0970 - acc: 0.9699 - val_loss: 0.3590 - val_acc: 0.8715\n",
      "Epoch 8/20\n",
      "15000/15000 [==============================] - 2s 143us/step - loss: 0.0811 - acc: 0.9763 - val_loss: 0.3367 - val_acc: 0.8795\n",
      "Epoch 9/20\n",
      "15000/15000 [==============================] - 2s 147us/step - loss: 0.0664 - acc: 0.9819 - val_loss: 0.4043 - val_acc: 0.8683\n",
      "Epoch 10/20\n",
      "15000/15000 [==============================] - 2s 152us/step - loss: 0.0528 - acc: 0.9878 - val_loss: 0.3796 - val_acc: 0.8768\n",
      "Epoch 11/20\n",
      "15000/15000 [==============================] - 2s 147us/step - loss: 0.0447 - acc: 0.9899 - val_loss: 0.4157 - val_acc: 0.8735\n",
      "Epoch 12/20\n",
      "15000/15000 [==============================] - 2s 142us/step - loss: 0.0372 - acc: 0.9914 - val_loss: 0.4364 - val_acc: 0.8753\n",
      "Epoch 13/20\n",
      "15000/15000 [==============================] - 2s 142us/step - loss: 0.0301 - acc: 0.9945 - val_loss: 0.4663 - val_acc: 0.8729\n",
      "Epoch 14/20\n",
      "15000/15000 [==============================] - 2s 146us/step - loss: 0.0220 - acc: 0.9965 - val_loss: 0.4991 - val_acc: 0.8712\n",
      "Epoch 15/20\n",
      "15000/15000 [==============================] - 2s 142us/step - loss: 0.0179 - acc: 0.9971 - val_loss: 0.5366 - val_acc: 0.8694\n",
      "Epoch 16/20\n",
      "15000/15000 [==============================] - 2s 144us/step - loss: 0.0134 - acc: 0.9985 - val_loss: 0.5738 - val_acc: 0.8663\n",
      "Epoch 17/20\n",
      "15000/15000 [==============================] - 2s 145us/step - loss: 0.0140 - acc: 0.9969 - val_loss: 0.6029 - val_acc: 0.8697\n",
      "Epoch 18/20\n",
      "15000/15000 [==============================] - 2s 145us/step - loss: 0.0062 - acc: 0.9998 - val_loss: 0.6355 - val_acc: 0.8668\n",
      "Epoch 19/20\n",
      "15000/15000 [==============================] - 2s 148us/step - loss: 0.0080 - acc: 0.9988 - val_loss: 0.6715 - val_acc: 0.8663\n",
      "Epoch 20/20\n",
      "15000/15000 [==============================] - 2s 142us/step - loss: 0.0044 - acc: 0.9996 - val_loss: 0.7590 - val_acc: 0.8625\n"
     ]
    }
   ],
   "source": [
    "from keras import models\n",
    "from keras import layers\n",
    "\n",
    "model=models.Sequential()\n",
    "model.add(layers.Dense(16, activation=\"relu\",input_shape=(10000,)))\n",
    "model.add(layers.Dense(16,activation=\"relu\"))\n",
    "model.add(layers.Dense(1,activation=\"sigmoid\"))\n",
    "# ---------------------------\n",
    "model.compile(optimizer=\"rmsprop\",loss=\"binary_crossentropy\",metrics=[\"acc\"])\n",
    "# Validation adımı\n",
    "x_val=x_train[:10000]\n",
    "partial_x_train=x_train[10000:]\n",
    "\n",
    "y_val=y_train[:10000]\n",
    "partial_y_train=y_train[10000:]\n",
    "# Modelin çalıştırılması\n",
    "history=model.fit(partial_x_train,partial_y_train, epochs=20, batch_size=512,validation_data=(x_val,y_val))\n",
    "\n"
   ]
  },
  {
   "cell_type": "markdown",
   "metadata": {},
   "source": [
    "***Bir katman kullanarak test yapalım***"
   ]
  },
  {
   "cell_type": "code",
   "execution_count": null,
   "metadata": {
    "scrolled": true
   },
   "outputs": [],
   "source": [
    "from keras import models\n",
    "from keras import layers\n",
    "\n",
    "model=models.Sequential()\n",
    "model.add(layers.Dense(16, activation=\"relu\",input_shape=(10000,)))\n",
    "#model.add(layers.Dense(16,activation=\"relu\"))\n",
    "model.add(layers.Dense(1,activation=\"sigmoid\"))\n",
    "# ---------------------------\n",
    "model.compile(optimizer=\"rmsprop\",loss=\"binary_crossentropy\",metrics=[\"acc\"])\n",
    "# Validation adımı\n",
    "x_val=x_train[:10000]\n",
    "partial_x_train=x_train[10000:]\n",
    "\n",
    "y_val=y_train[:10000]\n",
    "partial_y_train=y_train[10000:]\n",
    "# Modelin çalıştırılması\n",
    "history=model.fit(partial_x_train,partial_y_train, epochs=20, batch_size=512,validation_data=(x_val,y_val))\n",
    "\n"
   ]
  },
  {
   "cell_type": "code",
   "execution_count": null,
   "metadata": {},
   "outputs": [],
   "source": [
    "#Layer sayısını 6'e çıkardım.\n",
    "from keras import models\n",
    "from keras import layers\n",
    "\n",
    "model=models.Sequential()\n",
    "model.add(layers.Dense(16, activation=\"relu\",input_shape=(10000,)))\n",
    "model.add(layers.Dense(16,activation=\"relu\"))\n",
    "model.add(layers.Dense(16,activation=\"relu\"))\n",
    "model.add(layers.Dense(16,activation=\"relu\"))\n",
    "model.add(layers.Dense(16,activation=\"relu\"))\n",
    "model.add(layers.Dense(1,activation=\"sigmoid\"))\n",
    "# ---------------------------\n",
    "model.compile(optimizer=\"rmsprop\",loss=\"binary_crossentropy\",metrics=[\"acc\"])\n",
    "# Validation adımı\n",
    "x_val=x_train[:10000]\n",
    "partial_x_train=x_train[10000:]\n",
    "\n",
    "y_val=y_train[:10000]\n",
    "partial_y_train=y_train[10000:]\n",
    "# Modelin çalıştırılması\n",
    "history=model.fit(partial_x_train,partial_y_train, epochs=30, batch_size=512,validation_data=(x_val,y_val))"
   ]
  },
  {
   "cell_type": "markdown",
   "metadata": {},
   "source": [
    "***Katmanlardaki birim sayısını değiştirmek***"
   ]
  },
  {
   "cell_type": "code",
   "execution_count": null,
   "metadata": {},
   "outputs": [],
   "source": [
    "from keras import models\n",
    "from keras import layers\n",
    "\n",
    "model=models.Sequential()\n",
    "model.add(layers.Dense(64, activation=\"relu\",input_shape=(10000,)))\n",
    "model.add(layers.Dense(64,activation=\"relu\"))\n",
    "model.add(layers.Dense(1,activation=\"sigmoid\"))\n",
    "# ---------------------------\n",
    "model.compile(optimizer=\"rmsprop\",loss=\"binary_crossentropy\",metrics=[\"acc\"])\n",
    "# Validation adımı\n",
    "x_val=x_train[:10000]\n",
    "partial_x_train=x_train[10000:]\n",
    "\n",
    "y_val=y_train[:10000]\n",
    "partial_y_train=y_train[10000:]\n",
    "# Modelin çalıştırılması\n",
    "history=model.fit(partial_x_train,partial_y_train, epochs=20, batch_size=512,validation_data=(x_val,y_val))\n"
   ]
  },
  {
   "cell_type": "markdown",
   "metadata": {},
   "source": [
    "***Loss fonksiyonunu değiştirmek***"
   ]
  },
  {
   "cell_type": "code",
   "execution_count": null,
   "metadata": {},
   "outputs": [],
   "source": [
    "from keras import models\n",
    "from keras import layers\n",
    "\n",
    "model=models.Sequential()\n",
    "model.add(layers.Dense(16, activation=\"relu\",input_shape=(10000,)))\n",
    "model.add(layers.Dense(16,activation=\"relu\"))\n",
    "model.add(layers.Dense(1,activation=\"sigmoid\"))\n",
    "# ---------------------------\n",
    "model.compile(optimizer=\"rmsprop\",loss=\"mse\",metrics=[\"acc\"])\n",
    "# Validation adımı\n",
    "x_val=x_train[:10000]\n",
    "partial_x_train=x_train[10000:]\n",
    "\n",
    "y_val=y_train[:10000]\n",
    "partial_y_train=y_train[10000:]\n",
    "# Modelin çalıştırılması\n",
    "history=model.fit(partial_x_train,partial_y_train, epochs=20, batch_size=512,validation_data=(x_val,y_val))\n",
    "\n"
   ]
  },
  {
   "cell_type": "markdown",
   "metadata": {},
   "source": [
    "***Aktivasyon fonksiyonunu değiştirmek***"
   ]
  },
  {
   "cell_type": "code",
   "execution_count": 19,
   "metadata": {},
   "outputs": [
    {
     "name": "stdout",
     "output_type": "stream",
     "text": [
      "Train on 15000 samples, validate on 10000 samples\n",
      "Epoch 1/20\n",
      "15000/15000 [==============================] - 2s 157us/step - loss: 0.5066 - acc: 0.7856 - val_loss: 0.3742 - val_acc: 0.8685\n",
      "Epoch 2/20\n",
      "15000/15000 [==============================] - 2s 150us/step - loss: 0.2926 - acc: 0.9046 - val_loss: 0.2965 - val_acc: 0.8868\n",
      "Epoch 3/20\n",
      "15000/15000 [==============================] - 2s 145us/step - loss: 0.2055 - acc: 0.9341 - val_loss: 0.2907 - val_acc: 0.8793\n",
      "Epoch 4/20\n",
      "15000/15000 [==============================] - 2s 148us/step - loss: 0.1587 - acc: 0.9463 - val_loss: 0.2777 - val_acc: 0.8874\n",
      "Epoch 5/20\n",
      "15000/15000 [==============================] - 2s 147us/step - loss: 0.1196 - acc: 0.9612 - val_loss: 0.3017 - val_acc: 0.8840\n",
      "Epoch 6/20\n",
      "15000/15000 [==============================] - 2s 149us/step - loss: 0.0919 - acc: 0.9711 - val_loss: 0.3247 - val_acc: 0.8812\n",
      "Epoch 7/20\n",
      "15000/15000 [==============================] - 2s 147us/step - loss: 0.0726 - acc: 0.9785 - val_loss: 0.3694 - val_acc: 0.8764\n",
      "Epoch 8/20\n",
      "15000/15000 [==============================] - 2s 150us/step - loss: 0.0546 - acc: 0.9851 - val_loss: 0.4055 - val_acc: 0.8766\n",
      "Epoch 9/20\n",
      "15000/15000 [==============================] - 2s 144us/step - loss: 0.0444 - acc: 0.9870 - val_loss: 0.4489 - val_acc: 0.8742\n",
      "Epoch 10/20\n",
      "15000/15000 [==============================] - 2s 149us/step - loss: 0.0325 - acc: 0.9915 - val_loss: 0.5006 - val_acc: 0.8728\n",
      "Epoch 11/20\n",
      "15000/15000 [==============================] - 2s 145us/step - loss: 0.0320 - acc: 0.9917 - val_loss: 0.5424 - val_acc: 0.8673\n",
      "Epoch 12/20\n",
      "15000/15000 [==============================] - 2s 147us/step - loss: 0.0131 - acc: 0.9979 - val_loss: 0.5920 - val_acc: 0.8642\n",
      "Epoch 13/20\n",
      "15000/15000 [==============================] - 2s 149us/step - loss: 0.0275 - acc: 0.9919 - val_loss: 0.6103 - val_acc: 0.8661\n",
      "Epoch 14/20\n",
      "15000/15000 [==============================] - 2s 152us/step - loss: 0.0061 - acc: 0.9991 - val_loss: 0.6500 - val_acc: 0.8649\n",
      "Epoch 15/20\n",
      "15000/15000 [==============================] - 2s 152us/step - loss: 0.0189 - acc: 0.9951 - val_loss: 0.6789 - val_acc: 0.8660\n",
      "Epoch 16/20\n",
      "15000/15000 [==============================] - 2s 152us/step - loss: 0.0033 - acc: 0.9997 - val_loss: 0.7037 - val_acc: 0.8661\n",
      "Epoch 17/20\n",
      "15000/15000 [==============================] - 2s 150us/step - loss: 0.0069 - acc: 0.9983 - val_loss: 0.7637 - val_acc: 0.8584\n",
      "Epoch 18/20\n",
      "15000/15000 [==============================] - 2s 147us/step - loss: 0.0014 - acc: 0.9999 - val_loss: 0.7738 - val_acc: 0.8599\n",
      "Epoch 19/20\n",
      "15000/15000 [==============================] - 2s 154us/step - loss: 6.8547e-04 - acc: 1.0000 - val_loss: 0.8315 - val_acc: 0.8579\n",
      "Epoch 20/20\n",
      "15000/15000 [==============================] - 2s 152us/step - loss: 0.0037 - acc: 0.9991 - val_loss: 0.9503 - val_acc: 0.8480\n"
     ]
    }
   ],
   "source": [
    "from keras import models\n",
    "from keras import layers\n",
    "\n",
    "model=models.Sequential()\n",
    "model.add(layers.Dense(16, activation=\"tanh\",input_shape=(10000,)))\n",
    "model.add(layers.Dense(16,activation=\"tanh\"))\n",
    "model.add(layers.Dense(1,activation=\"sigmoid\"))\n",
    "# ---------------------------\n",
    "model.compile(optimizer=\"rmsprop\",loss=\"binary_crossentropy\",metrics=[\"acc\"])\n",
    "# Validation adımı\n",
    "x_val=x_train[:10000]\n",
    "partial_x_train=x_train[10000:]\n",
    "\n",
    "y_val=y_train[:10000]\n",
    "partial_y_train=y_train[10000:]\n",
    "# Modelin çalıştırılması\n",
    "history=model.fit(partial_x_train,partial_y_train, epochs=20, batch_size=512,validation_data=(x_val,y_val))\n",
    "\n"
   ]
  },
  {
   "cell_type": "code",
   "execution_count": null,
   "metadata": {},
   "outputs": [],
   "source": []
  }
 ],
 "metadata": {
  "kernelspec": {
   "display_name": "Python 3",
   "language": "python",
   "name": "python3"
  },
  "language_info": {
   "codemirror_mode": {
    "name": "ipython",
    "version": 3
   },
   "file_extension": ".py",
   "mimetype": "text/x-python",
   "name": "python",
   "nbconvert_exporter": "python",
   "pygments_lexer": "ipython3",
   "version": "3.7.4"
  }
 },
 "nbformat": 4,
 "nbformat_minor": 2
}
