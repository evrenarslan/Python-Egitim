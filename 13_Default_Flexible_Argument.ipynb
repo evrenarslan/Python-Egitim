{
 "cells": [
  {
   "cell_type": "markdown",
   "metadata": {},
   "source": [
    "# Default & Flexible Argument #\n",
    "\n",
    "Yazılan bir fonksiyon içerisine gönderilecek olan parametreler içerisinde bazı parametrelerin değer gönderilmediğinde daha önce belirlenmiş bir değerle çalışmasını sağlmak için bir değer belirleyebiliriz. Bununla birlikte sayısını bilmediğimiz kadar parametre ile de çalışmasını sağlayabiliriz. Eğer ki ****arg*** tek yıldız ile parametre belirtirsek değerleri bir ***tuple*** olarak, ***kwargs*** çift yıldız ile belirtirsek ***dictionary*** olararak beklediğini söylemiş oluruz. "
   ]
  },
  {
   "cell_type": "code",
   "execution_count": 1,
   "metadata": {},
   "outputs": [],
   "source": [
    "# Default parametre\n",
    "\n",
    "def funk_usalma(number,pov=1): # Eğer değer belirtilmez ise üssü 1 olarak alacağını belirtmiş oluyoruz.\n",
    "    sonuc=number**pov\n",
    "    return sonuc\n"
   ]
  },
  {
   "cell_type": "code",
   "execution_count": 2,
   "metadata": {},
   "outputs": [
    {
     "name": "stdout",
     "output_type": "stream",
     "text": [
      "9\n"
     ]
    }
   ],
   "source": [
    "print(funk_usalma(3,2))"
   ]
  },
  {
   "cell_type": "code",
   "execution_count": 3,
   "metadata": {},
   "outputs": [
    {
     "name": "stdout",
     "output_type": "stream",
     "text": [
      "3125\n"
     ]
    }
   ],
   "source": [
    "print(funk_usalma(5,5))"
   ]
  },
  {
   "cell_type": "code",
   "execution_count": 4,
   "metadata": {},
   "outputs": [
    {
     "name": "stdout",
     "output_type": "stream",
     "text": [
      "5\n"
     ]
    }
   ],
   "source": [
    "print(funk_usalma(5))"
   ]
  },
  {
   "cell_type": "code",
   "execution_count": 5,
   "metadata": {},
   "outputs": [],
   "source": [
    "# Çoklu parametre\n",
    "def funk_toplam(*args):\n",
    "    \"\"\"Verilen tüm sayıları toplar\"\"\"\n",
    "    sonuc=0\n",
    "    for num in args:\n",
    "        sonuc+=num\n",
    "    return sonuc\n"
   ]
  },
  {
   "cell_type": "code",
   "execution_count": 6,
   "metadata": {},
   "outputs": [
    {
     "name": "stdout",
     "output_type": "stream",
     "text": [
      "1\n"
     ]
    }
   ],
   "source": [
    "print(funk_toplam(1))"
   ]
  },
  {
   "cell_type": "code",
   "execution_count": 7,
   "metadata": {},
   "outputs": [
    {
     "name": "stdout",
     "output_type": "stream",
     "text": [
      "6\n"
     ]
    }
   ],
   "source": [
    "print(funk_toplam(1,2,3))"
   ]
  },
  {
   "cell_type": "code",
   "execution_count": 8,
   "metadata": {},
   "outputs": [
    {
     "name": "stdout",
     "output_type": "stream",
     "text": [
      "1106\n"
     ]
    }
   ],
   "source": [
    "print(funk_toplam(78,75,96,72,785))"
   ]
  },
  {
   "cell_type": "code",
   "execution_count": 9,
   "metadata": {},
   "outputs": [],
   "source": [
    "# **kwargs çoklu dictionary parametre\n",
    "\n",
    "def print_all(**kwargs):\n",
    "    \"\"\"kwargs içerisindeki tüm key-value değerlerini ekrana basar\"\"\"\n",
    "    for key,value in kwargs.items():\n",
    "        print(key + \": \"+ value)\n"
   ]
  },
  {
   "cell_type": "code",
   "execution_count": 10,
   "metadata": {},
   "outputs": [
    {
     "name": "stdout",
     "output_type": "stream",
     "text": [
      "adı: Evren\n",
      "Soyadı: Arslan\n"
     ]
    }
   ],
   "source": [
    "print_all(adı=\"Evren\", Soyadı=\"Arslan\")"
   ]
  },
  {
   "cell_type": "code",
   "execution_count": null,
   "metadata": {},
   "outputs": [],
   "source": []
  }
 ],
 "metadata": {
  "kernelspec": {
   "display_name": "Python 3",
   "language": "python",
   "name": "python3"
  },
  "language_info": {
   "codemirror_mode": {
    "name": "ipython",
    "version": 3
   },
   "file_extension": ".py",
   "mimetype": "text/x-python",
   "name": "python",
   "nbconvert_exporter": "python",
   "pygments_lexer": "ipython3",
   "version": "3.7.4"
  }
 },
 "nbformat": 4,
 "nbformat_minor": 2
}
