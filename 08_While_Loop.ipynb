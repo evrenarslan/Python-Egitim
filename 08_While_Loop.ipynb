{
 "cells": [
  {
   "cell_type": "markdown",
   "metadata": {},
   "source": [
    "# While Loop\n",
    "\n",
    "Verilen bir koşul gerçekleşene kadar istenilen işlemleri yapmak için kullanılır."
   ]
  },
  {
   "cell_type": "code",
   "execution_count": 1,
   "metadata": {},
   "outputs": [
    {
     "name": "stdout",
     "output_type": "stream",
     "text": [
      "12.5\n",
      "3.125\n",
      "0.78125\n"
     ]
    }
   ],
   "source": [
    "error=50.0\n",
    "\n",
    "while error >1:\n",
    "    error=error/4\n",
    "    print(error)"
   ]
  },
  {
   "cell_type": "code",
   "execution_count": 3,
   "metadata": {},
   "outputs": [
    {
     "name": "stdout",
     "output_type": "stream",
     "text": [
      "1. correcting...\n",
      "offset = 9\n",
      "2. correcting...\n",
      "offset = 8\n",
      "3. correcting...\n",
      "offset = 7\n",
      "4. correcting...\n",
      "offset = 6\n",
      "5. correcting...\n",
      "offset = 5\n",
      "6. correcting...\n",
      "offset = 4\n",
      "7. correcting...\n",
      "offset = 3\n",
      "8. correcting...\n",
      "offset = 2\n",
      "9. correcting...\n",
      "offset = 1\n",
      "10. correcting...\n",
      "offset = 0\n"
     ]
    }
   ],
   "source": [
    "offset=10\n",
    "i=1\n",
    "\n",
    "while offset!=0:\n",
    "    print(str(i)+\". correcting...\")\n",
    "    i=i+1\n",
    "    offset=offset-1\n",
    "    print(\"offset = \"+ str(offset))"
   ]
  },
  {
   "cell_type": "code",
   "execution_count": 5,
   "metadata": {},
   "outputs": [
    {
     "name": "stdout",
     "output_type": "stream",
     "text": [
      "1. correcting...\n",
      "offset = -9\n",
      "2. correcting...\n",
      "offset = -8\n",
      "3. correcting...\n",
      "offset = -7\n",
      "4. correcting...\n",
      "offset = -6\n",
      "5. correcting...\n",
      "offset = -5\n",
      "6. correcting...\n",
      "offset = -4\n",
      "7. correcting...\n",
      "offset = -3\n",
      "8. correcting...\n",
      "offset = -2\n",
      "9. correcting...\n",
      "offset = -1\n",
      "10. correcting...\n",
      "offset = 0\n"
     ]
    }
   ],
   "source": [
    "offset=-10\n",
    "i=1\n",
    "\n",
    "while offset!=0:\n",
    "    print(str(i)+\". correcting...\")\n",
    "    i=i+1\n",
    "    if offset<0:\n",
    "        offset=offset+1\n",
    "    else:\n",
    "        offset=offset-1\n",
    "    print(\"offset = \"+ str(offset))"
   ]
  },
  {
   "cell_type": "markdown",
   "metadata": {},
   "source": [
    "# For Loop"
   ]
  },
  {
   "cell_type": "code",
   "execution_count": 6,
   "metadata": {},
   "outputs": [
    {
     "name": "stdout",
     "output_type": "stream",
     "text": [
      "1.73\n",
      "1.68\n",
      "1.71\n",
      "1.89\n"
     ]
    }
   ],
   "source": [
    "fam = [1.73, 1.68, 1.71, 1.89]\n",
    "for height in fam : \n",
    "    print(height)"
   ]
  },
  {
   "cell_type": "code",
   "execution_count": 11,
   "metadata": {},
   "outputs": [
    {
     "name": "stdout",
     "output_type": "stream",
     "text": [
      "index 0 : 1.73\n",
      "index 1 : 1.68\n",
      "index 2 : 1.71\n",
      "index 3 : 1.89\n"
     ]
    }
   ],
   "source": [
    "# Burada bir array içerisindeki değerler ile birlikte index değerlerini alacağız.\n",
    "fam=[1.73,1.68,1.71,1.89]\n",
    "for index,height in enumerate(fam) :\n",
    "    print(\"index \"+str(index)+\" : \" + str(height))\n",
    "    "
   ]
  },
  {
   "cell_type": "code",
   "execution_count": 1,
   "metadata": {},
   "outputs": [],
   "source": [
    "house = [[\"hallway\", 11.25], \n",
    "         [\"kitchen\", 18.0], \n",
    "         [\"living room\", 20.0], \n",
    "         [\"bedroom\", 10.75], \n",
    "         [\"bathroom\", 9.50]]"
   ]
  },
  {
   "cell_type": "code",
   "execution_count": 17,
   "metadata": {},
   "outputs": [
    {
     "name": "stdout",
     "output_type": "stream",
     "text": [
      "['hallway', 11.25]\n",
      "the hallway is 11.25 sqm\n",
      "['kitchen', 18.0]\n",
      "the kitchen is 18.0 sqm\n",
      "['living room', 20.0]\n",
      "the living room is 20.0 sqm\n",
      "['bedroom', 10.75]\n",
      "the bedroom is 10.75 sqm\n",
      "['bathroom', 9.5]\n",
      "the bathroom is 9.5 sqm\n"
     ]
    }
   ],
   "source": [
    "for x in house:\n",
    "    print(x)\n",
    "    print(\"the \"+ str(x[0]) + \" is \" + str(x[1]) + \" sqm\" )"
   ]
  },
  {
   "cell_type": "markdown",
   "metadata": {},
   "source": [
    "***Dictionary için for loop kullanmak*** "
   ]
  },
  {
   "cell_type": "code",
   "execution_count": 20,
   "metadata": {},
   "outputs": [],
   "source": [
    "world={\"afganistan\":30.56,\n",
    "      \"albania\":56.89,\n",
    "      \"algeria\":85.75} # Basit bir dictionary yarattık."
   ]
  },
  {
   "cell_type": "code",
   "execution_count": 23,
   "metadata": {},
   "outputs": [
    {
     "name": "stdout",
     "output_type": "stream",
     "text": [
      "afganistan -- 30.56\n",
      "albania -- 56.89\n",
      "algeria -- 85.75\n"
     ]
    }
   ],
   "source": [
    "# For Loop ile bunun içinde dolaşmak için key value değerlerini ayrı ayrı çağırabiliriz. Fakat bunun düzgün bir şekilde çalışması\n",
    "# için items() metodu ile çağırmak gerekiyor.\n",
    "\n",
    "for key,value in world.items(): # burada isimlerin key yada value olarak gelmesi isimle değil sıra ile ilintili. \n",
    "    print(key + \" -- \" + str(value))"
   ]
  },
  {
   "cell_type": "markdown",
   "metadata": {},
   "source": [
    "***Numpy array için for loop kullanmak***"
   ]
  },
  {
   "cell_type": "code",
   "execution_count": 25,
   "metadata": {},
   "outputs": [
    {
     "name": "stdout",
     "output_type": "stream",
     "text": [
      "1\n",
      "2\n",
      "3\n",
      "4\n",
      "5\n"
     ]
    }
   ],
   "source": [
    "# Bir boyutlu numpy array için herhangi bir fark bulunmamakta\n",
    "import numpy as np\n",
    "\n",
    "X=np.array([1,2,3,4,5])\n",
    "\n",
    "for val in X:\n",
    "    print(val)"
   ]
  },
  {
   "cell_type": "code",
   "execution_count": 27,
   "metadata": {},
   "outputs": [
    {
     "name": "stdout",
     "output_type": "stream",
     "text": [
      "[1 2 3 4 5]\n",
      "[11 12 13 14 15]\n"
     ]
    }
   ],
   "source": [
    "# İki boyutlu numpy arrayler için durum değişir eğer aynı şekilde çağırır ise her bir değeri almak yerine her bir boyut gelir\n",
    "\n",
    "Y=np.array([11,12,13,14,15])\n",
    "\n",
    "Z=np.array([X,Y]) # 2 boyutlu bir array yarattık.\n",
    "\n",
    "for val in Z:\n",
    "    print(val)"
   ]
  },
  {
   "cell_type": "code",
   "execution_count": 28,
   "metadata": {},
   "outputs": [
    {
     "name": "stdout",
     "output_type": "stream",
     "text": [
      "1\n",
      "2\n",
      "3\n",
      "4\n",
      "5\n",
      "11\n",
      "12\n",
      "13\n",
      "14\n",
      "15\n"
     ]
    }
   ],
   "source": [
    "# Yukarıdaki durum yerine her bir değere ulaşmak istersek nditer() kullanmamız gerekir.\n",
    "\n",
    "for val in np.nditer(Z):\n",
    "    print(val)"
   ]
  },
  {
   "cell_type": "markdown",
   "metadata": {},
   "source": [
    "***Dataframe içerisindeki değerlere for loop ile ulaşmak***"
   ]
  },
  {
   "cell_type": "code",
   "execution_count": 34,
   "metadata": {},
   "outputs": [
    {
     "name": "stdout",
     "output_type": "stream",
     "text": [
      "         country    capital    area  population\n",
      "BR        Brazil   Brasilia   8.516      200.40\n",
      "RU        Russia     Moscow  17.100      143.50\n",
      "IN         India  New Delhi   3.286     1252.00\n",
      "CH         China    Beijing   9.597     1357.00\n",
      "SA  South Africa   Pretoria   1.221       52.98\n",
      "\n",
      "country\n",
      "capital\n",
      "area\n",
      "population\n"
     ]
    }
   ],
   "source": [
    "import pandas as pd\n",
    "brics=pd.read_csv(\"brics.csv\",index_col=0)\n",
    "\n",
    "print(brics)\n",
    "print()\n",
    "\n",
    "for val in brics:\n",
    "    print(val)"
   ]
  },
  {
   "cell_type": "markdown",
   "metadata": {},
   "source": [
    "Bu şekilde çağırdığımıda sadece kolon başlıklarını alabiliyoruz. Değerlere ulaşmak için iterrows() metodunu kullanmak gerekiyor"
   ]
  },
  {
   "cell_type": "code",
   "execution_count": 37,
   "metadata": {},
   "outputs": [
    {
     "name": "stdout",
     "output_type": "stream",
     "text": [
      "BR\n",
      "country         Brazil\n",
      "capital       Brasilia\n",
      "area             8.516\n",
      "population       200.4\n",
      "Name: BR, dtype: object\n",
      "RU\n",
      "country       Russia\n",
      "capital       Moscow\n",
      "area            17.1\n",
      "population     143.5\n",
      "Name: RU, dtype: object\n",
      "IN\n",
      "country           India\n",
      "capital       New Delhi\n",
      "area              3.286\n",
      "population         1252\n",
      "Name: IN, dtype: object\n",
      "CH\n",
      "country         China\n",
      "capital       Beijing\n",
      "area            9.597\n",
      "population       1357\n",
      "Name: CH, dtype: object\n",
      "SA\n",
      "country       South Africa\n",
      "capital           Pretoria\n",
      "area                 1.221\n",
      "population           52.98\n",
      "Name: SA, dtype: object\n"
     ]
    }
   ],
   "source": [
    "for lab, row in brics.iterrows():\n",
    "    print(lab) # Burada lab değeri dataframe içerisindeki index değerini getirir\n",
    "    print(row) # row parametresi data frame içerisinde ilgili indexli değerleri bir array olarak getirir."
   ]
  },
  {
   "cell_type": "code",
   "execution_count": 36,
   "metadata": {},
   "outputs": [
    {
     "name": "stdout",
     "output_type": "stream",
     "text": [
      "BR: Brasilia\n",
      "RU: Moscow\n",
      "IN: New Delhi\n",
      "CH: Beijing\n",
      "SA: Pretoria\n"
     ]
    }
   ],
   "source": [
    "for lab, row in brics.iterrows(): # Bir üstteki gibi tamamını dökebileceğim gibi belirli bir değerinde basabilirim.\n",
    "    print(lab + \": \" + row[\"capital\"])"
   ]
  },
  {
   "cell_type": "markdown",
   "metadata": {},
   "source": [
    "***Pandas dataframe içerisine hesaplanmış bir yeni kolon eklemek***\n",
    "\n",
    "Bunu yapmak için for loop kullanılabilir aşağıda bir örneği var ama bu ciddi olarak verimsiz bir yöntem bunun yerine apply() fonksiyonunu kullanmak kesinlikle doğru olacaktır. For loop ile bunu yaparken her bir iterasyonda yeni bir array yaratılır bu sebeple verimsizdir."
   ]
  },
  {
   "cell_type": "code",
   "execution_count": 39,
   "metadata": {},
   "outputs": [
    {
     "name": "stdout",
     "output_type": "stream",
     "text": [
      "         country    capital    area  population  name_lenght\n",
      "BR        Brazil   Brasilia   8.516      200.40          6.0\n",
      "RU        Russia     Moscow  17.100      143.50          6.0\n",
      "IN         India  New Delhi   3.286     1252.00          5.0\n",
      "CH         China    Beijing   9.597     1357.00          5.0\n",
      "SA  South Africa   Pretoria   1.221       52.98         12.0\n"
     ]
    }
   ],
   "source": [
    "for lab, row in brics.iterrows():\n",
    "    brics.loc[lab,\"name_lenght\"]=len(row[\"country\"]) # Burada her bir satır için ayrı olarak ekleme yaptık.\n",
    "\n",
    "print(brics)"
   ]
  },
  {
   "cell_type": "code",
   "execution_count": 42,
   "metadata": {},
   "outputs": [
    {
     "name": "stdout",
     "output_type": "stream",
     "text": [
      "         country    capital    area  population  name_lenght  capital_lenght\n",
      "BR        Brazil   Brasilia   8.516      200.40          6.0               8\n",
      "RU        Russia     Moscow  17.100      143.50          6.0               6\n",
      "IN         India  New Delhi   3.286     1252.00          5.0               9\n",
      "CH         China    Beijing   9.597     1357.00          5.0               7\n",
      "SA  South Africa   Pretoria   1.221       52.98         12.0               8\n"
     ]
    }
   ],
   "source": [
    "# apply ile yeni kolon eklemek\n",
    "brics[\"capital_lenght\"]=brics[\"capital\"].apply(len) # çok daha hızlı ve verimli\n",
    "\n",
    "print(brics)"
   ]
  },
  {
   "cell_type": "code",
   "execution_count": null,
   "metadata": {},
   "outputs": [],
   "source": []
  }
 ],
 "metadata": {
  "kernelspec": {
   "display_name": "Python 3",
   "language": "python",
   "name": "python3"
  },
  "language_info": {
   "codemirror_mode": {
    "name": "ipython",
    "version": 3
   },
   "file_extension": ".py",
   "mimetype": "text/x-python",
   "name": "python",
   "nbconvert_exporter": "python",
   "pygments_lexer": "ipython3",
   "version": "3.7.4"
  }
 },
 "nbformat": 4,
 "nbformat_minor": 2
}
