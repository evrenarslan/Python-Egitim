{
 "cells": [
  {
   "cell_type": "markdown",
   "metadata": {},
   "source": [
    "# if else elif ile koşullu işlemler\n",
    "\n",
    "if cümleciklerinde koşul belirttikten sonra : ile komutlar yazılır. Bir alt satırda girinti içindekiler bir blok olarak çalıştırılır. Girinti silinir ise blok dışına çıkılır."
   ]
  },
  {
   "cell_type": "code",
   "execution_count": 1,
   "metadata": {},
   "outputs": [],
   "source": [
    "# Değişkenlerimizi tanımlayalım\n",
    "oda=\"mutfak\"\n",
    "alan=14.0"
   ]
  },
  {
   "cell_type": "code",
   "execution_count": 2,
   "metadata": {},
   "outputs": [
    {
     "name": "stdout",
     "output_type": "stream",
     "text": [
      "Mutfaktasın!\n"
     ]
    }
   ],
   "source": [
    "# Basit bir kural seti ile if kullanımını görelim\n",
    "if oda==\"mutfak\":\n",
    "    print(\"Mutfaktasın!\")\n"
   ]
  },
  {
   "cell_type": "code",
   "execution_count": 6,
   "metadata": {},
   "outputs": [],
   "source": [
    "if alan>15:\n",
    "    print(\"Burası gayet büyük bir alan.\") # alan değeri 15'ten büyük olmadığı bu değeri dönmez"
   ]
  },
  {
   "cell_type": "code",
   "execution_count": 8,
   "metadata": {},
   "outputs": [
    {
     "name": "stdout",
     "output_type": "stream",
     "text": [
      "Küçük ama ne yapalım :)\n"
     ]
    }
   ],
   "source": [
    "if alan>15:\n",
    "    print(\"Burası gayet büyük bir alan.\") # alan değeri 15'ten büyük olmadığı bu değeri dönmez\n",
    "else:\n",
    "    print(\"Küçük ama ne yapalım :)\")"
   ]
  },
  {
   "cell_type": "code",
   "execution_count": 7,
   "metadata": {},
   "outputs": [
    {
     "name": "stdout",
     "output_type": "stream",
     "text": [
      "Çok büyük değil ama idare eder.\n"
     ]
    }
   ],
   "source": [
    "if alan>15:\n",
    "    print(\"Burası gayet büyük!\")\n",
    "elif alan >10:\n",
    "    print(\"Çok büyük değil ama idare eder.\")\n",
    "else:\n",
    "    print(\"Küçük ama ne yapalım :)\")"
   ]
  },
  {
   "cell_type": "code",
   "execution_count": null,
   "metadata": {},
   "outputs": [],
   "source": []
  }
 ],
 "metadata": {
  "kernelspec": {
   "display_name": "Python 3",
   "language": "python",
   "name": "python3"
  },
  "language_info": {
   "codemirror_mode": {
    "name": "ipython",
    "version": 3
   },
   "file_extension": ".py",
   "mimetype": "text/x-python",
   "name": "python",
   "nbconvert_exporter": "python",
   "pygments_lexer": "ipython3",
   "version": "3.7.4"
  }
 },
 "nbformat": 4,
 "nbformat_minor": 2
}
