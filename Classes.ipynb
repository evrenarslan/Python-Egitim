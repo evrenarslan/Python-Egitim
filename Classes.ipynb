{
 "cells": [
  {
   "cell_type": "code",
   "execution_count": 1,
   "metadata": {},
   "outputs": [],
   "source": [
    "import matplotlib.pyplot as plt\n",
    "%matplotlib inline  "
   ]
  },
  {
   "cell_type": "code",
   "execution_count": 2,
   "metadata": {},
   "outputs": [],
   "source": [
    "#Cember isminde bir class yaratalım.\n",
    "class Cember(object):\n",
    "    #Constructor\n",
    "    def __init__(self,yaricap=2,renk=\"blue\"):\n",
    "        self.yaricap=yaricap\n",
    "        self.renk=renk\n",
    "    \n",
    "    #Method 1    \n",
    "    def yaricap_ekle(self,r):\n",
    "        self.yaricap=self.yaricap+r\n",
    "        return(self.yaricap)\n",
    "    \n",
    "    #Method 2\n",
    "    def cember_ciz(self):\n",
    "        plt.gca().add_patch(plt.Circle((0, 0), radius=self.yaricap, fc=self.renk))\n",
    "        plt.axis('scaled')\n",
    "        plt.show()  "
   ]
  },
  {
   "cell_type": "code",
   "execution_count": 3,
   "metadata": {},
   "outputs": [],
   "source": [
    "#Kirmizi cember isminde bir obje yaratacağım\n",
    "kirmizi_cember=Cember(10,\"red\")"
   ]
  },
  {
   "cell_type": "code",
   "execution_count": 4,
   "metadata": {},
   "outputs": [
    {
     "data": {
      "text/plain": [
       "['__class__',\n",
       " '__delattr__',\n",
       " '__dict__',\n",
       " '__dir__',\n",
       " '__doc__',\n",
       " '__eq__',\n",
       " '__format__',\n",
       " '__ge__',\n",
       " '__getattribute__',\n",
       " '__gt__',\n",
       " '__hash__',\n",
       " '__init__',\n",
       " '__init_subclass__',\n",
       " '__le__',\n",
       " '__lt__',\n",
       " '__module__',\n",
       " '__ne__',\n",
       " '__new__',\n",
       " '__reduce__',\n",
       " '__reduce_ex__',\n",
       " '__repr__',\n",
       " '__setattr__',\n",
       " '__sizeof__',\n",
       " '__str__',\n",
       " '__subclasshook__',\n",
       " '__weakref__',\n",
       " 'cember_ciz',\n",
       " 'renk',\n",
       " 'yaricap',\n",
       " 'yaricap_ekle']"
      ]
     },
     "execution_count": 4,
     "metadata": {},
     "output_type": "execute_result"
    }
   ],
   "source": [
    "# dir komutu ile objeyi inceleyelim\n",
    "dir(kirmizi_cember)"
   ]
  },
  {
   "cell_type": "code",
   "execution_count": 5,
   "metadata": {},
   "outputs": [
    {
     "name": "stdout",
     "output_type": "stream",
     "text": [
      "10\n",
      "red\n"
     ]
    }
   ],
   "source": [
    "#Bu obje içerisindeki niteliklerin değerlerini görelim\n",
    "print(kirmizi_cember.yaricap)\n",
    "print(kirmizi_cember.renk)"
   ]
  },
  {
   "cell_type": "code",
   "execution_count": 6,
   "metadata": {},
   "outputs": [
    {
     "name": "stdout",
     "output_type": "stream",
     "text": [
      "15\n"
     ]
    }
   ],
   "source": [
    "# Yaricap değerini 15 yapalım\n",
    "kirmizi_cember.yaricap=15\n",
    "print(kirmizi_cember.yaricap)"
   ]
  },
  {
   "cell_type": "code",
   "execution_count": 7,
   "metadata": {},
   "outputs": [
    {
     "data": {
      "image/png": "[encoded data removed]",
      "text/plain": [
       "<Figure size 432x288 with 1 Axes>"
      ]
     },
     "metadata": {
      "needs_background": "light"
     },
     "output_type": "display_data"
    }
   ],
   "source": [
    "#cember_ciz metodunu cağırarak cember çizelim\n",
    "kirmizi_cember.cember_ciz()"
   ]
  },
  {
   "cell_type": "code",
   "execution_count": 8,
   "metadata": {},
   "outputs": [
    {
     "name": "stdout",
     "output_type": "stream",
     "text": [
      "15\n",
      "20\n"
     ]
    }
   ],
   "source": [
    "#Yarıçap değerini büyütelim\n",
    "print(kirmizi_cember.yaricap)\n",
    "kirmizi_cember.yaricap_ekle(5)\n",
    "print(kirmizi_cember.yaricap)"
   ]
  },
  {
   "cell_type": "code",
   "execution_count": null,
   "metadata": {},
   "outputs": [],
   "source": []
  }
 ],
 "metadata": {
  "kernelspec": {
   "display_name": "Python 3",
   "language": "python",
   "name": "python3"
  },
  "language_info": {
   "codemirror_mode": {
    "name": "ipython",
    "version": 3
   },
   "file_extension": ".py",
   "mimetype": "text/x-python",
   "name": "python",
   "nbconvert_exporter": "python",
   "pygments_lexer": "ipython3",
   "version": "3.7.4"
  }
 },
 "nbformat": 4,
 "nbformat_minor": 2
}
