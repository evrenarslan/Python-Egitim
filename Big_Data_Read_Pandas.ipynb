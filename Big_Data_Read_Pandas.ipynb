{
 "cells": [
  {
   "cell_type": "code",
   "execution_count": 1,
   "metadata": {},
   "outputs": [],
   "source": [
    "import pandas as pd"
   ]
  },
  {
   "cell_type": "code",
   "execution_count": 2,
   "metadata": {},
   "outputs": [],
   "source": [
    "wd_file_reader=pd.read_csv(\"C:\\WorldBankData\\WDIData.csv\",chunksize=1000) # her çağırmada 1000'lik boyut okur"
   ]
  },
  {
   "cell_type": "code",
   "execution_count": 3,
   "metadata": {},
   "outputs": [],
   "source": [
    "data=pd.DataFrame() # Boş bir dataframe yarattım. Filitrelediğim kayıtları buraya koyacağım."
   ]
  },
  {
   "cell_type": "code",
   "execution_count": 4,
   "metadata": {},
   "outputs": [],
   "source": [
    "for df_data in wd_file_reader: # for döngüsünün içine sokarak tüm dataları okuyup Türkiyeye ait kayıtları buluyorum.\n",
    "    df_tur=df_data[df_data[\"Country Code\"]==\"TUR\"]\n",
    "    data=data.append(df_tur)\n"
   ]
  },
  {
   "cell_type": "code",
   "execution_count": 6,
   "metadata": {},
   "outputs": [
    {
     "data": {
      "text/plain": [
       "Country Name      1429\n",
       "Country Code      1429\n",
       "Indicator Name    1429\n",
       "Indicator Code    1429\n",
       "1960               249\n",
       "                  ... \n",
       "2016              1028\n",
       "2017               912\n",
       "2018               624\n",
       "2019                92\n",
       "Unnamed: 64          0\n",
       "Length: 65, dtype: int64"
      ]
     },
     "execution_count": 6,
     "metadata": {},
     "output_type": "execute_result"
    }
   ],
   "source": [
    "data.count()"
   ]
  },
  {
   "cell_type": "code",
   "execution_count": null,
   "metadata": {},
   "outputs": [],
   "source": []
  }
 ],
 "metadata": {
  "kernelspec": {
   "display_name": "Python 3",
   "language": "python",
   "name": "python3"
  },
  "language_info": {
   "codemirror_mode": {
    "name": "ipython",
    "version": 3
   },
   "file_extension": ".py",
   "mimetype": "text/x-python",
   "name": "python",
   "nbconvert_exporter": "python",
   "pygments_lexer": "ipython3",
   "version": "3.7.4"
  }
 },
 "nbformat": 4,
 "nbformat_minor": 2
}
