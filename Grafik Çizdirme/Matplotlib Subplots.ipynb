{
 "cells": [
  {
   "cell_type": "markdown",
   "metadata": {},
   "source": [
    "# Matplotlib Subplots\n",
    "\n",
    "Birden fazla grafiğin tek bir panel üzerinde görüntülenmesidir. Bunun için bir <code>figure</code> yaratıp akabinde onu <code>subplot</code>'lar ile alt grafiklere böleriz. Genellikle script layer yerine artist layer kullanarak subplot'ları oluştururuz.\n",
    "\n",
    "Subplot çizdirmek için: <br>\n",
    "```python\n",
    "    fig = plt.figure() # figure oluşturur\n",
    "    ax = fig.add_subplot(nrows, ncols, plot_number) # subplotlar oluşturur.\n",
    "```\n",
    "\n",
    "add_subplıt içerisindeki parametrelerin tanımı aşağıdaki gibidir.\n",
    "* `nrows` ve `ncols` oluşturulan figure'ün kaç kolon ve kaç satırdan oluşacağını söyler. Bu ikisinin çarpımı toplam alt grafik sayısını verir.\n",
    "* `plot_number`oluşturulan grafiğin figure içerisindeki kaçıncı grafik olduğunu söyler."
   ]
  },
  {
   "cell_type": "markdown",
   "metadata": {},
   "source": [
    "Örnekte kullandığımız veri setine ulaşmak için: \n",
    "\n",
    "https://www.un.org/en/development/desa/population/migration/data/empirical2/migrationflows.asp"
   ]
  },
  {
   "cell_type": "code",
   "execution_count": 1,
   "metadata": {},
   "outputs": [],
   "source": [
    "import pandas as pd\n",
    "import numpy as np"
   ]
  },
  {
   "cell_type": "markdown",
   "metadata": {},
   "source": [
    "## Datanın oluşturulması"
   ]
  },
  {
   "cell_type": "code",
   "execution_count": 2,
   "metadata": {},
   "outputs": [],
   "source": [
    "# Grafikte kullanacağımız datayı yükleyelim.\n",
    "df_can = pd.read_excel('Canada.xlsx',\n",
    "                       sheet_name='Canada by Citizenship',\n",
    "                       skiprows=range(20),\n",
    "                       skipfooter=2\n",
    "                      )\n",
    "# Bize gerekli olmayan kolonları silelim\n",
    "df_can.drop(['AREA', 'REG', 'DEV', 'Type', 'Coverage'], axis=1, inplace=True)\n",
    "# Kolon isimlerini değiştirelim\n",
    "df_can.rename(columns={'OdName':'Country', 'AreaName':'Continent','RegName':'Region'}, inplace=True)\n",
    "# Kolon isimlerini string yapalım\n",
    "df_can.columns = list(map(str, df_can.columns))\n",
    "# Country kolonunu index yapalım\n",
    "df_can.set_index('Country', inplace=True)\n",
    "# Index adını silelim\n",
    "df_can.index.name=None\n",
    "# Göçmen sayısın toplamını gösteren Total isimli bir kolon ekleyelim\n",
    "df_can['Total'] = df_can.sum(axis=1)\n",
    "# Grafik çizerken kullanmak üzere years adınsa bir dizi oluşturalım\n",
    "years = list(map(str, range(1980, 2014)))"
   ]
  },
  {
   "cell_type": "markdown",
   "metadata": {},
   "source": [
    "## Grafiğin oluşturulması"
   ]
  },
  {
   "cell_type": "code",
   "execution_count": 5,
   "metadata": {},
   "outputs": [],
   "source": [
    "%matplotlib inline\n",
    "\n",
    "import matplotlib as mlp\n",
    "import matplotlib.pyplot as plt\n",
    "\n",
    "mlp.style.use(\"ggplot\")"
   ]
  },
  {
   "cell_type": "code",
   "execution_count": null,
   "metadata": {},
   "outputs": [],
   "source": []
  }
 ],
 "metadata": {
  "kernelspec": {
   "display_name": "Python 3",
   "language": "python",
   "name": "python3"
  },
  "language_info": {
   "codemirror_mode": {
    "name": "ipython",
    "version": 3
   },
   "file_extension": ".py",
   "mimetype": "text/x-python",
   "name": "python",
   "nbconvert_exporter": "python",
   "pygments_lexer": "ipython3",
   "version": "3.7.4"
  }
 },
 "nbformat": 4,
 "nbformat_minor": 2
}
