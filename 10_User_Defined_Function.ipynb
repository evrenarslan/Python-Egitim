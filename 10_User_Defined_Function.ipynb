{
 "cells": [
  {
   "cell_type": "markdown",
   "metadata": {},
   "source": [
    "# User Defined Function\n",
    "\n",
    "Python içerisinde herhangi bir tekrarlı işi yaptırmak için kendi fonksiyonlarımızı yazabiliriz.\n",
    "\n",
    "def fonksiyon_adi(): şeklinde tanım yapmak yeterlidir."
   ]
  },
  {
   "cell_type": "code",
   "execution_count": 1,
   "metadata": {},
   "outputs": [
    {
     "name": "stdout",
     "output_type": "stream",
     "text": [
      "16\n"
     ]
    }
   ],
   "source": [
    "def func_4kare(): # Parametre almayan fonksiyon\n",
    "    sonuc=4**2\n",
    "    print(sonuc)\n",
    "    \n",
    "func_4kare()\n",
    "    "
   ]
  },
  {
   "cell_type": "code",
   "execution_count": 2,
   "metadata": {},
   "outputs": [],
   "source": [
    "def func_kare(sayi): # Burada beliri bir parametere ile hangi sayının karesini istiyor isek hesaplatıyoruz\n",
    "    sonuc=sayi**2\n",
    "    print(sonuc)"
   ]
  },
  {
   "cell_type": "code",
   "execution_count": 3,
   "metadata": {},
   "outputs": [
    {
     "name": "stdout",
     "output_type": "stream",
     "text": [
      "16\n"
     ]
    }
   ],
   "source": [
    "func_kare(4)"
   ]
  },
  {
   "cell_type": "code",
   "execution_count": 4,
   "metadata": {},
   "outputs": [
    {
     "name": "stdout",
     "output_type": "stream",
     "text": [
      "256\n"
     ]
    }
   ],
   "source": [
    "func_kare(16)"
   ]
  },
  {
   "cell_type": "code",
   "execution_count": 6,
   "metadata": {},
   "outputs": [],
   "source": [
    "def func_kare_return(sayi): # Sonucu yazdırmak yerine kullandığı alanda bir değişkende saklayacak şekilde geri dönüyoruz.\n",
    "    sonuc=sayi**2\n",
    "    return(sonuc)\n"
   ]
  },
  {
   "cell_type": "code",
   "execution_count": 7,
   "metadata": {},
   "outputs": [
    {
     "name": "stdout",
     "output_type": "stream",
     "text": [
      "361\n"
     ]
    }
   ],
   "source": [
    "kare=func_kare_return(19)\n",
    "print(kare)"
   ]
  },
  {
   "cell_type": "markdown",
   "metadata": {},
   "source": [
    "***Fonksiyonların ne işe yaratıklarını ilk satırda 3 tane ' işareti arasında yazabiliriz***"
   ]
  },
  {
   "cell_type": "code",
   "execution_count": 8,
   "metadata": {},
   "outputs": [],
   "source": [
    "def func_kare_return(sayi):\n",
    "    '''Bir sayının karesini almak için kullanılır'''\n",
    "    sonuc=sayi**2\n",
    "    return(sonuc)"
   ]
  },
  {
   "cell_type": "code",
   "execution_count": 9,
   "metadata": {},
   "outputs": [
    {
     "data": {
      "text/plain": [
       "16"
      ]
     },
     "execution_count": 9,
     "metadata": {},
     "output_type": "execute_result"
    }
   ],
   "source": [
    "func_kare_return(4)"
   ]
  },
  {
   "cell_type": "markdown",
   "metadata": {},
   "source": [
    "***Multiple parameters***"
   ]
  },
  {
   "cell_type": "code",
   "execution_count": 10,
   "metadata": {},
   "outputs": [],
   "source": [
    "def func_us_mul(sayi1,sayi2):\n",
    "    '''Verilen iki sayıdan birincinin ikinciye göre üssünü alır'''\n",
    "    sonuc=sayi1**sayi2\n",
    "    return(sonuc)\n"
   ]
  },
  {
   "cell_type": "code",
   "execution_count": 11,
   "metadata": {},
   "outputs": [
    {
     "data": {
      "text/plain": [
       "64"
      ]
     },
     "execution_count": 11,
     "metadata": {},
     "output_type": "execute_result"
    }
   ],
   "source": [
    "func_us_mul(2,6)"
   ]
  },
  {
   "cell_type": "markdown",
   "metadata": {},
   "source": [
    "Eğer ki birden fazla değer dönmek istersek tuple kullanabiliriz. Tuple ile listler arasındaki farklar\n",
    "* () ile tanımlanırlar tuple1=(1,2,3)\n",
    "* İçindeki öğeler değiştirilemezler\n",
    "* İçindeki değerler birden fazla değişkene aynı anda atanabilir. a,b,c=tuple1 gibi a=1, b=2, c=3 olur\n",
    "\n",
    "Bunların dışında diğer özellikleri arraylarden farklı değildir."
   ]
  },
  {
   "cell_type": "code",
   "execution_count": 14,
   "metadata": {},
   "outputs": [],
   "source": [
    "def func_us_mul_tup(sayi1,sayi2):\n",
    "    '''Verilen iki sayının her ikisinin sıra ile birbirinin üssü olacak şekilde hesaplar'''\n",
    "    sonuc1=sayi1**sayi2\n",
    "    sonuc2=sayi2**sayi1\n",
    "    sonuc=(sonuc1,sonuc2) # sonuc diye bir tuple tanımladım\n",
    "    return(sonuc)"
   ]
  },
  {
   "cell_type": "code",
   "execution_count": 15,
   "metadata": {},
   "outputs": [
    {
     "name": "stdout",
     "output_type": "stream",
     "text": [
      "(64, 36)\n"
     ]
    }
   ],
   "source": [
    "usler=func_us_mul_tup(2,6)\n",
    "print(usler)"
   ]
  },
  {
   "cell_type": "code",
   "execution_count": null,
   "metadata": {},
   "outputs": [],
   "source": []
  }
 ],
 "metadata": {
  "kernelspec": {
   "display_name": "Python 3",
   "language": "python",
   "name": "python3"
  },
  "language_info": {
   "codemirror_mode": {
    "name": "ipython",
    "version": 3
   },
   "file_extension": ".py",
   "mimetype": "text/x-python",
   "name": "python",
   "nbconvert_exporter": "python",
   "pygments_lexer": "ipython3",
   "version": "3.7.4"
  }
 },
 "nbformat": 4,
 "nbformat_minor": 2
}
