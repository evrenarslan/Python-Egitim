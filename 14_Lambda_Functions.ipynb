{
 "cells": [
  {
   "cell_type": "markdown",
   "metadata": {},
   "source": [
    "# Lambda Fonksiyonları #\n",
    "\n",
    "Python içerisinde standart olarak fonksiyon yazarken ***def*** ile tanımlayarak yazıyoruz. Bununla birlikte ayrı olarak tanımlamaya gerek olmadan ***lambda*** ile tanımlayarak tek satırda bir fonksiyon tanımlayıp onu kullanabiliriz. Bunu genellikle kısa süreli olarak kullanılacak yada built-in fonksiyonların parametresi olarak kullanmayı düşündüğümüz fonksiyonları yazmak için kullanırız.\n",
    "\n",
    "***lambda parametreler : yapılacak işlem***"
   ]
  },
  {
   "cell_type": "code",
   "execution_count": 4,
   "metadata": {},
   "outputs": [],
   "source": [
    "us_alma= lambda x,y: x**y # Bu şekilde bir fonksiyon tanımlamış olduk. :'dan önceki kısım fonksiyonun parametrelerini gösterir."
   ]
  },
  {
   "cell_type": "code",
   "execution_count": 2,
   "metadata": {},
   "outputs": [
    {
     "data": {
      "text/plain": [
       "8"
      ]
     },
     "execution_count": 2,
     "metadata": {},
     "output_type": "execute_result"
    }
   ],
   "source": [
    "us_alma(2,3)"
   ]
  },
  {
   "cell_type": "code",
   "execution_count": 8,
   "metadata": {},
   "outputs": [
    {
     "name": "stdout",
     "output_type": "stream",
     "text": [
      "<map object at 0x000002A07363CC48>\n",
      "[1, 4, 9, 16, 25, 36, 49, 64, 81]\n"
     ]
    }
   ],
   "source": [
    "sayilar=[1,2,3,4,5,6,7,8,9]\n",
    "\n",
    "kare_all=map(lambda sayi:sayi**2,sayilar) # map fonksiyonunun ilk parametresi için bir fonksiyon veriyoruz ve bu fonksiyonu tüm \n",
    "# liste elemanlarına uyguluyor.\n",
    "\n",
    "print(kare_all)\n",
    "print(list(kare_all))"
   ]
  },
  {
   "cell_type": "code",
   "execution_count": 10,
   "metadata": {},
   "outputs": [
    {
     "name": "stdout",
     "output_type": "stream",
     "text": [
      "[2, 4, 6, 8]\n"
     ]
    }
   ],
   "source": [
    "cift_sayilar=list(filter(lambda x: (x%2==0),sayilar)) # Sadece çift sayılardan oluşan yeni liste yarattım\n",
    "print(cift_sayilar)"
   ]
  },
  {
   "cell_type": "code",
   "execution_count": null,
   "metadata": {},
   "outputs": [],
   "source": []
  }
 ],
 "metadata": {
  "kernelspec": {
   "display_name": "Python 3",
   "language": "python",
   "name": "python3"
  },
  "language_info": {
   "codemirror_mode": {
    "name": "ipython",
    "version": 3
   },
   "file_extension": ".py",
   "mimetype": "text/x-python",
   "name": "python",
   "nbconvert_exporter": "python",
   "pygments_lexer": "ipython3",
   "version": "3.7.4"
  }
 },
 "nbformat": 4,
 "nbformat_minor": 2
}
