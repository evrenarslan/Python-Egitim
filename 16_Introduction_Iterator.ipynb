{
 "cells": [
  {
   "cell_type": "code",
   "execution_count": 1,
   "metadata": {},
   "outputs": [
    {
     "name": "stdout",
     "output_type": "stream",
     "text": [
      "E\n",
      "v\n",
      "r\n",
      "e\n",
      "n\n",
      " \n",
      "A\n",
      "r\n",
      "s\n",
      "l\n",
      "a\n",
      "n\n"
     ]
    }
   ],
   "source": [
    "for letter in \"Evren Arslan\":\n",
    "    print(letter)"
   ]
  },
  {
   "cell_type": "code",
   "execution_count": 3,
   "metadata": {},
   "outputs": [
    {
     "name": "stdout",
     "output_type": "stream",
     "text": [
      "0\n",
      "1\n",
      "2\n",
      "3\n"
     ]
    }
   ],
   "source": [
    "for i in range(4):\n",
    "    print(i)"
   ]
  },
  {
   "cell_type": "code",
   "execution_count": 4,
   "metadata": {},
   "outputs": [],
   "source": [
    "word=\"Evren\"\n",
    "it=iter(word) # iter ile her seferinde bir üyesinin alınmasını sağlıyoruz.\n"
   ]
  },
  {
   "cell_type": "code",
   "execution_count": 5,
   "metadata": {},
   "outputs": [
    {
     "data": {
      "text/plain": [
       "'E'"
      ]
     },
     "execution_count": 5,
     "metadata": {},
     "output_type": "execute_result"
    }
   ],
   "source": [
    "next(it) # next ile bir sonraki item çağırılır. İlk üye \"E\" olduğu için o gelir."
   ]
  },
  {
   "cell_type": "code",
   "execution_count": 6,
   "metadata": {},
   "outputs": [
    {
     "data": {
      "text/plain": [
       "'v'"
      ]
     },
     "execution_count": 6,
     "metadata": {},
     "output_type": "execute_result"
    }
   ],
   "source": [
    "next(it) # Bir sonraki üye gelir."
   ]
  },
  {
   "cell_type": "code",
   "execution_count": 10,
   "metadata": {},
   "outputs": [
    {
     "ename": "StopIteration",
     "evalue": "",
     "output_type": "error",
     "traceback": [
      "\u001b[1;31m---------------------------------------------------------------------------\u001b[0m",
      "\u001b[1;31mStopIteration\u001b[0m                             Traceback (most recent call last)",
      "\u001b[1;32m<ipython-input-10-bc1ab118995a>\u001b[0m in \u001b[0;36m<module>\u001b[1;34m\u001b[0m\n\u001b[1;32m----> 1\u001b[1;33m \u001b[0mnext\u001b[0m\u001b[1;33m(\u001b[0m\u001b[0mit\u001b[0m\u001b[1;33m)\u001b[0m\u001b[1;33m\u001b[0m\u001b[1;33m\u001b[0m\u001b[0m\n\u001b[0m",
      "\u001b[1;31mStopIteration\u001b[0m: "
     ]
    }
   ],
   "source": [
    "next(it) # Bunu sonuna kadar tekrar tekrar çağırdım ve listenin sonuna geldiği için StopIteration dedi."
   ]
  },
  {
   "cell_type": "code",
   "execution_count": 11,
   "metadata": {},
   "outputs": [
    {
     "name": "stdout",
     "output_type": "stream",
     "text": [
      "A r s l a n\n"
     ]
    }
   ],
   "source": [
    "Word=\"Arslan\"\n",
    "it=iter(Word)\n",
    "print(*it) # * ile çağırarak listenin sonuna kadar tüm iterasyonları bir kerede çağırılmasını sağladım"
   ]
  },
  {
   "cell_type": "code",
   "execution_count": 12,
   "metadata": {},
   "outputs": [
    {
     "name": "stdout",
     "output_type": "stream",
     "text": [
      "adı Evren\n",
      "soyadı arslan\n",
      "yas 43\n"
     ]
    }
   ],
   "source": [
    "ogrenciler={\"adı\":\"Evren\", \"soyadı\":\"arslan\", \"yas\":43} # Dictionary için iterasyonlar\n",
    "for key,value in ogrenciler.items(): # items() ile dictionary içinde iterasyonlar yapabiliyoruz.\n",
    "    print(key,value)\n"
   ]
  },
  {
   "cell_type": "markdown",
   "metadata": {},
   "source": [
    "**enumerate & zip**  \n",
    "\n",
    "Verilen bir listeye index numaraları eklemek için enumerate kullanılır. zip ise verilen iki listenin aynı indeksli üyelerini bir tuple olarak birleştirip, üyeleri tuplelardan oluşan bir array yapmak için kullanılır.\n",
    "\n",
    "**enumerate(list,start)            zip(*iterables)**"
   ]
  },
  {
   "cell_type": "code",
   "execution_count": 1,
   "metadata": {},
   "outputs": [
    {
     "name": "stdout",
     "output_type": "stream",
     "text": [
      "['elma', 'armut', 'portakal', 'ayva', 'karpuz']\n"
     ]
    }
   ],
   "source": [
    "listem=[\"elma\",\"armut\",\"portakal\",\"ayva\",\"karpuz\"]\n",
    "print(listem)"
   ]
  },
  {
   "cell_type": "code",
   "execution_count": 2,
   "metadata": {},
   "outputs": [],
   "source": [
    "index_listem=enumerate(listem) # Default olarak sıfırdan başlarak sıra numarası verir."
   ]
  },
  {
   "cell_type": "code",
   "execution_count": 3,
   "metadata": {},
   "outputs": [
    {
     "name": "stdout",
     "output_type": "stream",
     "text": [
      "<enumerate object at 0x000002538DB719A8>\n"
     ]
    }
   ],
   "source": [
    "print(index_listem) # Bunu direkt print ederek içindeki değerleri göremeyiz. İçindekileri listelemek için list() kullanmalıyız"
   ]
  },
  {
   "cell_type": "code",
   "execution_count": 4,
   "metadata": {},
   "outputs": [
    {
     "name": "stdout",
     "output_type": "stream",
     "text": [
      "[(0, 'elma'), (1, 'armut'), (2, 'portakal'), (3, 'ayva'), (4, 'karpuz')]\n"
     ]
    }
   ],
   "source": [
    "print(list(index_listem))"
   ]
  },
  {
   "cell_type": "code",
   "execution_count": 5,
   "metadata": {},
   "outputs": [
    {
     "name": "stdout",
     "output_type": "stream",
     "text": [
      "[(5, 'elma'), (6, 'armut'), (7, 'portakal'), (8, 'ayva'), (9, 'karpuz')]\n"
     ]
    }
   ],
   "source": [
    "print(list(enumerate(listem,5))) # Sıra numarası vermeye 5'ten başlattım"
   ]
  },
  {
   "cell_type": "code",
   "execution_count": 22,
   "metadata": {},
   "outputs": [],
   "source": [
    "key_list=[\"adı\",\"soyadı\",\"yaşı\"]\n",
    "value_list=[\"evren\",\"arslan\",43]"
   ]
  },
  {
   "cell_type": "code",
   "execution_count": 29,
   "metadata": {},
   "outputs": [],
   "source": [
    "ogrenciler_zip=zip(key_list,value_list) # iki listeyi kullanarak bir tane zip objesi yarattık"
   ]
  },
  {
   "cell_type": "code",
   "execution_count": 24,
   "metadata": {
    "scrolled": false
   },
   "outputs": [
    {
     "name": "stdout",
     "output_type": "stream",
     "text": [
      "<zip object at 0x000002538F503948>\n"
     ]
    }
   ],
   "source": [
    "print(ogrenciler_zip) # Tıpkı enumerate gibi bu da direkt print edilemez"
   ]
  },
  {
   "cell_type": "code",
   "execution_count": 30,
   "metadata": {},
   "outputs": [
    {
     "name": "stdout",
     "output_type": "stream",
     "text": [
      "('adı', 'evren') ('soyadı', 'arslan') ('yaşı', 43)\n"
     ]
    }
   ],
   "source": [
    "print(*ogrenciler_zip) # Bunun ile zip objesini unzip edip bir tuple olarak döktük.\n",
    "# Bunu yaptıktan sonra aynı zip üzerinde tekrar çalışamayız. Eğer yapmak istiyorsak tekrar zip() yapmalıyız."
   ]
  },
  {
   "cell_type": "code",
   "execution_count": 31,
   "metadata": {},
   "outputs": [],
   "source": [
    "ogrenciler_zip=zip(key_list,value_list) \n",
    "ogrenciler_list=list(ogrenciler_zip) # Listeye dönüştürdük"
   ]
  },
  {
   "cell_type": "code",
   "execution_count": 32,
   "metadata": {},
   "outputs": [
    {
     "name": "stdout",
     "output_type": "stream",
     "text": [
      "[('adı', 'evren'), ('soyadı', 'arslan'), ('yaşı', 43)]\n"
     ]
    }
   ],
   "source": [
    "print(ogrenciler_list)"
   ]
  },
  {
   "cell_type": "markdown",
   "metadata": {},
   "source": [
    "**unzip** Bunun için list1,list2=zip(*pairs) kullanılır.  Yada direkt zip objesinin başına * konulur."
   ]
  },
  {
   "cell_type": "code",
   "execution_count": 17,
   "metadata": {},
   "outputs": [],
   "source": [
    "key_list_uz,value_list_uz=zip(*ogrenciler_list)"
   ]
  },
  {
   "cell_type": "code",
   "execution_count": 14,
   "metadata": {},
   "outputs": [
    {
     "data": {
      "text/plain": [
       "('adı', 'soyadı', 'yaşı')"
      ]
     },
     "execution_count": 14,
     "metadata": {},
     "output_type": "execute_result"
    }
   ],
   "source": [
    "key_list_uz"
   ]
  },
  {
   "cell_type": "code",
   "execution_count": 15,
   "metadata": {},
   "outputs": [
    {
     "data": {
      "text/plain": [
       "('evren', 'arslan', 43)"
      ]
     },
     "execution_count": 15,
     "metadata": {},
     "output_type": "execute_result"
    }
   ],
   "source": [
    "value_list_uz"
   ]
  },
  {
   "cell_type": "markdown",
   "metadata": {},
   "source": [
    "# Using iterating for load large files into the memory#"
   ]
  },
  {
   "cell_type": "code",
   "execution_count": null,
   "metadata": {},
   "outputs": [],
   "source": []
  }
 ],
 "metadata": {
  "kernelspec": {
   "display_name": "Python 3",
   "language": "python",
   "name": "python3"
  },
  "language_info": {
   "codemirror_mode": {
    "name": "ipython",
    "version": 3
   },
   "file_extension": ".py",
   "mimetype": "text/x-python",
   "name": "python",
   "nbconvert_exporter": "python",
   "pygments_lexer": "ipython3",
   "version": "3.7.4"
  }
 },
 "nbformat": 4,
 "nbformat_minor": 2
}
