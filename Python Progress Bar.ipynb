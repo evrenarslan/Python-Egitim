{
 "cells": [
  {
   "cell_type": "code",
   "execution_count": 1,
   "metadata": {},
   "outputs": [
    {
     "name": "stdout",
     "output_type": "stream",
     "text": [
      "Collecting progress\n",
      "  Downloading https://files.pythonhosted.org/packages/38/ef/2e887b3d2b248916fc2121889ce68af8a16aaddbe82f9ae6533c24ff0d2b/progress-1.5.tar.gz\n",
      "Installing collected packages: progress\n",
      "    Running setup.py install for progress: started\n",
      "    Running setup.py install for progress: finished with status 'done'\n",
      "Successfully installed progress-1.5\n"
     ]
    }
   ],
   "source": [
    "!pip install progress"
   ]
  },
  {
   "cell_type": "code",
   "execution_count": 2,
   "metadata": {},
   "outputs": [],
   "source": [
    "import time\n",
    "from progress.bar import IncrementalBar"
   ]
  },
  {
   "cell_type": "code",
   "execution_count": 6,
   "metadata": {},
   "outputs": [],
   "source": [
    "mylist=[1,2,3,4,5,6]\n",
    "\n",
    "bar=IncrementalBar('Countdown',max=len(mylist)) # Burada IncremantalBar dışında seçeneklerde mevcut. Library sitesine bakılabilir.\n",
    "\n",
    "for item in mylist:\n",
    "    bar.next()\n",
    "    time.sleep(1)\n",
    "    \n",
    "bar.finish()"
   ]
  },
  {
   "cell_type": "code",
   "execution_count": 4,
   "metadata": {},
   "outputs": [
    {
     "name": "stdout",
     "output_type": "stream",
     "text": [
      "Collecting tqdm\n",
      "  Downloading https://files.pythonhosted.org/packages/8c/c3/d049cf3fb31094ee045ec1ee29fffac218c91e82c8838c49ab4c3e52627b/tqdm-4.41.0-py2.py3-none-any.whl (56kB)\n",
      "Installing collected packages: tqdm\n",
      "Successfully installed tqdm-4.41.0\n"
     ]
    }
   ],
   "source": [
    "!pip install tqdm"
   ]
  },
  {
   "cell_type": "code",
   "execution_count": 5,
   "metadata": {},
   "outputs": [
    {
     "name": "stderr",
     "output_type": "stream",
     "text": [
      "100%|████████████████████████████████████████████████████████████████████████████████████| 8/8 [00:08<00:00,  1.00s/it]\n"
     ]
    }
   ],
   "source": [
    "import time\n",
    "from tqdm import tqdm\n",
    "mylist = [1,2,3,4,5,6,7,8]\n",
    "for i in tqdm(mylist):\n",
    "    time.sleep(1)"
   ]
  },
  {
   "cell_type": "code",
   "execution_count": 8,
   "metadata": {},
   "outputs": [
    {
     "name": "stdout",
     "output_type": "stream",
     "text": [
      "Collecting alive_progress\n",
      "  Downloading https://files.pythonhosted.org/packages/bf/f8/7ee19176595f56a0ee0b5f38c9837585ab6b7f5f85406c62ebcf17109bd7/alive_progress-1.3.0-py3-none-any.whl\n",
      "Installing collected packages: alive-progress\n",
      "Successfully installed alive-progress-1.3.0\n"
     ]
    }
   ],
   "source": [
    "!pip install alive_progress"
   ]
  },
  {
   "cell_type": "code",
   "execution_count": 9,
   "metadata": {},
   "outputs": [],
   "source": [
    "from alive_progress import alive_bar\n",
    "import time\n",
    "mylist = [1,2,3,4,5,6,7,8]\n",
    "with alive_bar(len(mylist)) as bar:\n",
    "    for i in mylist:\n",
    "        bar()\n",
    "        time.sleep(1)"
   ]
  },
  {
   "cell_type": "code",
   "execution_count": null,
   "metadata": {},
   "outputs": [],
   "source": []
  }
 ],
 "metadata": {
  "kernelspec": {
   "display_name": "Python 3",
   "language": "python",
   "name": "python3"
  },
  "language_info": {
   "codemirror_mode": {
    "name": "ipython",
    "version": 3
   },
   "file_extension": ".py",
   "mimetype": "text/x-python",
   "name": "python",
   "nbconvert_exporter": "python",
   "pygments_lexer": "ipython3",
   "version": "3.7.4"
  }
 },
 "nbformat": 4,
 "nbformat_minor": 2
}
