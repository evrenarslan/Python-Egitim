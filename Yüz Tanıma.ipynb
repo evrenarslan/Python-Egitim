{
 "cells": [
  {
   "cell_type": "code",
   "execution_count": 1,
   "metadata": {},
   "outputs": [],
   "source": [
    "import cv2  # import opencv library\n",
    "import os   # for Directories\n",
    "import matplotlib.pyplot as plt # for visualizing images\n",
    "import numpy as np # for passing labels in train function \n",
    "# visualizing the plots in jupyter\n",
    "%matplotlib inline"
   ]
  },
  {
   "cell_type": "code",
   "execution_count": 2,
   "metadata": {},
   "outputs": [],
   "source": [
    "# Function for detecting faces\n",
    "def detect_faces(img):\n",
    "    # as the detection is always done in gray images\n",
    "    gray_image = cv2.cvtColor(img,cv2.COLOR_BGR2GRAY)\n",
    "    # getting the knowledge file\n",
    "    lbp_cascade_face = cv2.CascadeClassifier('opencv-files/lbpcascade_frontalface.xml')\n",
    "    # detecting the faces\n",
    "    faces = lbp_cascade_face.detectMultiScale(gray_image, scaleFactor = 1.2, minNeighbors = 5)\n",
    "    #if no face is found\n",
    "    if(len(faces)==0):\n",
    "        return None,None\n",
    "    # else getting the co-ordinates\n",
    "    (x,y,w,h) = faces[0]\n",
    "    \n",
    "    return gray_image[y:y+w, x:x+h] , faces[0]"
   ]
  },
  {
   "cell_type": "code",
   "execution_count": 3,
   "metadata": {},
   "outputs": [],
   "source": [
    "# Function for preparing the data\n",
    "def prepare_data(data_path):\n",
    "    #initializing the faces and label to null\n",
    "    faces = []\n",
    "    labels = []\n",
    "    # getting the directory using os\n",
    "    dir_path = os.listdir(data_path)\n",
    "    # looping in the training directory, we have two sub folders (s1,s2)\n",
    "    for dir_name in dir_path:\n",
    "        #giving label an integer value\n",
    "        label = int(dir_name)\n",
    "        #the sub directory\n",
    "        sub_dir_path = data_path + \"/\" + dir_name\n",
    "        sub_dir = os.listdir(sub_dir_path)\n",
    "        \n",
    "        for image_dir_path in sub_dir:\n",
    "            #giving images their path\n",
    "            image_path = sub_dir_path + \"/\" + image_dir_path\n",
    "            # reading an image\n",
    "            img = cv2.imread(image_path)\n",
    "            # getting the face of each image\n",
    "            face , rect = detect_faces(img)\n",
    "            #check if face is present\n",
    "            if face is not None:\n",
    "                #append the faces and label\n",
    "                faces.append(face)\n",
    "                labels.append(label)\n",
    "    return faces , labels"
   ]
  },
  {
   "cell_type": "code",
   "execution_count": 4,
   "metadata": {},
   "outputs": [
    {
     "ename": "FileNotFoundError",
     "evalue": "[WinError 3] The system cannot find the path specified: 'training-data'",
     "output_type": "error",
     "traceback": [
      "\u001b[1;31m---------------------------------------------------------------------------\u001b[0m",
      "\u001b[1;31mFileNotFoundError\u001b[0m                         Traceback (most recent call last)",
      "\u001b[1;32m<ipython-input-4-4cf441471345>\u001b[0m in \u001b[0;36m<module>\u001b[1;34m\u001b[0m\n\u001b[0;32m      1\u001b[0m \u001b[1;31m# Getting all the images and their respective labels\u001b[0m\u001b[1;33m\u001b[0m\u001b[1;33m\u001b[0m\u001b[1;33m\u001b[0m\u001b[0m\n\u001b[1;32m----> 2\u001b[1;33m \u001b[0mfaces\u001b[0m \u001b[1;33m,\u001b[0m \u001b[0mlabels\u001b[0m \u001b[1;33m=\u001b[0m \u001b[0mprepare_data\u001b[0m\u001b[1;33m(\u001b[0m\u001b[1;34m'training-data'\u001b[0m\u001b[1;33m)\u001b[0m\u001b[1;33m\u001b[0m\u001b[1;33m\u001b[0m\u001b[0m\n\u001b[0m",
      "\u001b[1;32m<ipython-input-3-65153619876b>\u001b[0m in \u001b[0;36mprepare_data\u001b[1;34m(data_path)\u001b[0m\n\u001b[0;32m      5\u001b[0m     \u001b[0mlabels\u001b[0m \u001b[1;33m=\u001b[0m \u001b[1;33m[\u001b[0m\u001b[1;33m]\u001b[0m\u001b[1;33m\u001b[0m\u001b[1;33m\u001b[0m\u001b[0m\n\u001b[0;32m      6\u001b[0m     \u001b[1;31m# getting the directory using os\u001b[0m\u001b[1;33m\u001b[0m\u001b[1;33m\u001b[0m\u001b[1;33m\u001b[0m\u001b[0m\n\u001b[1;32m----> 7\u001b[1;33m     \u001b[0mdir_path\u001b[0m \u001b[1;33m=\u001b[0m \u001b[0mos\u001b[0m\u001b[1;33m.\u001b[0m\u001b[0mlistdir\u001b[0m\u001b[1;33m(\u001b[0m\u001b[0mdata_path\u001b[0m\u001b[1;33m)\u001b[0m\u001b[1;33m\u001b[0m\u001b[1;33m\u001b[0m\u001b[0m\n\u001b[0m\u001b[0;32m      8\u001b[0m     \u001b[1;31m# looping in the training directory, we have two sub folders (s1,s2)\u001b[0m\u001b[1;33m\u001b[0m\u001b[1;33m\u001b[0m\u001b[1;33m\u001b[0m\u001b[0m\n\u001b[0;32m      9\u001b[0m     \u001b[1;32mfor\u001b[0m \u001b[0mdir_name\u001b[0m \u001b[1;32min\u001b[0m \u001b[0mdir_path\u001b[0m\u001b[1;33m:\u001b[0m\u001b[1;33m\u001b[0m\u001b[1;33m\u001b[0m\u001b[0m\n",
      "\u001b[1;31mFileNotFoundError\u001b[0m: [WinError 3] The system cannot find the path specified: 'training-data'"
     ]
    }
   ],
   "source": [
    "# Getting all the images and their respective labels\n",
    "faces , labels = prepare_data('training-data')"
   ]
  },
  {
   "cell_type": "code",
   "execution_count": null,
   "metadata": {},
   "outputs": [],
   "source": []
  }
 ],
 "metadata": {
  "kernelspec": {
   "display_name": "Python 3",
   "language": "python",
   "name": "python3"
  },
  "language_info": {
   "codemirror_mode": {
    "name": "ipython",
    "version": 3
   },
   "file_extension": ".py",
   "mimetype": "text/x-python",
   "name": "python",
   "nbconvert_exporter": "python",
   "pygments_lexer": "ipython3",
   "version": "3.7.4"
  }
 },
 "nbformat": 4,
 "nbformat_minor": 2
}
