{
 "cells": [
  {
   "cell_type": "markdown",
   "metadata": {},
   "source": [
    "# Dosyaların sıkıştırılması \n",
    "\n",
    "Bir folder içerisinde bulunan yada tek başına bir dosyanın sıkıştırılması için **tarfile** kullanılabilir.\n",
    "\n",
    "## Sıkıştırma olmadan birden fazla dosyanın tek bir tar file içerisinde birleştirilmesi"
   ]
  },
  {
   "cell_type": "code",
   "execution_count": 1,
   "metadata": {},
   "outputs": [],
   "source": [
    "import tarfile"
   ]
  },
  {
   "cell_type": "code",
   "execution_count": 2,
   "metadata": {},
   "outputs": [],
   "source": [
    "tf=tarfile.open(\"ornek.tar\",mode=\"w\") #ornek adında yeni bir tar dosyasını \"w\" yazma modunda açar.\n",
    "tf.add(\"brics.csv\")\n",
    "tf.add(\"cars.csv\")\n",
    "tf.close()"
   ]
  },
  {
   "cell_type": "code",
   "execution_count": 6,
   "metadata": {},
   "outputs": [
    {
     "name": "stdout",
     "output_type": "stream",
     "text": [
      " Volume in drive C is Windows\n",
      " Volume Serial Number is 3865-7BB4\n",
      "\n",
      " Directory of C:\\Users\\evren\\OneDrive\\Documents\\GitHub\\Python-Egitim\n",
      "\n",
      "\n",
      " Directory of C:\\Users\\evren\\OneDrive\\Documents\\GitHub\\Python-Egitim\n",
      "\n",
      "01/12/2020  04:16 PM            10,240 ornek.tar\n",
      "               1 File(s)         10,240 bytes\n",
      "               0 Dir(s)  276,346,753,024 bytes free\n"
     ]
    }
   ],
   "source": [
    "!dir - \"ornek.tar\""
   ]
  },
  {
   "cell_type": "markdown",
   "metadata": {},
   "source": [
    "## Sıkıştırma yaparak tar dosyası üretmek"
   ]
  },
  {
   "cell_type": "code",
   "execution_count": 12,
   "metadata": {},
   "outputs": [
    {
     "name": "stdout",
     "output_type": "stream",
     "text": [
      "True\n"
     ]
    }
   ],
   "source": [
    "import tarfile\n",
    "print (tarfile.is_tarfile(\"ornek.tar\"))"
   ]
  },
  {
   "cell_type": "code",
   "execution_count": null,
   "metadata": {},
   "outputs": [],
   "source": []
  }
 ],
 "metadata": {
  "kernelspec": {
   "display_name": "Python 3",
   "language": "python",
   "name": "python3"
  },
  "language_info": {
   "codemirror_mode": {
    "name": "ipython",
    "version": 3
   },
   "file_extension": ".py",
   "mimetype": "text/x-python",
   "name": "python",
   "nbconvert_exporter": "python",
   "pygments_lexer": "ipython3",
   "version": "3.7.4"
  }
 },
 "nbformat": 4,
 "nbformat_minor": 2
}
