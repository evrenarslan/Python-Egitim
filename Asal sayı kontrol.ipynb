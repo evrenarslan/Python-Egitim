{
 "cells": [
  {
   "cell_type": "code",
   "execution_count": 2,
   "metadata": {},
   "outputs": [
    {
     "name": "stdout",
     "output_type": "stream",
     "text": [
      "Collecting sympy\n",
      "  Downloading sympy-1.5.1-py2.py3-none-any.whl (5.6 MB)\n",
      "Collecting mpmath>=0.19\n",
      "  Downloading mpmath-1.1.0.tar.gz (512 kB)\n",
      "Building wheels for collected packages: mpmath\n",
      "  Building wheel for mpmath (setup.py): started\n",
      "  Building wheel for mpmath (setup.py): finished with status 'done'\n",
      "  Created wheel for mpmath: filename=mpmath-1.1.0-py3-none-any.whl size=532244 sha256=df90498252e4dac4f17fdc77a038598b1773064a3e019021682f34a0e96d50be\n",
      "  Stored in directory: c:\\users\\evren\\appdata\\local\\pip\\cache\\wheels\\e2\\46\\78\\e78f76c356bca9277368f1f97a31b37a8cb937176d9511af31\n",
      "Successfully built mpmath\n",
      "Installing collected packages: mpmath, sympy\n",
      "Successfully installed mpmath-1.1.0 sympy-1.5.1\n"
     ]
    }
   ],
   "source": [
    "!pip install sympy"
   ]
  },
  {
   "cell_type": "code",
   "execution_count": 3,
   "metadata": {},
   "outputs": [],
   "source": [
    "import sympy"
   ]
  },
  {
   "cell_type": "code",
   "execution_count": 4,
   "metadata": {},
   "outputs": [
    {
     "name": "stdout",
     "output_type": "stream",
     "text": [
      "True\n"
     ]
    }
   ],
   "source": [
    "print(sympy.isprime(5))"
   ]
  },
  {
   "cell_type": "code",
   "execution_count": 5,
   "metadata": {},
   "outputs": [
    {
     "name": "stdout",
     "output_type": "stream",
     "text": [
      "False\n"
     ]
    }
   ],
   "source": [
    "print(sympy.isprime(6))"
   ]
  },
  {
   "cell_type": "code",
   "execution_count": 6,
   "metadata": {},
   "outputs": [
    {
     "name": "stdout",
     "output_type": "stream",
     "text": [
      "True\n"
     ]
    }
   ],
   "source": [
    "print(sympy.isprime(19))"
   ]
  },
  {
   "cell_type": "code",
   "execution_count": 31,
   "metadata": {},
   "outputs": [
    {
     "name": "stdout",
     "output_type": "stream",
     "text": [
      "19. 109912203092239643840221 = True\n",
      "19 is True\n"
     ]
    }
   ],
   "source": [
    "toplam=0\n",
    "for i in range(0,19):\n",
    "    toplam=toplam+(19**i)\n",
    "    if sympy.isprime(toplam)==True:\n",
    "        print(str(i+1)+\". \"+str(toplam)+\" = \" + str(sympy.isprime(toplam)))\n",
    "        print(str(i+1)+\" is \"+str(sympy.isprime(toplam)))\n",
    "    "
   ]
  },
  {
   "cell_type": "code",
   "execution_count": 38,
   "metadata": {},
   "outputs": [
    {
     "name": "stdout",
     "output_type": "stream",
     "text": [
      "19. 109912203092239643840221 = True\n",
      "19 is True\n"
     ]
    }
   ],
   "source": [
    "toplam=0\n",
    "for i in range(0,19):\n",
    "    toplam=toplam+(19**i)\n",
    "    if sympy.isprime(toplam)==True:\n",
    "        print(str(i+1)+\". \"+str(toplam)+\" = \" + str(sympy.isprime(toplam)))\n",
    "        print(str(i+1)+\" is \"+str(sympy.isprime(toplam)))"
   ]
  },
  {
   "cell_type": "code",
   "execution_count": 10,
   "metadata": {},
   "outputs": [
    {
     "name": "stdout",
     "output_type": "stream",
     "text": [
      "0\n",
      "1\n",
      "2\n",
      "3\n",
      "4\n",
      "5\n",
      "6\n",
      "7\n",
      "8\n",
      "9\n",
      "10\n",
      "11\n",
      "12\n",
      "13\n",
      "14\n",
      "15\n",
      "16\n",
      "17\n"
     ]
    }
   ],
   "source": [
    "for i in a:\n",
    "    print(i)"
   ]
  },
  {
   "cell_type": "code",
   "execution_count": null,
   "metadata": {},
   "outputs": [],
   "source": []
  }
 ],
 "metadata": {
  "kernelspec": {
   "display_name": "Python 3",
   "language": "python",
   "name": "python3"
  },
  "language_info": {
   "codemirror_mode": {
    "name": "ipython",
    "version": 3
   },
   "file_extension": ".py",
   "mimetype": "text/x-python",
   "name": "python",
   "nbconvert_exporter": "python",
   "pygments_lexer": "ipython3",
   "version": "3.7.4"
  }
 },
 "nbformat": 4,
 "nbformat_minor": 2
}
