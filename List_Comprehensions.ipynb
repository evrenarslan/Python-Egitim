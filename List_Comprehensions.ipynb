{
  "nbformat": 4,
  "nbformat_minor": 0,
  "metadata": {
    "colab": {
      "name": "List_Comprehensions.ipynb",
      "provenance": [],
      "collapsed_sections": [],
      "include_colab_link": true
    },
    "kernelspec": {
      "name": "python3",
      "display_name": "Python 3"
    }
  },
  "cells": [
    {
      "cell_type": "markdown",
      "metadata": {
        "id": "view-in-github",
        "colab_type": "text"
      },
      "source": [
        "<a href=\"https://colab.research.google.com/github/evrenarslan/Python-Egitim/blob/master/List_Comprehensions.ipynb\" target=\"_parent\"><img src=\"https://colab.research.google.com/assets/colab-badge.svg\" alt=\"Open In Colab\"/></a>"
      ]
    },
    {
      "cell_type": "markdown",
      "metadata": {
        "id": "v_H79YBMmSuA",
        "colab_type": "text"
      },
      "source": [
        "# List Comprehensions"
      ]
    },
    {
      "cell_type": "code",
      "metadata": {
        "id": "7veKrwtejtQ-",
        "colab_type": "code",
        "colab": {}
      },
      "source": [
        "liste=[15,18,2,69,34,75]\n",
        "yeni_liste=[] # Bir önceki listeden yaratacağımız yeni liste için bpş bir liste yaratıyoruz."
      ],
      "execution_count": 0,
      "outputs": []
    },
    {
      "cell_type": "code",
      "metadata": {
        "id": "dDOKooZTjuz-",
        "colab_type": "code",
        "outputId": "1e623c9b-562a-4124-8179-b1791a930027",
        "colab": {
          "base_uri": "https://localhost:8080/",
          "height": 34
        }
      },
      "source": [
        "for sayi in liste:\n",
        "  yeni_liste.append(sayi+1) # Verilen bir listedeki sayıların bir fazlası ile yeni liste yarattık, Fakat bu yöntem efektif bir yöntem değil.\n",
        "\n",
        "print(yeni_liste)"
      ],
      "execution_count": 0,
      "outputs": [
        {
          "output_type": "stream",
          "text": [
            "[16, 19, 3, 70, 35, 76]\n"
          ],
          "name": "stdout"
        }
      ]
    },
    {
      "cell_type": "code",
      "metadata": {
        "id": "6dz_OiVmnGmW",
        "colab_type": "code",
        "outputId": "5baac6ce-9f6d-479c-a683-3d49d663f082",
        "colab": {
          "base_uri": "https://localhost:8080/",
          "height": 34
        }
      },
      "source": [
        "# Bu işlemi tek satırlık bir kodla yapabiliriz.\n",
        "\n",
        "daha_yeni_liste=[sayi+1 for sayi in liste] # ilk parçasında liste üyelerine yapılacak işi, sonrasında değişkenin tanımı bulunmakta.\n",
        "print(daha_yeni_liste)"
      ],
      "execution_count": 0,
      "outputs": [
        {
          "output_type": "stream",
          "text": [
            "[16, 19, 3, 70, 35, 76]\n"
          ],
          "name": "stdout"
        }
      ]
    },
    {
      "cell_type": "code",
      "metadata": {
        "id": "_K1mNpp7JXlK",
        "colab_type": "code",
        "colab": {}
      },
      "source": [
        "# Bu yöntem sadece listeler için değil tüm iterable objeler için geçerlidir.  "
      ],
      "execution_count": 0,
      "outputs": []
    },
    {
      "cell_type": "code",
      "metadata": {
        "id": "5ca9OkXEJv2G",
        "colab_type": "code",
        "outputId": "eca10bba-f614-45d6-a2f3-15c88ed680cc",
        "colab": {
          "base_uri": "https://localhost:8080/",
          "height": 34
        }
      },
      "source": [
        "#İçe içe döngüler de bu yöntemle yazılabilir.\n",
        "pairs_1=[]\n",
        "for num1 in range(0,2):\n",
        "  for num2 in range(6,8):\n",
        "    pairs_1.append((num1,num2))\n",
        "\n",
        "print(pairs_1)"
      ],
      "execution_count": 0,
      "outputs": [
        {
          "output_type": "stream",
          "text": [
            "[(0, 6), (0, 7), (1, 6), (1, 7)]\n"
          ],
          "name": "stdout"
        }
      ]
    },
    {
      "cell_type": "code",
      "metadata": {
        "id": "J58IcHMcKq4u",
        "colab_type": "code",
        "outputId": "45d234da-6d54-450a-c933-64ab31b6ea60",
        "colab": {
          "base_uri": "https://localhost:8080/",
          "height": 34
        }
      },
      "source": [
        "# Yukarıda yapılmış for döngüsü ile yapılmış olanın list comprehensions ile aşağıdaki gibi tek satırda yazarız.\n",
        "pairs_2=[(num1,num2) for num1 in range(0,2) for num2 in range(6,8)]\n",
        "print(pairs_2)"
      ],
      "execution_count": 0,
      "outputs": [
        {
          "output_type": "stream",
          "text": [
            "[(0, 6), (0, 7), (1, 6), (1, 7)]\n"
          ],
          "name": "stdout"
        }
      ]
    },
    {
      "cell_type": "code",
      "metadata": {
        "id": "ew6bM661LcJc",
        "colab_type": "code",
        "outputId": "ca53f7a8-6f60-43ee-b273-553ff43c786a",
        "colab": {
          "base_uri": "https://localhost:8080/",
          "height": 101
        }
      },
      "source": [
        "# 4x4 matris oluşturma örneği\n",
        "matris=[[col for col in range(5)] for row in range(5)]\n",
        "\n",
        "matris\n"
      ],
      "execution_count": 0,
      "outputs": [
        {
          "output_type": "execute_result",
          "data": {
            "text/plain": [
              "[[0, 1, 2, 3, 4],\n",
              " [0, 1, 2, 3, 4],\n",
              " [0, 1, 2, 3, 4],\n",
              " [0, 1, 2, 3, 4],\n",
              " [0, 1, 2, 3, 4]]"
            ]
          },
          "metadata": {
            "tags": []
          },
          "execution_count": 16
        }
      ]
    },
    {
      "cell_type": "code",
      "metadata": {
        "id": "nDGxLaSmOq98",
        "colab_type": "code",
        "outputId": "451cb81d-d814-45f2-a887-6466c25c4dfd",
        "colab": {
          "base_uri": "https://localhost:8080/",
          "height": 34
        }
      },
      "source": [
        "#Advanced comprehensions\n",
        "test_1=[num**2 for num in range(10) if num%2==0]\n",
        "print(test_1)"
      ],
      "execution_count": 0,
      "outputs": [
        {
          "output_type": "stream",
          "text": [
            "[0, 4, 16, 36, 64]\n"
          ],
          "name": "stdout"
        }
      ]
    },
    {
      "cell_type": "code",
      "metadata": {
        "id": "29cOex2rb4K6",
        "colab_type": "code",
        "outputId": "c8a15042-8c6c-4dfd-c707-6514cadb8f49",
        "colab": {
          "base_uri": "https://localhost:8080/",
          "height": 34
        }
      },
      "source": [
        "test_2=[num**2 if num%2==0 else 0 for num in range(20)]\n",
        "print(test_2)"
      ],
      "execution_count": 0,
      "outputs": [
        {
          "output_type": "stream",
          "text": [
            "[0, 0, 4, 0, 16, 0, 36, 0, 64, 0, 100, 0, 144, 0, 196, 0, 256, 0, 324, 0]\n"
          ],
          "name": "stdout"
        }
      ]
    },
    {
      "cell_type": "code",
      "metadata": {
        "id": "A4gknbVncWJP",
        "colab_type": "code",
        "outputId": "26e70934-fd22-4b1c-83ff-2577b26ef598",
        "colab": {
          "base_uri": "https://localhost:8080/",
          "height": 51
        }
      },
      "source": [
        "# Dictionary Comprehensions \n",
        "# Dictionary yarartmak için kullanılabilir. 2 fark dışında tüm söz dizimi aynıdır. \n",
        "# *[] yerine {} kullanılır.\n",
        "# * İkinci fark değişkenden sonra : kullanılır\n",
        "\n",
        "pos_neg={num:-num for num in range(20)}\n",
        "print(pos_neg)\n",
        "print(type(pos_neg))"
      ],
      "execution_count": 0,
      "outputs": [
        {
          "output_type": "stream",
          "text": [
            "{0: 0, 1: -1, 2: -2, 3: -3, 4: -4, 5: -5, 6: -6, 7: -7, 8: -8, 9: -9, 10: -10, 11: -11, 12: -12, 13: -13, 14: -14, 15: -15, 16: -16, 17: -17, 18: -18, 19: -19}\n",
            "<class 'dict'>\n"
          ],
          "name": "stdout"
        }
      ]
    },
    {
      "cell_type": "markdown",
      "metadata": {
        "id": "M-Wt4tNghsNo",
        "colab_type": "text"
      },
      "source": [
        "# Generator #\n",
        "List Comprehensions ile aynı syntax ile yaratılır. Tek farkla o da [ ] yerine ( ) kullanılır. Yazımdaki bu ufak farkın ötesinde üretimde çok önemli bir fark vardır o da memory içinde bir yer kaplamamasıdır. Bunun her bir iterasyon sırasında sadece ilgili değeri yaratarak yapar. Bir liste gibi tek seferde memory üzerinde yer almaz.\n",
        "\n",
        "Yaratılmış bir generatorı list() fonksiyonu ile liste haline getirebiliriz.\n",
        "\n",
        "** Generator fonksiyonlar **\n",
        "\n",
        "Bu fonksiyonlar aynı şekilde tanımlanır iken değer dönüşlerini return ile değil ***yield*** ile yaparlar. Bu şekilde ilgilil fonsiyonun generator object döner."
      ]
    },
    {
      "cell_type": "code",
      "metadata": {
        "id": "g2I0N5HHi4k8",
        "colab_type": "code",
        "outputId": "16f0ed8d-5733-40d5-eee6-12b2b2bda363",
        "colab": {
          "base_uri": "https://localhost:8080/",
          "height": 34
        }
      },
      "source": [
        "test_list=[num**2 for num in range(20)]\n",
        "print(test_list)"
      ],
      "execution_count": 0,
      "outputs": [
        {
          "output_type": "stream",
          "text": [
            "[0, 1, 4, 9, 16, 25, 36, 49, 64, 81, 100, 121, 144, 169, 196, 225, 256, 289, 324, 361]\n"
          ],
          "name": "stdout"
        }
      ]
    },
    {
      "cell_type": "code",
      "metadata": {
        "id": "r0216VMgjCk2",
        "colab_type": "code",
        "outputId": "d0090885-5c6d-48b7-ccda-b4d446281a54",
        "colab": {
          "base_uri": "https://localhost:8080/",
          "height": 34
        }
      },
      "source": [
        "test_gen=(num**2 for num in range(20))\n",
        "print(test_gen) # Buradaki değer dönmeyecektir. Ve obkje tipi dönecektir. Değerleri oluşturmadığı için böyle davranır. Değerleri görmek için iterasyon yapmak yada liste çevirmek lazım.\n",
        "#print(list(test_gen)) "
      ],
      "execution_count": 0,
      "outputs": [
        {
          "output_type": "stream",
          "text": [
            "<generator object <genexpr> at 0x7fd236375db0>\n"
          ],
          "name": "stdout"
        }
      ]
    },
    {
      "cell_type": "code",
      "metadata": {
        "id": "r53VeIvNjKyc",
        "colab_type": "code",
        "outputId": "53c6d4e2-eab8-43ae-85b5-893df2a75fc1",
        "colab": {
          "base_uri": "https://localhost:8080/",
          "height": 361
        }
      },
      "source": [
        "for i in test_gen:\n",
        "  print(i)"
      ],
      "execution_count": 0,
      "outputs": [
        {
          "output_type": "stream",
          "text": [
            "0\n",
            "1\n",
            "4\n",
            "9\n",
            "16\n",
            "25\n",
            "36\n",
            "49\n",
            "64\n",
            "81\n",
            "100\n",
            "121\n",
            "144\n",
            "169\n",
            "196\n",
            "225\n",
            "256\n",
            "289\n",
            "324\n",
            "361\n"
          ],
          "name": "stdout"
        }
      ]
    },
    {
      "cell_type": "code",
      "metadata": {
        "id": "Sxg4sA8zjj-W",
        "colab_type": "code",
        "outputId": "7b4069ef-ba5c-4325-d404-2b5e5efa5041",
        "colab": {
          "base_uri": "https://localhost:8080/",
          "height": 34
        }
      },
      "source": [
        "print(list(test_gen))# Bir kere kullanıldıktan sonra daha sonra değerlere ulaşılmaz olacaktır. Bir üst satırda değerleri çağırdığım için boş gelir."
      ],
      "execution_count": 0,
      "outputs": [
        {
          "output_type": "stream",
          "text": [
            "[]\n"
          ],
          "name": "stdout"
        }
      ]
    },
    {
      "cell_type": "code",
      "metadata": {
        "id": "ZOQSvn8ajqVc",
        "colab_type": "code",
        "colab": {}
      },
      "source": [
        "# List vs Generator Memory Farkı\n",
        "test_big=[num**2 for num in range(10**1000000)] # Bu liste yaratılamayacaktır var olan memory miktarı ile."
      ],
      "execution_count": 0,
      "outputs": []
    },
    {
      "cell_type": "code",
      "metadata": {
        "id": "uX3tDWYqkheO",
        "colab_type": "code",
        "colab": {}
      },
      "source": [
        "test_big_gen=(num**2 for num in range(10**1000000)) # Böyle bir liste ile çalışmak istenirse bir generator ile bu iş yaratılabilir."
      ],
      "execution_count": 0,
      "outputs": []
    },
    {
      "cell_type": "code",
      "metadata": {
        "id": "5Pqd5x1Npj-k",
        "colab_type": "code",
        "colab": {}
      },
      "source": [
        "def num_sequence(n):\n",
        "  \"\"\" 1'den n'e kadar değerler yaratır\"\"\"\n",
        "  i=0\n",
        "  while i<n:\n",
        "    yield i\n",
        "    i+=1"
      ],
      "execution_count": 0,
      "outputs": []
    },
    {
      "cell_type": "code",
      "metadata": {
        "id": "la6FbaqHqLS_",
        "colab_type": "code",
        "outputId": "748887b0-0948-4fe2-b371-2c8ea5236991",
        "colab": {
          "base_uri": "https://localhost:8080/",
          "height": 34
        }
      },
      "source": [
        "print(num_sequence(10)) # Fonksiyon çağırıldığında generator object döner"
      ],
      "execution_count": 0,
      "outputs": [
        {
          "output_type": "stream",
          "text": [
            "<generator object num_sequence at 0x7f40313e60f8>\n"
          ],
          "name": "stdout"
        }
      ]
    },
    {
      "cell_type": "code",
      "metadata": {
        "id": "0OiNeN07qOu1",
        "colab_type": "code",
        "outputId": "b0b5a6bb-4401-40d0-80a7-a638e3e783a5",
        "colab": {
          "base_uri": "https://localhost:8080/",
          "height": 34
        }
      },
      "source": [
        "print(list(num_sequence(20)))"
      ],
      "execution_count": 0,
      "outputs": [
        {
          "output_type": "stream",
          "text": [
            "[0, 1, 2, 3, 4, 5, 6, 7, 8, 9, 10, 11, 12, 13, 14, 15, 16, 17, 18, 19]\n"
          ],
          "name": "stdout"
        }
      ]
    },
    {
      "cell_type": "code",
      "metadata": {
        "id": "Vi_zAcgHqbAz",
        "colab_type": "code",
        "colab": {}
      },
      "source": [
        ""
      ],
      "execution_count": 0,
      "outputs": []
    }
  ]
}