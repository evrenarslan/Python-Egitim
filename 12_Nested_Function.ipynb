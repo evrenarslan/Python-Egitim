{
 "cells": [
  {
   "cell_type": "markdown",
   "metadata": {},
   "source": [
    "# Nested Function #\n",
    "\n",
    "Python ile fonksiyonları iç içe kullanabiliriz. Yani bir fonksiyonunun içinde başka fonksiyonlar yazarak onları kullanabiliriz."
   ]
  },
  {
   "cell_type": "code",
   "execution_count": 3,
   "metadata": {},
   "outputs": [],
   "source": [
    "def fonk_outer(x):\n",
    "    def fonk_inner(n): # içeride yazılan fonksiyon\n",
    "        t=n**2\n",
    "        return(t)\n",
    "    sonuc = fonk_inner(x) # içeride yazılan fonksiyonu çağırıyoruz.\n",
    "    return(sonuc)\n"
   ]
  },
  {
   "cell_type": "code",
   "execution_count": 2,
   "metadata": {},
   "outputs": [
    {
     "data": {
      "text/plain": [
       "25"
      ]
     },
     "execution_count": 2,
     "metadata": {},
     "output_type": "execute_result"
    }
   ],
   "source": [
    "fonk_outer(5)"
   ]
  },
  {
   "cell_type": "markdown",
   "metadata": {},
   "source": [
    "***İçerideki fonksiyona dışarıdan parametre göndermek***\n",
    "\n",
    "içeride yazılan bir fonksiyona ana fonksiyonunun dışından parametre göndermek mümkündür. Bunun için dışarıdaki fonksiyonunu ***return*** ile iç fonksiyounun kendisini dönmek sonrasında ise dış fonksiyonu çağırırken onun atadığımız objeye parametre göndererek yapabiliriz."
   ]
  },
  {
   "cell_type": "code",
   "execution_count": 4,
   "metadata": {},
   "outputs": [
    {
     "name": "stdout",
     "output_type": "stream",
     "text": [
      "EvrenEvren\n"
     ]
    }
   ],
   "source": [
    "def fonk_echo(n):\n",
    "    '''Belirtilen herhangi bir kelimeyi belirtilen sayıda tekrarlar'''\n",
    "    def fonk_echo_word(word1):\n",
    "        sonuc=word1*n\n",
    "        return sonuc\n",
    "    return fonk_echo_word # Burada dikkat edilmesi gereken kısım return ile inner fonksiyonu döndük\n",
    "\n",
    "iki_kere = fonk_echo(2) # Vereceğimiz kelimeyi iki kere yazması için 2 değeri ile ana fonksiyonu çağırdık.\n",
    "sonuc_iki=iki_kere(\"Evren\") # Evren kelimesini yazması için bu parametreyi gönderdik.\n",
    "print(sonuc_iki)"
   ]
  },
  {
   "cell_type": "markdown",
   "metadata": {},
   "source": [
    "=>> İç fonksiyon içerisinden dışarıda yaratılmış bir değişkeni değiştirmek için ***nonlocal*** olarak değişkeni tanımlayabiliriz."
   ]
  },
  {
   "cell_type": "code",
   "execution_count": 5,
   "metadata": {},
   "outputs": [
    {
     "name": "stdout",
     "output_type": "stream",
     "text": [
      "hellohello\n",
      "hellohello!!!\n"
     ]
    }
   ],
   "source": [
    "# Define echo_shout()\n",
    "def echo_shout(word):\n",
    "    \"\"\"Change the value of a nonlocal variable\"\"\"\n",
    "    \n",
    "    # Concatenate word with itself: echo_word\n",
    "    echo_word=word*2\n",
    "    \n",
    "    # Print echo_word\n",
    "    print(echo_word)\n",
    "    \n",
    "    # Define inner function shout()\n",
    "    def shout():\n",
    "        \"\"\"Alter a variable in the enclosing scope\"\"\"    \n",
    "        # Use echo_word in nonlocal scope\n",
    "        nonlocal echo_word\n",
    "        \n",
    "        # Change echo_word to echo_word concatenated with '!!!'\n",
    "        echo_word = echo_word+'!!!'\n",
    "    \n",
    "    # Call function shout()\n",
    "    shout()\n",
    "    \n",
    "    # Print echo_word\n",
    "    print(echo_word)\n",
    "\n",
    "# Call function echo_shout() with argument 'hello'\n",
    "echo_shout('hello')"
   ]
  },
  {
   "cell_type": "code",
   "execution_count": null,
   "metadata": {},
   "outputs": [],
   "source": []
  }
 ],
 "metadata": {
  "kernelspec": {
   "display_name": "Python 3",
   "language": "python",
   "name": "python3"
  },
  "language_info": {
   "codemirror_mode": {
    "name": "ipython",
    "version": 3
   },
   "file_extension": ".py",
   "mimetype": "text/x-python",
   "name": "python",
   "nbconvert_exporter": "python",
   "pygments_lexer": "ipython3",
   "version": "3.7.4"
  }
 },
 "nbformat": 4,
 "nbformat_minor": 2
}
